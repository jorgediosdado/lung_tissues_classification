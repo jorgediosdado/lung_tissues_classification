{
 "cells": [
  {
   "cell_type": "code",
   "execution_count": 1,
   "metadata": {},
   "outputs": [],
   "source": [
    "%load_ext autoreload\n",
    "%autoreload 2"
   ]
  },
  {
   "cell_type": "code",
   "execution_count": 2,
   "metadata": {},
   "outputs": [
    {
     "name": "stderr",
     "output_type": "stream",
     "text": [
      "2023-12-25 19:40:37.391649: I tensorflow/core/platform/cpu_feature_guard.cc:151] This TensorFlow binary is optimized with oneAPI Deep Neural Network Library (oneDNN) to use the following CPU instructions in performance-critical operations:  AVX2 AVX512F FMA\n",
      "To enable them in other operations, rebuild TensorFlow with the appropriate compiler flags.\n",
      "2023-12-25 19:40:37.817478: I tensorflow/core/common_runtime/gpu/gpu_device.cc:1525] Created device /job:localhost/replica:0/task:0/device:GPU:0 with 224 MB memory:  -> device: 1, name: NVIDIA GeForce RTX 2080 Ti, pci bus id: 0000:68:00.0, compute capability: 7.5\n"
     ]
    },
    {
     "data": {
      "text/plain": [
       "PhysicalDevice(name='/physical_device:GPU:1', device_type='GPU')"
      ]
     },
     "execution_count": 2,
     "metadata": {},
     "output_type": "execute_result"
    }
   ],
   "source": [
    "from ZGlobalLib.gpu_utils import use_gpu\n",
    "use_gpu(1)"
   ]
  },
  {
   "cell_type": "code",
   "execution_count": 3,
   "metadata": {},
   "outputs": [],
   "source": [
    "from histolungs import *"
   ]
  },
  {
   "cell_type": "markdown",
   "metadata": {
    "jp-MarkdownHeadingCollapsed": true,
    "tags": []
   },
   "source": [
    "# Test"
   ]
  },
  {
   "cell_type": "raw",
   "metadata": {},
   "source": [
    "root_directory = \"data/dataset_2_final/\"\n",
    "test_directory = \"data/validation_final_septiembre/\"\n",
    "pretrain_dir = None\n",
    "exclude_pd = False\n",
    "resolution = 'public'\n",
    "class_type = 'micro'\n",
    "\n",
    "image_paths = get_files(root_directory, resolution=resolution, exclude_pd=exclude_pd)\n",
    "class_names, class2int, labels = get_classes_labels(root_directory, image_paths, class_type, exclude_pd=exclude_pd)\n",
    "num_classes = len(class2int)\n",
    "train_generator, val_generator = get_generators(image_paths, labels, num_classes=num_classes, resolution=resolution)\n",
    "class_weights = compute_weights(train_generator)"
   ]
  },
  {
   "cell_type": "raw",
   "metadata": {},
   "source": [
    "train_generator.show_generator()"
   ]
  },
  {
   "cell_type": "raw",
   "metadata": {},
   "source": [
    "val_generator.show_generator()"
   ]
  },
  {
   "cell_type": "raw",
   "metadata": {},
   "source": [
    "train_generator[0][0].shape"
   ]
  },
  {
   "cell_type": "raw",
   "metadata": {},
   "source": [
    "val_generator[0][0].shape"
   ]
  },
  {
   "cell_type": "raw",
   "metadata": {},
   "source": [
    "model = get_model(num_classes, resolution=resolution)"
   ]
  },
  {
   "cell_type": "raw",
   "metadata": {},
   "source": [
    "resname = resolution if resolution is not None else 'all'\n",
    "MODEL_NAME = f'Ef0_{resname}_{num_classes}_classes_excpd{int(exclude_pd)}'\n",
    "RUN_NAME = ''\n",
    "log_dir = f'logs/{datetime.datetime.now().strftime(\"%Y%m%d-%H%M%S\")}/{MODEL_NAME}{RUN_NAME}'\n",
    "print(log_dir)"
   ]
  },
  {
   "cell_type": "raw",
   "metadata": {
    "jupyter": {
     "outputs_hidden": true
    },
    "tags": []
   },
   "source": [
    "history = train_model(model, train_generator, val_generator, num_classes, class_weights, log_dir)\n",
    "plot_metrics(history, log_dir)"
   ]
  },
  {
   "cell_type": "raw",
   "metadata": {},
   "source": [
    "test_gen = get_test_generator(class2int, resolution, log_dir, exclude_pd=exclude_pd)\n",
    "test_gen.show_generator()"
   ]
  },
  {
   "cell_type": "raw",
   "metadata": {},
   "source": [
    "test_labels = np.concatenate([np.argmax(t[1], 1) for t in test_gen])"
   ]
  },
  {
   "cell_type": "raw",
   "metadata": {},
   "source": [
    "test_labels"
   ]
  },
  {
   "cell_type": "raw",
   "metadata": {},
   "source": [
    "test_model(model, test_gen, log_dir, class2int.keys())"
   ]
  },
  {
   "cell_type": "raw",
   "metadata": {},
   "source": [
    "dict(zip(model.metrics_names, test_model(model, test_gen, log_dir)))"
   ]
  },
  {
   "cell_type": "markdown",
   "metadata": {},
   "source": [
    "# Evaluation"
   ]
  },
  {
   "cell_type": "code",
   "execution_count": 4,
   "metadata": {
    "tags": []
   },
   "outputs": [],
   "source": [
    "def train_evaluate(class_type, resolution,\n",
    "                   public_directory = 'data/public_dataset/',\n",
    "                   root_directory = \"data/dataset_2_final/\", \n",
    "                   test_directory = \"data/validation_final_septiembre/\",\n",
    "                   pretrain_dir = None,\n",
    "                   exclude_pd = False\n",
    "                  ):\n",
    "    \n",
    "    if resolution == 'public':\n",
    "        root_directory = public_directory\n",
    "    \n",
    "    resname = resolution if resolution is not None else 'all'\n",
    "    \n",
    "    image_paths = get_files(root_directory, resolution=resolution, exclude_pd=exclude_pd)\n",
    "    class_names, class2int, labels = get_classes_labels(root_directory, image_paths, class_type, exclude_pd=exclude_pd)\n",
    "    \n",
    "    num_classes = len(class2int)\n",
    "    \n",
    "    display_markdown(f'## Evaluating {resname} resolution, {num_classes} classes, exc pd {exclude_pd}', raw=True)\n",
    "    \n",
    "    train_generator, val_generator = get_generators(image_paths, labels, num_classes=num_classes, resolution=resolution)\n",
    "    class_weights = compute_weights(train_generator)\n",
    "\n",
    "    model = get_model(num_classes, resolution=resolution)\n",
    "    \n",
    "    if pretrain_dir is not None:\n",
    "        model.load_weights(pretrain_dir)\n",
    "    \n",
    "    MODEL_NAME = f'NewEf0_{resname}_{num_classes}_classes_excpd{int(exclude_pd)}'\n",
    "    RUN_NAME = ''\n",
    "    log_dir = f'logs/{datetime.datetime.now().strftime(\"%Y%m%d-%H%M%S\")}/{MODEL_NAME}{RUN_NAME}'\n",
    "    print(log_dir)\n",
    "    \n",
    "    history = train_model(model, train_generator, val_generator, num_classes, class_weights, log_dir)\n",
    "    \n",
    "    plot_metrics(history, log_dir)\n",
    "    \n",
    "    test_gen = get_test_generator(class2int, resolution, log_dir, exclude_pd=exclude_pd, test_directory=test_directory)\n",
    "    test_model(model, test_gen, log_dir, class_names)"
   ]
  },
  {
   "cell_type": "code",
   "execution_count": null,
   "metadata": {
    "tags": []
   },
   "outputs": [
    {
     "data": {
      "text/markdown": [
       "## Evaluating 20x resolution, 3 classes, exc pd True"
      ]
     },
     "metadata": {},
     "output_type": "display_data"
    },
    {
     "data": {
      "application/vnd.jupyter.widget-view+json": {
       "model_id": "",
       "version_major": 2,
       "version_minor": 0
      },
      "text/plain": [
       "  0%|          | 0/34 [00:00<?, ?it/s]"
      ]
     },
     "metadata": {},
     "output_type": "display_data"
    },
    {
     "name": "stdout",
     "output_type": "stream",
     "text": [
      "logs/20231219-075847/NewEf0_20x_3_classes_excpd1\n"
     ]
    },
    {
     "data": {
      "application/vnd.jupyter.widget-view+json": {
       "model_id": "f0b26346c2b1480b9f3b59f854e46680",
       "version_major": 2,
       "version_minor": 0
      },
      "text/plain": [
       "0epoch [00:00, ?epoch/s]"
      ]
     },
     "metadata": {},
     "output_type": "display_data"
    },
    {
     "data": {
      "application/vnd.jupyter.widget-view+json": {
       "model_id": "64fe018a91db4dc48e93eb75064d1fe8",
       "version_major": 2,
       "version_minor": 0
      },
      "text/plain": [
       "0batch [00:00, ?batch/s]"
      ]
     },
     "metadata": {},
     "output_type": "display_data"
    },
    {
     "name": "stderr",
     "output_type": "stream",
     "text": [
      "2023-12-19 07:58:50.910008: I tensorflow/stream_executor/cuda/cuda_dnn.cc:368] Loaded cuDNN version 8100\n"
     ]
    }
   ],
   "source": [
    "for resolution, classes, poco_dif in [('20x', ['macro','micro'], [True, False]), \n",
    "                                      ('40x', ['macro','micro'], [True, False]), \n",
    "                                      (None, ['macro','micro'], [True, False]), \n",
    "                                      ('public', ['macro'], [False])]:\n",
    "    for class_type in classes:\n",
    "        for exclude_pd in poco_dif:\n",
    "            # for pretrain_dir in pretrains:\n",
    "            train_evaluate(class_type=class_type, resolution=resolution, exclude_pd=exclude_pd)"
   ]
  }
 ],
 "metadata": {
  "kernelspec": {
   "display_name": "Python 3 (ipykernel)",
   "language": "python",
   "name": "python3"
  },
  "language_info": {
   "codemirror_mode": {
    "name": "ipython",
    "version": 3
   },
   "file_extension": ".py",
   "mimetype": "text/x-python",
   "name": "python",
   "nbconvert_exporter": "python",
   "pygments_lexer": "ipython3",
   "version": "3.9.10"
  }
 },
 "nbformat": 4,
 "nbformat_minor": 4
}
