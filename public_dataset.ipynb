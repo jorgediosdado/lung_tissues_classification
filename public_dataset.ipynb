{
 "cells": [
  {
   "cell_type": "code",
   "execution_count": 2,
   "metadata": {},
   "outputs": [],
   "source": [
    "import os\n",
    "import tensorflow as tf\n",
    "from keras import models\n",
    "from keras import layers\n",
    "from keras import Sequential\n",
    "from datetime import datetime\n",
    "from PIL import Image\n",
    "import numpy as np\n",
    "import keras.backend as K\n",
    "import matplotlib.pyplot as plt\n",
    "import mlflow\n",
    "from tensorflow.keras.layers.experimental import preprocessing\n",
    "from tensorflow.keras.applications import EfficientNetB5\n",
    "from tensorflow.keras.utils import plot_model\n",
    "from matplotlib import pyplot as plt\n",
    "from keras.models import Model\n",
    "from sklearn.metrics import confusion_matrix, ConfusionMatrixDisplay, precision_score, recall_score, accuracy_score\n"
   ]
  },
  {
   "cell_type": "code",
   "execution_count": 3,
   "metadata": {},
   "outputs": [],
   "source": [
    "dataset_name = \"private_combined\"\n",
    "batch_size = 64"
   ]
  },
  {
   "cell_type": "code",
   "execution_count": 4,
   "metadata": {},
   "outputs": [
    {
     "name": "stdout",
     "output_type": "stream",
     "text": [
      "Found 2791 files belonging to 3 classes.\n",
      "Using 2233 files for training.\n",
      "Found 2791 files belonging to 3 classes.\n",
      "Using 558 files for validation.\n"
     ]
    }
   ],
   "source": [
    "# Load the dataset\n",
    "\n",
    "image_size = (255, 255)\n",
    "\n",
    "train_ds = tf.keras.preprocessing.image_dataset_from_directory(\n",
    "    dataset_name,\n",
    "    validation_split=0.2,\n",
    "    subset=\"training\",\n",
    "    label_mode = 'int',\n",
    "    labels = 'inferred',\n",
    "    seed=1336,\n",
    "    image_size=image_size,\n",
    "    interpolation = 'bilinear',\n",
    "    batch_size=batch_size,\n",
    "    shuffle = True,\n",
    ")\n",
    "\n",
    "\n",
    "val_ds = tf.keras.preprocessing.image_dataset_from_directory(\n",
    "    dataset_name,\n",
    "    validation_split=0.2,\n",
    "    subset=\"validation\",\n",
    "    label_mode = 'int',\n",
    "    labels = 'inferred',\n",
    "    seed=1336,\n",
    "    image_size=image_size,\n",
    "    interpolation = 'bilinear',\n",
    "    batch_size=batch_size,\n",
    "    shuffle = True,\n",
    ")\n"
   ]
  },
  {
   "cell_type": "code",
   "execution_count": 5,
   "metadata": {},
   "outputs": [],
   "source": [
    "# Obtain the number of samples\n",
    "num_train_samples = 0\n",
    "for images, labels in train_ds:\n",
    "    num_train_samples += images.shape[0]\n",
    "\n",
    "num_val_samples = 0\n",
    "for images, labels in val_ds:\n",
    "    num_val_samples += images.shape[0]\n",
    "\n",
    "\n"
   ]
  },
  {
   "cell_type": "code",
   "execution_count": 6,
   "metadata": {},
   "outputs": [
    {
     "name": "stdout",
     "output_type": "stream",
     "text": [
      "Number of training samples: 2233\n",
      "Number of validation samples: 558\n"
     ]
    }
   ],
   "source": [
    "print(\"Number of training samples:\", num_train_samples)\n",
    "print(\"Number of validation samples:\", num_val_samples)\n"
   ]
  },
  {
   "cell_type": "code",
   "execution_count": 7,
   "metadata": {},
   "outputs": [],
   "source": [
    "imput = (255,255,3)"
   ]
  },
  {
   "cell_type": "code",
   "execution_count": 8,
   "metadata": {},
   "outputs": [
    {
     "name": "stdout",
     "output_type": "stream",
     "text": [
      "Model: \"model\"\n",
      "_________________________________________________________________\n",
      "Layer (type)                 Output Shape              Param #   \n",
      "=================================================================\n",
      "input_2 (InputLayer)         [(None, 255, 255, 3)]     0         \n",
      "_________________________________________________________________\n",
      "sequential (Sequential)      (None, 255, 255, 3)       0         \n",
      "_________________________________________________________________\n",
      "efficientnetb5 (Functional)  (None, 2048)              28513527  \n",
      "_________________________________________________________________\n",
      "dense (Dense)                (None, 512)               1049088   \n",
      "_________________________________________________________________\n",
      "dense_1 (Dense)              (None, 3)                 1539      \n",
      "=================================================================\n",
      "Total params: 29,564,154\n",
      "Trainable params: 4,073,475\n",
      "Non-trainable params: 25,490,679\n",
      "_________________________________________________________________\n"
     ]
    }
   ],
   "source": [
    "base_model = EfficientNetB5(include_top = False ,weights='imagenet', pooling='avg')\n",
    "\n",
    "#todo introduce a layer of data augmentation \n",
    "\n",
    "# Introduce a layer of data augmentation\n",
    "data_augmentation = Sequential([\n",
    "   preprocessing.RandomRotation(0.2),\n",
    "    preprocessing.RandomFlip(\"horizontal\"),\n",
    "    preprocessing.RandomZoom(0.2),\n",
    "    preprocessing.RandomContrast(0.2),\n",
    "    preprocessing.RandomTranslation(0.2, 0.2),    \n",
    "])\n",
    "\n",
    "\n",
    "\n",
    "# Freeze all layers in the base model\n",
    "for layer in base_model.layers:\n",
    "    layer.trainable = False\n",
    "\n",
    "# Unfreeze the last 10 layers in the base model for fine-tuning\n",
    "\n",
    "for layer in base_model.layers[-10:]:\n",
    "    layer.trainable = True\n",
    "\n",
    "#Capa de entradas. No se si eficientnet ya espera 225x225 o es 224 x 224. En realidad la efficient net ya tiene un parametro de input shape...\n",
    "# Capa de entradas\n",
    "\n",
    "entradas = layers.Input((255, 255, 3))\n",
    "\n",
    "# Apply data augmentation to the input images\n",
    "x = data_augmentation(entradas)\n",
    "\n",
    "\n",
    "# Pass the augmented images through the base model\n",
    "x = base_model(x)\n",
    "\n",
    "\n",
    "# Add a dense layer\n",
    "x = layers.Dense(512, activation='relu')(x)\n",
    "# Add another dense layer\n",
    "salidas = layers.Dense(3, activation='softmax')(x)\n",
    "\n",
    "modelo = Model(inputs = entradas, outputs = salidas)\n",
    "\n",
    "modelo.compile(optimizer = 'adam', loss = 'sparse_categorical_crossentropy', metrics = ['accuracy'])\n",
    "modelo.summary()\n",
    "\n",
    "\n"
   ]
  },
  {
   "cell_type": "code",
   "execution_count": 9,
   "metadata": {},
   "outputs": [
    {
     "name": "stdout",
     "output_type": "stream",
     "text": [
      "Number of parameters: 29564154\n"
     ]
    }
   ],
   "source": [
    "num_params = modelo.count_params()\n",
    "print(\"Number of parameters:\", num_params)\n",
    "\n"
   ]
  },
  {
   "cell_type": "code",
   "execution_count": 10,
   "metadata": {},
   "outputs": [],
   "source": [
    "folder_date = 'old_models/' +  datetime.now().strftime(\"%Y_%m_%d-%I_%M_%S_%p\")\n",
    "os.mkdir(folder_date)\n",
    "filepath_model = folder_date + '/my_best_model.epoch{epoch:02d}-loss{val_loss:.2f}.hdf5'\n"
   ]
  },
  {
   "attachments": {},
   "cell_type": "markdown",
   "metadata": {},
   "source": [
    "# Callbacks"
   ]
  },
  {
   "cell_type": "code",
   "execution_count": 11,
   "metadata": {},
   "outputs": [],
   "source": [
    "model_checkpoint_callback = tf.keras.callbacks.ModelCheckpoint(\n",
    "filepath=filepath_model,\n",
    "save_weights_only=False,\n",
    "monitor='val_accuracy',\n",
    "mode='max',\n",
    "save_freq=\"epoch\",\n",
    "save_best_only=True)"
   ]
  },
  {
   "cell_type": "code",
   "execution_count": 12,
   "metadata": {},
   "outputs": [],
   "source": [
    "early_stopping = tf.keras.callbacks.EarlyStopping(monitor='val_loss', patience=4, mode='auto', verbose = 1, )"
   ]
  },
  {
   "attachments": {},
   "cell_type": "markdown",
   "metadata": {},
   "source": [
    "## Para hacer un training con weights"
   ]
  },
  {
   "cell_type": "code",
   "execution_count": 13,
   "metadata": {},
   "outputs": [],
   "source": [
    "\n",
    "# # Calculate class weights\n",
    "# # class_weights = tf.class_weight.compute_class_weight('balanced', tf.unique(train_ds.labels)[0], train_ds.labels)\n",
    "\n",
    "# # Convert class weights to dictionary\n",
    "# # class_weights_dict = {i: weight for i, weight in enumerate(class_weights)}\n",
    "\n",
    "# # history = modelo.fit(\n",
    "# #     train_ds, epochs=epochs, validation_data=val_ds, callbacks=[model_checkpoint_callback], class_weight=class_weights_dict\n",
    "# # )"
   ]
  },
  {
   "cell_type": "code",
   "execution_count": 14,
   "metadata": {},
   "outputs": [
    {
     "name": "stdout",
     "output_type": "stream",
     "text": [
      "Epoch 1/80\n",
      "35/35 [==============================] - 83s 2s/step - loss: 0.9433 - accuracy: 0.5575 - val_loss: 0.7249 - val_accuracy: 0.6918\n"
     ]
    },
    {
     "name": "stderr",
     "output_type": "stream",
     "text": [
      "c:\\Users\\diosdadj\\Anaconda3\\envs\\ml\\lib\\site-packages\\keras\\utils\\generic_utils.py:494: CustomMaskWarning: Custom mask layers require a config and must override get_config. When loading, the custom mask layer must be passed to the custom_objects argument.\n",
      "  warnings.warn('Custom mask layers require a config and must override '\n"
     ]
    },
    {
     "name": "stdout",
     "output_type": "stream",
     "text": [
      "Epoch 2/80\n",
      "35/35 [==============================] - 47s 1s/step - loss: 0.7504 - accuracy: 0.6677 - val_loss: 1.1140 - val_accuracy: 0.5305\n",
      "Epoch 3/80\n",
      "35/35 [==============================] - 47s 1s/step - loss: 0.6900 - accuracy: 0.7094 - val_loss: 0.6720 - val_accuracy: 0.7133\n",
      "Epoch 4/80\n",
      "35/35 [==============================] - 47s 1s/step - loss: 0.6311 - accuracy: 0.7385 - val_loss: 0.6175 - val_accuracy: 0.7384\n",
      "Epoch 5/80\n",
      "35/35 [==============================] - 47s 1s/step - loss: 0.5925 - accuracy: 0.7510 - val_loss: 0.6767 - val_accuracy: 0.7186\n",
      "Epoch 6/80\n",
      "35/35 [==============================] - 46s 1s/step - loss: 0.5863 - accuracy: 0.7506 - val_loss: 0.6593 - val_accuracy: 0.7240\n",
      "Epoch 7/80\n",
      "35/35 [==============================] - 46s 1s/step - loss: 0.5231 - accuracy: 0.7900 - val_loss: 0.7812 - val_accuracy: 0.7097\n",
      "Epoch 8/80\n",
      "35/35 [==============================] - 46s 1s/step - loss: 0.5535 - accuracy: 0.7738 - val_loss: 0.5431 - val_accuracy: 0.7724\n",
      "Epoch 9/80\n",
      "35/35 [==============================] - 46s 1s/step - loss: 0.5011 - accuracy: 0.8052 - val_loss: 0.6355 - val_accuracy: 0.7491\n",
      "Epoch 10/80\n",
      "35/35 [==============================] - 46s 1s/step - loss: 0.5125 - accuracy: 0.7765 - val_loss: 0.5565 - val_accuracy: 0.7885\n",
      "Epoch 11/80\n",
      "35/35 [==============================] - 47s 1s/step - loss: 0.4626 - accuracy: 0.8110 - val_loss: 0.6546 - val_accuracy: 0.7419\n",
      "Epoch 12/80\n",
      "35/35 [==============================] - 46s 1s/step - loss: 0.4491 - accuracy: 0.8137 - val_loss: 0.5171 - val_accuracy: 0.7885\n",
      "Epoch 13/80\n",
      "35/35 [==============================] - 47s 1s/step - loss: 0.4352 - accuracy: 0.8191 - val_loss: 0.6456 - val_accuracy: 0.7688\n",
      "Epoch 14/80\n",
      "35/35 [==============================] - 46s 1s/step - loss: 0.4568 - accuracy: 0.8146 - val_loss: 0.5856 - val_accuracy: 0.7670\n",
      "Epoch 15/80\n",
      "35/35 [==============================] - 46s 1s/step - loss: 0.4396 - accuracy: 0.8222 - val_loss: 0.5725 - val_accuracy: 0.7867\n",
      "Epoch 16/80\n",
      "35/35 [==============================] - 46s 1s/step - loss: 0.4273 - accuracy: 0.8245 - val_loss: 0.5169 - val_accuracy: 0.8029\n",
      "Epoch 17/80\n",
      "35/35 [==============================] - 46s 1s/step - loss: 0.4215 - accuracy: 0.8280 - val_loss: 0.5401 - val_accuracy: 0.8065\n",
      "Epoch 18/80\n",
      "35/35 [==============================] - 46s 1s/step - loss: 0.4134 - accuracy: 0.8213 - val_loss: 0.5019 - val_accuracy: 0.8190\n",
      "Epoch 19/80\n",
      "35/35 [==============================] - 46s 1s/step - loss: 0.3931 - accuracy: 0.8500 - val_loss: 0.6134 - val_accuracy: 0.7778\n",
      "Epoch 20/80\n",
      "35/35 [==============================] - 46s 1s/step - loss: 0.3951 - accuracy: 0.8509 - val_loss: 0.5866 - val_accuracy: 0.7742\n",
      "Epoch 21/80\n",
      "35/35 [==============================] - 46s 1s/step - loss: 0.3856 - accuracy: 0.8459 - val_loss: 0.5715 - val_accuracy: 0.8011\n",
      "Epoch 22/80\n",
      "35/35 [==============================] - 46s 1s/step - loss: 0.3766 - accuracy: 0.8504 - val_loss: 0.5030 - val_accuracy: 0.7993\n",
      "Epoch 23/80\n",
      "35/35 [==============================] - 46s 1s/step - loss: 0.3927 - accuracy: 0.8437 - val_loss: 0.5204 - val_accuracy: 0.7957\n",
      "Epoch 24/80\n",
      "35/35 [==============================] - 46s 1s/step - loss: 0.3676 - accuracy: 0.8567 - val_loss: 0.4704 - val_accuracy: 0.8423\n",
      "Epoch 25/80\n",
      "35/35 [==============================] - 46s 1s/step - loss: 0.3759 - accuracy: 0.8446 - val_loss: 0.4980 - val_accuracy: 0.8136\n",
      "Epoch 26/80\n",
      "35/35 [==============================] - 47s 1s/step - loss: 0.3589 - accuracy: 0.8567 - val_loss: 0.5324 - val_accuracy: 0.8082\n",
      "Epoch 27/80\n",
      "35/35 [==============================] - 46s 1s/step - loss: 0.3662 - accuracy: 0.8598 - val_loss: 0.5501 - val_accuracy: 0.7993\n",
      "Epoch 28/80\n",
      "35/35 [==============================] - 46s 1s/step - loss: 0.3331 - accuracy: 0.8715 - val_loss: 0.4930 - val_accuracy: 0.8280\n",
      "Epoch 29/80\n",
      "35/35 [==============================] - 2567s 75s/step - loss: 0.3289 - accuracy: 0.8630 - val_loss: 0.5815 - val_accuracy: 0.8154\n",
      "Epoch 30/80\n",
      "35/35 [==============================] - 55s 2s/step - loss: 0.3365 - accuracy: 0.8688 - val_loss: 0.4402 - val_accuracy: 0.8280\n",
      "Epoch 31/80\n",
      "35/35 [==============================] - 53s 1s/step - loss: 0.3235 - accuracy: 0.8634 - val_loss: 0.4590 - val_accuracy: 0.8387\n",
      "Epoch 32/80\n",
      "35/35 [==============================] - 48s 1s/step - loss: 0.3162 - accuracy: 0.8706 - val_loss: 0.6211 - val_accuracy: 0.8118\n",
      "Epoch 33/80\n",
      "35/35 [==============================] - 46s 1s/step - loss: 0.3336 - accuracy: 0.8683 - val_loss: 0.4638 - val_accuracy: 0.8280\n",
      "Epoch 34/80\n",
      "35/35 [==============================] - 46s 1s/step - loss: 0.3216 - accuracy: 0.8804 - val_loss: 0.5045 - val_accuracy: 0.8315\n",
      "Epoch 35/80\n",
      "35/35 [==============================] - 46s 1s/step - loss: 0.2983 - accuracy: 0.8836 - val_loss: 0.5156 - val_accuracy: 0.8297\n",
      "Epoch 36/80\n",
      "35/35 [==============================] - 46s 1s/step - loss: 0.3272 - accuracy: 0.8706 - val_loss: 0.6359 - val_accuracy: 0.7903\n",
      "Epoch 37/80\n",
      "35/35 [==============================] - 46s 1s/step - loss: 0.3132 - accuracy: 0.8751 - val_loss: 0.4887 - val_accuracy: 0.8351\n",
      "Epoch 38/80\n",
      "35/35 [==============================] - 46s 1s/step - loss: 0.2833 - accuracy: 0.8854 - val_loss: 0.5932 - val_accuracy: 0.8262\n",
      "Epoch 39/80\n",
      "35/35 [==============================] - 46s 1s/step - loss: 0.2906 - accuracy: 0.8898 - val_loss: 0.6734 - val_accuracy: 0.7581\n",
      "Epoch 40/80\n",
      "35/35 [==============================] - 46s 1s/step - loss: 0.2806 - accuracy: 0.8871 - val_loss: 0.5583 - val_accuracy: 0.8369\n",
      "Epoch 41/80\n",
      "35/35 [==============================] - 46s 1s/step - loss: 0.3207 - accuracy: 0.8827 - val_loss: 0.6137 - val_accuracy: 0.7957\n",
      "Epoch 42/80\n",
      "35/35 [==============================] - 46s 1s/step - loss: 0.3043 - accuracy: 0.8724 - val_loss: 0.4735 - val_accuracy: 0.8208\n",
      "Epoch 43/80\n",
      "35/35 [==============================] - 46s 1s/step - loss: 0.2633 - accuracy: 0.8907 - val_loss: 0.4625 - val_accuracy: 0.8297\n",
      "Epoch 44/80\n",
      "35/35 [==============================] - 46s 1s/step - loss: 0.2900 - accuracy: 0.8786 - val_loss: 0.4468 - val_accuracy: 0.8513\n",
      "Epoch 45/80\n",
      "35/35 [==============================] - 46s 1s/step - loss: 0.2734 - accuracy: 0.8957 - val_loss: 0.4658 - val_accuracy: 0.8297\n",
      "Epoch 46/80\n",
      "35/35 [==============================] - 46s 1s/step - loss: 0.2685 - accuracy: 0.8934 - val_loss: 0.4437 - val_accuracy: 0.8638\n",
      "Epoch 47/80\n",
      "35/35 [==============================] - 46s 1s/step - loss: 0.2828 - accuracy: 0.8863 - val_loss: 0.5065 - val_accuracy: 0.8190\n",
      "Epoch 48/80\n",
      "35/35 [==============================] - 46s 1s/step - loss: 0.2675 - accuracy: 0.8934 - val_loss: 0.5318 - val_accuracy: 0.8280\n",
      "Epoch 49/80\n",
      "35/35 [==============================] - 46s 1s/step - loss: 0.2598 - accuracy: 0.9019 - val_loss: 0.5401 - val_accuracy: 0.8297\n",
      "Epoch 50/80\n",
      "35/35 [==============================] - 46s 1s/step - loss: 0.2661 - accuracy: 0.8930 - val_loss: 0.4136 - val_accuracy: 0.8369\n",
      "Epoch 51/80\n",
      "35/35 [==============================] - 47s 1s/step - loss: 0.2449 - accuracy: 0.9082 - val_loss: 0.4911 - val_accuracy: 0.8280\n",
      "Epoch 52/80\n",
      "35/35 [==============================] - 48s 1s/step - loss: 0.2606 - accuracy: 0.9019 - val_loss: 0.4524 - val_accuracy: 0.8315\n",
      "Epoch 53/80\n",
      "35/35 [==============================] - 47s 1s/step - loss: 0.2622 - accuracy: 0.9055 - val_loss: 0.4100 - val_accuracy: 0.8548\n",
      "Epoch 54/80\n",
      "35/35 [==============================] - 47s 1s/step - loss: 0.2399 - accuracy: 0.9064 - val_loss: 0.4429 - val_accuracy: 0.8566\n",
      "Epoch 55/80\n",
      "35/35 [==============================] - 47s 1s/step - loss: 0.2687 - accuracy: 0.8939 - val_loss: 0.5402 - val_accuracy: 0.8154\n",
      "Epoch 56/80\n",
      "35/35 [==============================] - 47s 1s/step - loss: 0.2578 - accuracy: 0.8966 - val_loss: 0.4792 - val_accuracy: 0.8262\n",
      "Epoch 57/80\n",
      "35/35 [==============================] - 46s 1s/step - loss: 0.2328 - accuracy: 0.9131 - val_loss: 0.4590 - val_accuracy: 0.8351\n",
      "Epoch 58/80\n",
      "35/35 [==============================] - 46s 1s/step - loss: 0.2335 - accuracy: 0.9158 - val_loss: 0.5165 - val_accuracy: 0.8136\n",
      "Epoch 59/80\n",
      "35/35 [==============================] - 47s 1s/step - loss: 0.2581 - accuracy: 0.9060 - val_loss: 0.5559 - val_accuracy: 0.8029\n",
      "Epoch 60/80\n",
      "35/35 [==============================] - 46s 1s/step - loss: 0.2391 - accuracy: 0.9113 - val_loss: 0.5353 - val_accuracy: 0.8262\n",
      "Epoch 61/80\n",
      "35/35 [==============================] - 46s 1s/step - loss: 0.2229 - accuracy: 0.9176 - val_loss: 0.5314 - val_accuracy: 0.8315\n",
      "Epoch 62/80\n",
      "35/35 [==============================] - 46s 1s/step - loss: 0.2570 - accuracy: 0.9024 - val_loss: 0.5234 - val_accuracy: 0.8351\n",
      "Epoch 63/80\n",
      "35/35 [==============================] - 46s 1s/step - loss: 0.2230 - accuracy: 0.9118 - val_loss: 0.5012 - val_accuracy: 0.8369\n",
      "Epoch 64/80\n",
      "35/35 [==============================] - 46s 1s/step - loss: 0.2156 - accuracy: 0.9163 - val_loss: 0.4830 - val_accuracy: 0.8459\n",
      "Epoch 65/80\n",
      "35/35 [==============================] - 46s 1s/step - loss: 0.2251 - accuracy: 0.9163 - val_loss: 0.4309 - val_accuracy: 0.8710\n",
      "Epoch 66/80\n",
      "35/35 [==============================] - 48s 1s/step - loss: 0.2140 - accuracy: 0.9180 - val_loss: 0.4603 - val_accuracy: 0.8638\n",
      "Epoch 67/80\n",
      "35/35 [==============================] - 47s 1s/step - loss: 0.2192 - accuracy: 0.9243 - val_loss: 0.4608 - val_accuracy: 0.8620\n",
      "Epoch 68/80\n",
      "35/35 [==============================] - 47s 1s/step - loss: 0.2299 - accuracy: 0.9131 - val_loss: 0.4940 - val_accuracy: 0.8369\n",
      "Epoch 69/80\n",
      "35/35 [==============================] - 47s 1s/step - loss: 0.2074 - accuracy: 0.9189 - val_loss: 0.4701 - val_accuracy: 0.8333\n",
      "Epoch 70/80\n",
      "35/35 [==============================] - 46s 1s/step - loss: 0.2108 - accuracy: 0.9163 - val_loss: 0.7120 - val_accuracy: 0.7993\n",
      "Epoch 71/80\n",
      "35/35 [==============================] - 46s 1s/step - loss: 0.2333 - accuracy: 0.9095 - val_loss: 0.4680 - val_accuracy: 0.8441\n",
      "Epoch 72/80\n",
      "35/35 [==============================] - 48s 1s/step - loss: 0.2168 - accuracy: 0.9180 - val_loss: 0.4694 - val_accuracy: 0.8638\n",
      "Epoch 73/80\n",
      "35/35 [==============================] - 46s 1s/step - loss: 0.2002 - accuracy: 0.9243 - val_loss: 0.4240 - val_accuracy: 0.8674\n",
      "Epoch 74/80\n",
      "35/35 [==============================] - 50s 1s/step - loss: 0.2142 - accuracy: 0.9203 - val_loss: 0.5415 - val_accuracy: 0.8369\n",
      "Epoch 75/80\n",
      "35/35 [==============================] - 54s 2s/step - loss: 0.2098 - accuracy: 0.9145 - val_loss: 0.4529 - val_accuracy: 0.8459\n",
      "Epoch 76/80\n",
      "35/35 [==============================] - 48s 1s/step - loss: 0.2273 - accuracy: 0.9122 - val_loss: 0.4465 - val_accuracy: 0.8656\n",
      "Epoch 77/80\n",
      "35/35 [==============================] - 49s 1s/step - loss: 0.1949 - accuracy: 0.9230 - val_loss: 0.5025 - val_accuracy: 0.8369\n",
      "Epoch 78/80\n",
      "35/35 [==============================] - 47s 1s/step - loss: 0.2000 - accuracy: 0.9225 - val_loss: 0.4931 - val_accuracy: 0.8530\n",
      "Epoch 79/80\n",
      "35/35 [==============================] - 47s 1s/step - loss: 0.1922 - accuracy: 0.9252 - val_loss: 0.4925 - val_accuracy: 0.8262\n",
      "Epoch 80/80\n",
      "35/35 [==============================] - 47s 1s/step - loss: 0.2085 - accuracy: 0.9212 - val_loss: 0.5004 - val_accuracy: 0.8441\n",
      "9/9 [==============================] - 9s 937ms/step - loss: 0.5004 - accuracy: 0.8441\n"
     ]
    }
   ],
   "source": [
    "# Start an MLflow run\n",
    "mlflow.start_run()\n",
    "\n",
    "mlflow.set_experiment('efficientnet_project_capstone')\n",
    "\n",
    "# Log the name of the dataset\n",
    "mlflow.log_param(\"dataset_name\", dataset_name)\n",
    "\n",
    "# Log the number of samples in the dataset\n",
    "#   mlflow.log_param(\"num_samples_train\", num_train_samples)\n",
    "#   mlflow.log_param(\"num_samples_train\", num_val_samples)\n",
    "\n",
    "epochs = 80\n",
    "history = modelo.fit(\n",
    "    train_ds, epochs=epochs, validation_data=val_ds, callbacks=[model_checkpoint_callback]\n",
    ")\n",
    " \n",
    "# Evaluate the model\n",
    "loss, accuracy = modelo.evaluate(val_ds)\n",
    "\n",
    "#Logging\n",
    "\n",
    "\n",
    "mlflow.log_param(\"epochs\", epochs)\n",
    "mlflow.log_param(\"batch_size\", batch_size)\n",
    "\n",
    "mlflow.log_param(\"parameters\", num_params)\n",
    "\n",
    "mlflow.log_metric(\"val_loss\", loss)\n",
    "mlflow.log_metric(\"val_accuracy\", accuracy)\n",
    "\n",
    "\n"
   ]
  },
  {
   "attachments": {},
   "cell_type": "markdown",
   "metadata": {},
   "source": []
  },
  {
   "cell_type": "code",
   "execution_count": 15,
   "metadata": {},
   "outputs": [],
   "source": [
    "#Guardo el modelo en la última epoch. Esto \n",
    "modelo.save(folder_date + '/modelo_entrenado.h5')\n"
   ]
  },
  {
   "cell_type": "code",
   "execution_count": 16,
   "metadata": {},
   "outputs": [
    {
     "name": "stdout",
     "output_type": "stream",
     "text": [
      "dict_keys(['loss', 'accuracy', 'val_loss', 'val_accuracy'])\n"
     ]
    }
   ],
   "source": [
    "history\n",
    "print(history.history.keys())"
   ]
  },
  {
   "cell_type": "code",
   "execution_count": 17,
   "metadata": {},
   "outputs": [
    {
     "data": {
      "text/plain": [
       "'old_models/2023_06_27-07_40_49_AM/accuracy.png'"
      ]
     },
     "execution_count": 17,
     "metadata": {},
     "output_type": "execute_result"
    }
   ],
   "source": [
    "folder_date + \"/accuracy.png\""
   ]
  },
  {
   "cell_type": "code",
   "execution_count": 18,
   "metadata": {},
   "outputs": [
    {
     "name": "stdout",
     "output_type": "stream",
     "text": [
      "dict_keys(['loss', 'accuracy', 'val_loss', 'val_accuracy'])\n"
     ]
    },
    {
     "data": {
      "image/png": "[encoded data removed]",
      "text/plain": [
       "<Figure size 432x288 with 1 Axes>"
      ]
     },
     "metadata": {
      "needs_background": "light"
     },
     "output_type": "display_data"
    },
    {
     "data": {
      "image/png": "[encoded data removed]",
      "text/plain": [
       "<Figure size 432x288 with 1 Axes>"
      ]
     },
     "metadata": {
      "needs_background": "light"
     },
     "output_type": "display_data"
    }
   ],
   "source": [
    "print(history.history.keys())\n",
    "\n",
    "#  \"Accuracy\"\n",
    "plt.plot(history.history['accuracy'])\n",
    "plt.plot(history.history['val_accuracy'])\n",
    "plt.title('model accuracy')\n",
    "plt.ylabel('accuracy')\n",
    "plt.xlabel('epoch')\n",
    "plt.legend(['train', 'validation'], loc='upper left')\n",
    "\n",
    "plt.text(len(history.history['accuracy'])-1, history.history['accuracy'][-1], \n",
    "         f\"Acc: {history.history['accuracy'][-1]:.4f}\", ha='center', va='bottom')\n",
    "plt.text(len(history.history['val_accuracy'])-1, history.history['val_accuracy'][-1], \n",
    "         f\"Val Acc: {history.history['val_accuracy'][-1]:.4f}\", ha='center', va='top')\n",
    "\n",
    "\n",
    "plt.savefig(folder_date + \"/accuracy.png\")\n",
    "plt.show()\n",
    "\n",
    "# \"Loss\"\n",
    "plt.plot(history.history['loss'])\n",
    "plt.plot(history.history['val_loss'])\n",
    "plt.title('model loss')\n",
    "plt.ylabel('loss')\n",
    "plt.xlabel('epoch')\n",
    "plt.legend(['train', 'validation'], loc='upper left')\n",
    "\n",
    "plt.text(len(history.history['loss'])-1, history.history['loss'][-1], \n",
    "         f\"Loss: {history.history['loss'][-1]:.4f}\", ha='center', va='bottom')\n",
    "plt.text(len(history.history['val_loss'])-1, history.history['val_loss'][-1], \n",
    "         f\"Val Loss: {history.history['val_loss'][-1]:.4f}\", ha='center', va='top')\n",
    "\n",
    "\n",
    "plt.savefig(folder_date + \"/loss.png\")\n",
    "plt.show()\n",
    "\n",
    "\n",
    "\n"
   ]
  },
  {
   "attachments": {},
   "cell_type": "markdown",
   "metadata": {},
   "source": [
    "Preguntas, cómo puedo gestionar datos que vienen de dos distribuciones distintas?\n",
    "\n"
   ]
  },
  {
   "attachments": {},
   "cell_type": "markdown",
   "metadata": {},
   "source": [
    "# This is a section to evaluate the model on te test data"
   ]
  },
  {
   "cell_type": "code",
   "execution_count": 19,
   "metadata": {},
   "outputs": [
    {
     "name": "stdout",
     "output_type": "stream",
     "text": [
      "[0, 2, 2, 0, 0, 0, 1, 0, 0, 0, 0, 1, 0, 0, 0, 0, 0, 0, 0, 0, 0, 0, 0, 0, 0, 0, 0, 1, 0, 0, 0, 0, 0, 0, 0, 0, 0, 2, 2, 1, 1, 0, 0, 2, 0, 0, 0, 0, 0, 0, 0, 1, 0, 0, 0, 0, 0, 0, 0, 0, 0, 0, 0, 0, 0, 0, 0, 0, 0, 0, 0, 0, 0, 0, 0, 0, 0, 0, 0, 0, 0, 0, 0, 0, 0, 2, 0, 1, 0, 0, 0, 0, 0, 0, 0, 0, 0, 0, 0, 0, 0, 0, 0, 0, 1, 0, 0, 0, 0, 0, 0, 0, 2, 0, 1, 0, 0, 0, 2, 0, 0, 0, 0, 2, 0, 0, 0, 0, 2, 1, 0, 0, 0, 0, 1, 0, 0, 0, 2, 2, 2, 2, 2, 0, 2, 1, 1, 0, 0, 0, 0, 2, 0, 0, 0, 0, 1, 0, 0, 1, 1, 1, 1, 1, 1, 1, 1, 1, 1, 1, 1, 1, 1, 1, 1, 1, 1, 1, 1, 1, 0, 1, 0, 1, 1, 1, 1, 1, 0, 1, 1, 1, 0, 1, 1, 1, 1, 1, 1, 1, 0, 1, 1, 1, 2, 1, 1, 1, 1, 1, 1, 0, 1, 1, 1, 1, 1, 1, 1, 1, 1, 1, 1, 1, 0, 1, 1, 1, 1, 1, 0, 1, 1, 1, 1, 1, 1, 0, 1, 1, 1, 0, 0, 1, 1, 1, 1, 1, 1, 1, 1, 1, 1, 1, 1, 1, 1, 1, 1, 1, 1, 1, 1, 1, 1, 1, 1, 1, 1, 1, 1, 1, 1, 1, 1, 1, 1, 1, 1, 2, 1, 1, 1, 1, 2, 2, 2, 2, 2, 2, 2, 2, 0, 2, 2, 2, 2, 2, 2, 2, 2, 2, 1, 2, 1, 2, 2, 0, 2, 2, 2, 2, 2, 2, 2, 2, 1, 2, 2, 1, 1, 2, 2, 2, 2, 1, 2, 1, 2, 2, 2, 2, 2, 2, 2, 2, 2, 2, 2, 2, 2, 2, 2, 2, 2, 2, 2, 1, 1, 0, 2, 2, 1, 2, 0, 2, 2, 2, 2, 2, 2, 2, 2, 0, 1, 0, 1, 2, 2, 2, 2, 2, 1, 0, 1, 0, 0, 0, 2, 0, 2, 2, 1, 2, 2, 2, 2, 2, 2, 2, 2, 1, 2, 2, 2, 2, 2, 2, 2, 2, 2, 2, 2, 2, 2, 1, 2, 2, 2, 2, 2, 2, 2, 2, 2, 2, 2, 2, 2, 2, 1, 2, 2, 2, 2, 2, 2, 2, 2, 2, 2, 2, 2, 2, 2, 2]\n",
      "[0, 0, 0, 0, 0, 0, 0, 0, 0, 0, 0, 0, 0, 0, 0, 0, 0, 0, 0, 0, 0, 0, 0, 0, 0, 0, 0, 0, 0, 0, 0, 0, 0, 0, 0, 0, 0, 0, 0, 0, 0, 0, 0, 0, 0, 0, 0, 0, 0, 0, 0, 0, 0, 0, 0, 0, 0, 0, 0, 0, 0, 0, 0, 0, 0, 0, 0, 0, 0, 0, 0, 0, 0, 0, 0, 0, 0, 0, 0, 0, 0, 0, 0, 0, 0, 0, 0, 0, 0, 0, 0, 0, 0, 0, 0, 0, 0, 0, 0, 0, 0, 0, 0, 0, 0, 0, 0, 0, 0, 0, 0, 0, 0, 0, 0, 0, 0, 0, 0, 0, 0, 0, 0, 0, 0, 0, 0, 0, 0, 0, 0, 0, 0, 0, 0, 0, 0, 0, 0, 0, 0, 0, 0, 0, 0, 0, 0, 0, 0, 0, 0, 0, 0, 0, 0, 0, 0, 0, 0, 0, 1, 1, 1, 1, 1, 1, 1, 1, 1, 1, 1, 1, 1, 1, 1, 1, 1, 1, 1, 1, 1, 1, 1, 1, 1, 1, 1, 1, 1, 1, 1, 1, 1, 1, 1, 1, 1, 1, 1, 1, 1, 1, 1, 1, 1, 1, 1, 1, 1, 1, 1, 1, 1, 1, 1, 1, 1, 1, 1, 1, 1, 1, 1, 1, 1, 1, 1, 1, 1, 1, 1, 1, 1, 1, 1, 1, 1, 1, 1, 1, 1, 1, 1, 1, 1, 1, 1, 1, 1, 1, 1, 1, 1, 1, 1, 1, 1, 1, 1, 1, 1, 1, 1, 1, 1, 1, 1, 1, 1, 1, 1, 1, 1, 1, 1, 1, 1, 1, 1, 1, 1, 1, 1, 1, 2, 2, 2, 2, 2, 2, 2, 2, 2, 2, 2, 2, 2, 2, 2, 2, 2, 2, 2, 2, 2, 2, 2, 2, 2, 2, 2, 2, 2, 2, 2, 2, 2, 2, 2, 2, 2, 2, 2, 2, 2, 2, 2, 2, 2, 2, 2, 2, 2, 2, 2, 2, 2, 2, 2, 2, 2, 2, 2, 2, 2, 2, 2, 2, 2, 2, 2, 2, 2, 2, 2, 2, 2, 2, 2, 2, 2, 2, 2, 2, 2, 2, 2, 2, 2, 2, 2, 2, 2, 2, 2, 2, 2, 2, 2, 2, 2, 2, 2, 2, 2, 2, 2, 2, 2, 2, 2, 2, 2, 2, 2, 2, 2, 2, 2, 2, 2, 2, 2, 2, 2, 2, 2, 2, 2, 2, 2, 2, 2, 2, 2, 2, 2, 2, 2, 2, 2, 2, 2, 2, 2, 2, 2, 2, 2, 2, 2, 2, 2, 2, 2, 2]\n"
     ]
    },
    {
     "data": {
      "image/png": "[encoded data removed]",
      "text/plain": [
       "<Figure size 432x288 with 2 Axes>"
      ]
     },
     "metadata": {
      "needs_background": "light"
     },
     "output_type": "display_data"
    },
    {
     "name": "stdout",
     "output_type": "stream",
     "text": [
      "Precision: 0.8343546754533316\n",
      "Recall: 0.8302752293577982\n",
      "Accuracy: 0.8302752293577982\n"
     ]
    }
   ],
   "source": [
    "# Load the test images from the folder 'test_images'\n",
    "predicted_labels= []\n",
    "true_labels = []\n",
    "\n",
    "label_mapping = {\n",
    "    'aca': 0,\n",
    "    'nor': 1,\n",
    "    'scc': 2\n",
    "}\n",
    "\n",
    "\n",
    "directory = \"private_combined_test_set\"\n",
    "for filename in os.listdir(directory):\n",
    "\n",
    "    # Load the image and add it to the list of test images\n",
    "    f = os.path.join(directory, filename)\n",
    "    imagen = tf.keras.preprocessing.image.load_img(f, target_size=(255,255))\n",
    "    x = tf.keras.preprocessing.image.img_to_array(imagen)    \n",
    "    x = np.expand_dims(x, axis=0)\n",
    "\n",
    "    prediction = modelo.predict(x)\n",
    "    predicted_class = np.argmax(prediction)\n",
    "\n",
    "    #True labels are calculated based on name. It is a very weak way of doing it. Look for a better one or rename the files\n",
    "\n",
    "    if 'aca' in filename or 'lungaca' in filename:\n",
    "        true_labels.append(0)\n",
    "    elif 'scc' in filename or 'lungscc' in filename:\n",
    "        true_labels.append(2)\n",
    "    elif 'nor' in filename or 'lungn' in filename:\n",
    "        true_labels.append(1)\n",
    "   \n",
    "    \n",
    "\n",
    "    predicted_labels.append(predicted_class)\n",
    "\n",
    "print(predicted_labels)\n",
    "print(true_labels)\n",
    "\n",
    "\n",
    "cm = confusion_matrix(true_labels, predicted_labels)\n",
    "labels = [label for label, _ in sorted(label_mapping.items(), key=lambda x: x[1])]\n",
    "disp = ConfusionMatrixDisplay(confusion_matrix=cm, display_labels=labels)\n",
    "disp.plot()\n",
    "\n",
    "plt.title(directory,  fontdict={'fontsize': 16})  # Set the new title for the plot\n",
    "plt.show()\n",
    "\n",
    "\n",
    "# Calculate precision, recall, and accuracy\n",
    "precision = precision_score(true_labels, predicted_labels, average='weighted')\n",
    "recall = recall_score(true_labels, predicted_labels, average='weighted')\n",
    "accuracy = accuracy_score(true_labels, predicted_labels)\n",
    "\n",
    "# Print the results\n",
    "print(\"Precision:\", precision)\n",
    "print(\"Recall:\", recall)\n",
    "print(\"Accuracy:\", accuracy)\n",
    "\n",
    "mlflow.log_metric(\"Precision\", precision)\n",
    "mlflow.log_metric(\"Recall\", recall)\n",
    "mlflow.log_metric(\"Accuracy\", accuracy)\n",
    "\n",
    "mlflow.end_run()\n",
    "\n"
   ]
  },
  {
   "attachments": {},
   "cell_type": "markdown",
   "metadata": {},
   "source": [
    "#Predice mal en las muestras de Henar. Veremos con el nuevo dataset, pero quizá haya que hacer un training con peso Opciones:\n",
    "\n",
    "Undersample the larger distribution: randomly remove examples from the larger distribution until it matches the size of the smaller one.\n",
    "\n",
    "Oversample the smaller distribution: randomly duplicate examples from the smaller distribution until it matches the size of the larger one.\n",
    "\n",
    "Data augmentation: generate new examples from the smaller distribution using techniques like rotation, flipping, or zooming.\n",
    "\n",
    "Use class weights: adjust the loss function of your CNN to assign higher weights to the smaller distribution so that it receives more emphasis during training.\n",
    "\n",
    "Fine-tuning: you could use a pre-trained model to initialize the weights and only fine-tune the last few layers to fit the imbalanced data."
   ]
  },
  {
   "cell_type": "code",
   "execution_count": 20,
   "metadata": {},
   "outputs": [
    {
     "name": "stdout",
     "output_type": "stream",
     "text": [
      "[0, 1, 1, 0, 0, 1, 1, 1, 0, 0, 0, 1, 0, 0, 0, 0, 0, 0, 0, 0, 1, 0, 0, 1, 1, 0, 2, 2, 1, 0, 1, 1, 1, 1, 1, 1, 1, 1, 1, 1, 1, 1, 1, 1, 1, 1, 1, 1, 1, 1, 1, 1, 1, 1, 1, 1, 1, 1, 1, 1, 2, 2, 1, 1, 2, 0, 2, 2, 2, 0, 2, 2, 2, 2, 2, 2, 2, 2, 2, 2, 2, 2, 2, 2, 2, 2, 0, 0, 2, 2]\n",
      "[0, 0, 0, 0, 0, 0, 0, 0, 0, 0, 0, 0, 0, 0, 0, 0, 0, 0, 0, 0, 0, 0, 0, 0, 0, 0, 0, 0, 0, 0, 1, 1, 1, 1, 1, 1, 1, 1, 1, 1, 1, 1, 1, 1, 1, 1, 1, 1, 1, 1, 1, 1, 1, 1, 1, 1, 1, 1, 1, 1, 2, 2, 2, 2, 2, 2, 2, 2, 2, 2, 2, 2, 2, 2, 2, 2, 2, 2, 2, 2, 2, 2, 2, 2, 2, 2, 2, 2, 2, 2]\n"
     ]
    },
    {
     "data": {
      "image/png": "[encoded data removed]",
      "text/plain": [
       "<Figure size 432x288 with 2 Axes>"
      ]
     },
     "metadata": {
      "needs_background": "light"
     },
     "output_type": "display_data"
    },
    {
     "name": "stdout",
     "output_type": "stream",
     "text": [
      "Precision: 0.8185148185148186\n",
      "Recall: 0.8\n",
      "Accuracy: 0.8\n"
     ]
    }
   ],
   "source": [
    "# Load the test images from the folder 'test_images'\n",
    "predicted_labels= []\n",
    "true_labels = []\n",
    "\n",
    "label_mapping = {\n",
    "    'aca': 0,\n",
    "    'nor': 1,\n",
    "    'scc': 2\n",
    "}\n",
    "\n",
    "\n",
    "directory = \"test_set_public\"\n",
    "for filename in os.listdir(directory):\n",
    "\n",
    "    # Load the image and add it to the list of test images\n",
    "    f = os.path.join(directory, filename)\n",
    "    imagen = tf.keras.preprocessing.image.load_img(f, target_size=(255,255))\n",
    "    x = tf.keras.preprocessing.image.img_to_array(imagen)    \n",
    "    x = np.expand_dims(x, axis=0)\n",
    "\n",
    "    prediction = modelo.predict(x)\n",
    "    predicted_class = np.argmax(prediction)\n",
    "\n",
    "    #True labels are calculated based on name. It is a very weak way of doing it. Look for a better one or rename the files\n",
    "\n",
    "    if 'aca' in filename or 'lungaca' in filename:\n",
    "        true_labels.append(0)\n",
    "    elif 'scc' in filename or 'lungscc' in filename:\n",
    "        true_labels.append(2)\n",
    "    elif 'nor' in filename or 'lungn' in filename:\n",
    "        true_labels.append(1)\n",
    "   \n",
    "    \n",
    "\n",
    "    predicted_labels.append(predicted_class)\n",
    "\n",
    "print(predicted_labels)\n",
    "print(true_labels)\n",
    "\n",
    "\n",
    "cm = confusion_matrix(true_labels, predicted_labels)\n",
    "labels = [label for label, _ in sorted(label_mapping.items(), key=lambda x: x[1])]\n",
    "disp = ConfusionMatrixDisplay(confusion_matrix=cm, display_labels=labels)\n",
    "disp.plot()\n",
    "\n",
    "plt.title(directory,  fontdict={'fontsize': 16})  # Set the new title for the plot\n",
    "plt.show()\n",
    "\n",
    "\n",
    "# Calculate precision, recall, and accuracy\n",
    "precision = precision_score(true_labels, predicted_labels, average='weighted')\n",
    "recall = recall_score(true_labels, predicted_labels, average='weighted')\n",
    "accuracy = accuracy_score(true_labels, predicted_labels)\n",
    "\n",
    "# Print the results\n",
    "print(\"Precision:\", precision)\n",
    "print(\"Recall:\", recall)\n",
    "print(\"Accuracy:\", accuracy)\n",
    "\n",
    "mlflow.log_metric(\"Precision\", precision)\n",
    "mlflow.log_metric(\"Recall\", recall)\n",
    "mlflow.log_metric(\"Accuracy\", accuracy)\n",
    "\n",
    "mlflow.end_run()\n",
    "\n",
    "\n"
   ]
  }
 ],
 "metadata": {
  "kernelspec": {
   "display_name": "ml",
   "language": "python",
   "name": "python3"
  },
  "language_info": {
   "codemirror_mode": {
    "name": "ipython",
    "version": 3
   },
   "file_extension": ".py",
   "mimetype": "text/x-python",
   "name": "python",
   "nbconvert_exporter": "python",
   "pygments_lexer": "ipython3",
   "version": "3.9.12"
  },
  "orig_nbformat": 4,
  "vscode": {
   "interpreter": {
    "hash": "fea903cc172cce62c6301ba3c7eecfb26209215bbdb6c0bb5db0de1694474dd0"
   }
  }
 },
 "nbformat": 4,
 "nbformat_minor": 2
}
