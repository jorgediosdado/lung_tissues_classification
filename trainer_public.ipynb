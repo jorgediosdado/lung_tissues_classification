{
 "cells": [
  {
   "cell_type": "code",
   "execution_count": 10,
   "metadata": {},
   "outputs": [],
   "source": [
    "import os\n",
    "import random\n",
    "import imageio\n",
    "import glob\n",
    "import datetime\n",
    "import numpy as np\n",
    "from tqdm.notebook import tqdm\n",
    "import matplotlib.pyplot as plt\n",
    "from PIL import Image\n",
    "from datetime import datetime\n",
    "\n",
    "import tensorflow as tf\n",
    "from tensorflow.keras.preprocessing.image import ImageDataGenerator\n",
    "from tensorflow.keras.applications import ResNet50, EfficientNetB0\n",
    "from tensorflow.keras.models import Sequential, Model\n",
    "from tensorflow.keras.layers import Conv2D, MaxPooling2D, Flatten, Dense, Rescaling\n",
    "from tensorflow.keras.utils import Sequence, to_categorical\n",
    "from tensorflow.keras.layers.experimental import preprocessing\n",
    "from sklearn.utils import class_weight\n",
    "from tensorflow.keras.callbacks import EarlyStopping, ModelCheckpoint, ReduceLROnPlateau, TensorBoard\n",
    "from tqdm.keras import TqdmCallback\n",
    "import tensorflow_addons as tfa\n",
    "\n",
    "from keras import layers\n",
    "from keras import models\n",
    "from keras.models import Model\n",
    "\n",
    "\n",
    "from sklearn.model_selection import train_test_split\n",
    "from sklearn.metrics import confusion_matrix, ConfusionMatrixDisplay, precision_score, recall_score, accuracy_score\n"
   ]
  },
  {
   "cell_type": "code",
   "execution_count": 31,
   "metadata": {},
   "outputs": [],
   "source": [
    "dataset_name = 'public_dataset'\n",
    "batch_size = 8"
   ]
  },
  {
   "cell_type": "code",
   "execution_count": 32,
   "metadata": {},
   "outputs": [
    {
     "name": "stdout",
     "output_type": "stream",
     "text": [
      "Found 14910 files belonging to 3 classes.\n",
      "Using 12674 files for training.\n",
      "Found 14910 files belonging to 3 classes.\n",
      "Using 2236 files for validation.\n"
     ]
    }
   ],
   "source": [
    "image_size = (255, 255)\n",
    "train_ds = tf.keras.preprocessing.image_dataset_from_directory(\n",
    "    dataset_name,\n",
    "    validation_split=0.15,\n",
    "    subset=\"training\",\n",
    "    label_mode = 'categorical',\n",
    "    labels = 'inferred',\n",
    "    seed=1336,\n",
    "    image_size=image_size,\n",
    "    interpolation = 'bilinear',\n",
    "    batch_size=batch_size,\n",
    "    shuffle = True,\n",
    ")\n",
    "val_ds = tf.keras.preprocessing.image_dataset_from_directory(\n",
    "    dataset_name,\n",
    "    validation_split=0.15,\n",
    "    subset=\"validation\",\n",
    "    label_mode = 'categorical',\n",
    "    labels = 'inferred',\n",
    "    seed=1336,\n",
    "    image_size=image_size,\n",
    "    interpolation = 'bilinear',\n",
    "    batch_size=batch_size,\n",
    "    shuffle = True,\n",
    ")\n"
   ]
  },
  {
   "cell_type": "code",
   "execution_count": 33,
   "metadata": {},
   "outputs": [],
   "source": [
    "num_classes = 3"
   ]
  },
  {
   "cell_type": "code",
   "execution_count": 34,
   "metadata": {},
   "outputs": [
    {
     "name": "stdout",
     "output_type": "stream",
     "text": [
      "Model: \"model_4\"\n",
      "_________________________________________________________________\n",
      "Layer (type)                 Output Shape              Param #   \n",
      "=================================================================\n",
      "input_10 (InputLayer)        [(None, 255, 255, 3)]     0         \n",
      "_________________________________________________________________\n",
      "efficientnetb0 (Functional)  (None, 1280)              4049571   \n",
      "_________________________________________________________________\n",
      "dense_8 (Dense)              (None, 128)               163968    \n",
      "_________________________________________________________________\n",
      "dense_9 (Dense)              (None, 3)                 387       \n",
      "=================================================================\n",
      "Total params: 4,213,926\n",
      "Trainable params: 4,171,903\n",
      "Non-trainable params: 42,023\n",
      "_________________________________________________________________\n"
     ]
    }
   ],
   "source": [
    "base_model = EfficientNetB0(include_top = False ,weights='imagenet', pooling='avg')\n",
    "\n",
    "# Introduce a layer of data augmentation\n",
    "# data_augmentation = Sequential([\n",
    "#     preprocessing.RandomRotation(0.2),\n",
    "    # preprocessing.RandomFlip(\"horizontal\"),\n",
    "    # preprocessing.RandomZoom(0.2),\n",
    "    # preprocessing.RandomContrast(0.2),\n",
    "    # preprocessing.RandomTranslation(0.2, 0.2),\n",
    "    # preprocessing.RandomHeight(0.2),\n",
    "    # preprocessing.RandomWidth(0.2),\n",
    "# ])\n",
    "\n",
    "# # Freeze all layers in the base model\n",
    "# for layer in base_model.layers:\n",
    "#     layer.trainable = False\n",
    "# # Unfreeze the last 10 layers in the base model for fine-tuning\n",
    "# for layer in base_model.layers[-5:]:\n",
    "#     layer.trainable = True\n",
    "\n",
    "#capa de entradas. \n",
    "entradas = layers.Input((255, 255, 3))\n",
    "\n",
    "# Capa de augmentation\n",
    "# x = data_augmentation(entradas)\n",
    "# Pass the augmented images through the base model\n",
    "x = base_model(entradas)\n",
    "# Add a dense layer\n",
    "x = layers.Dense(128, activation='relu')(x)\n",
    "# Add another dense layer\n",
    "salidas = layers.Dense(num_classes, activation='softmax')(x)\n",
    "model1 = Model(inputs = entradas, outputs = salidas)\n",
    "model1.summary()\n",
    "\n"
   ]
  },
  {
   "cell_type": "code",
   "execution_count": 35,
   "metadata": {},
   "outputs": [],
   "source": [
    "import datetime"
   ]
  },
  {
   "cell_type": "code",
   "execution_count": 36,
   "metadata": {},
   "outputs": [],
   "source": [
    "MODEL_NAME = 'Ef0'\n",
    "RUN_NAME = 'public_dataset'\n",
    "log_dir = f'new_logs/{datetime.datetime.now().strftime(\"%Y%m%d-%H%M%S\")}/{MODEL_NAME}{RUN_NAME}'\n"
   ]
  },
  {
   "cell_type": "code",
   "execution_count": 37,
   "metadata": {},
   "outputs": [
    {
     "data": {
      "application/vnd.jupyter.widget-view+json": {
       "model_id": "25a9a69a0eed4aa0bb3d253b9e2544a1",
       "version_major": 2,
       "version_minor": 0
      },
      "text/plain": [
       "0epoch [00:00, ?epoch/s]"
      ]
     },
     "metadata": {},
     "output_type": "display_data"
    },
    {
     "data": {
      "application/vnd.jupyter.widget-view+json": {
       "model_id": "0ba7cb0e6fdb4b09b9a319f901d4e706",
       "version_major": 2,
       "version_minor": 0
      },
      "text/plain": [
       "0batch [00:00, ?batch/s]"
      ]
     },
     "metadata": {},
     "output_type": "display_data"
    }
   ],
   "source": [
    "num_epochs = 10\n",
    "patience = 5\n",
    "patience_lr = 5\n",
    "\n",
    "model1.compile(optimizer=tf.keras.optimizers.Adam(), \n",
    "              loss='categorical_crossentropy', \n",
    "              metrics=[\n",
    "                    tf.keras.metrics.CategoricalAccuracy(name=f'metrics/accuracy'),\n",
    "                    tf.keras.metrics.TopKCategoricalAccuracy(3, name=f'metrics/top-3-accuracy'),\n",
    "                    tfa.metrics.F1Score(num_classes=num_classes, average='macro', name='metrics/F1-macro'),\n",
    "                    tf.keras.metrics.AUC(multi_label=True, num_labels=num_classes, name='metrics/AUC'),\n",
    "                    tf.keras.metrics.Precision(name='metrics/precision'),\n",
    "                    tf.keras.metrics.Recall(name='metrics/recall'),\n",
    "                    tf.keras.metrics.PrecisionAtRecall(0.99, name='metrics/P@R_99'),\n",
    "                    tf.keras.metrics.PrecisionAtRecall(0.95, name='metrics/P@R_95'),\n",
    "                    tf.keras.metrics.PrecisionAtRecall(0.9, name='metrics/P@R_90'),\n",
    "                    tfa.metrics.MatthewsCorrelationCoefficient(num_classes=num_classes, name='metrics/MCC')\n",
    "                ],\n",
    "             )\n",
    "\n",
    "callbacks =[\n",
    "       EarlyStopping(monitor='val_loss', restore_best_weights=True, patience=patience),\n",
    "       ReduceLROnPlateau(monitor='val_loss', patience=patience_lr, min_lr=1e-7),       \n",
    "       ModelCheckpoint(log_dir, monitor=f\"val_loss\", save_best_only=True, save_weights_only=True),\n",
    "       TqdmCallback(),\n",
    "       TensorBoard(log_dir=log_dir, histogram_freq=1, profile_batch=0)\n",
    "\n",
    "]"
   ]
  },
  {
   "cell_type": "code",
   "execution_count": 38,
   "metadata": {},
   "outputs": [
    {
     "name": "stdout",
     "output_type": "stream",
     "text": [
      "Epoch 1/80\n",
      "1585/1585 [==============================] - 720s 431ms/step - loss: 0.1907 - metrics/accuracy: 0.9318 - metrics/top-3-accuracy: 1.0000 - metrics/F1-macro: 0.9316 - metrics/AUC: 0.9869 - metrics/precision: 0.9350 - metrics/recall: 0.9289 - metrics/P@R_99: 0.7460 - metrics/P@R_95: 0.9101 - metrics/P@R_90: 0.9539 - metrics/MCC: 0.8976 - val_loss: 0.0815 - val_metrics/accuracy: 0.9705 - val_metrics/top-3-accuracy: 1.0000 - val_metrics/F1-macro: 0.9705 - val_metrics/AUC: 0.9980 - val_metrics/precision: 0.9705 - val_metrics/recall: 0.9705 - val_metrics/P@R_99: 0.9233 - val_metrics/P@R_95: 0.9806 - val_metrics/P@R_90: 0.9907 - val_metrics/MCC: 0.9560\n",
      "Epoch 2/80\n",
      "1585/1585 [==============================] - 466s 294ms/step - loss: 0.0941 - metrics/accuracy: 0.9675 - metrics/top-3-accuracy: 1.0000 - metrics/F1-macro: 0.9674 - metrics/AUC: 0.9959 - metrics/precision: 0.9676 - metrics/recall: 0.9674 - metrics/P@R_99: 0.9026 - metrics/P@R_95: 0.9789 - metrics/P@R_90: 0.9884 - metrics/MCC: 0.9512 - val_loss: 0.0478 - val_metrics/accuracy: 0.9808 - val_metrics/top-3-accuracy: 1.0000 - val_metrics/F1-macro: 0.9810 - val_metrics/AUC: 0.9994 - val_metrics/precision: 0.9808 - val_metrics/recall: 0.9808 - val_metrics/P@R_99: 0.9681 - val_metrics/P@R_95: 0.9953 - val_metrics/P@R_90: 0.9975 - val_metrics/MCC: 0.9713\n",
      "Epoch 3/80\n",
      "1585/1585 [==============================] - 515s 325ms/step - loss: 0.0736 - metrics/accuracy: 0.9750 - metrics/top-3-accuracy: 1.0000 - metrics/F1-macro: 0.9750 - metrics/AUC: 0.9974 - metrics/precision: 0.9754 - metrics/recall: 0.9748 - metrics/P@R_99: 0.9391 - metrics/P@R_95: 0.9858 - metrics/P@R_90: 0.9939 - metrics/MCC: 0.9625 - val_loss: 0.0677 - val_metrics/accuracy: 0.9750 - val_metrics/top-3-accuracy: 1.0000 - val_metrics/F1-macro: 0.9748 - val_metrics/AUC: 0.9982 - val_metrics/precision: 0.9754 - val_metrics/recall: 0.9750 - val_metrics/P@R_99: 0.9486 - val_metrics/P@R_95: 0.9888 - val_metrics/P@R_90: 0.9951 - val_metrics/MCC: 0.9631\n",
      "Epoch 4/80\n",
      "1585/1585 [==============================] - 399s 251ms/step - loss: 0.0615 - metrics/accuracy: 0.9787 - metrics/top-3-accuracy: 1.0000 - metrics/F1-macro: 0.9787 - metrics/AUC: 0.9981 - metrics/precision: 0.9787 - metrics/recall: 0.9785 - metrics/P@R_99: 0.9570 - metrics/P@R_95: 0.9910 - metrics/P@R_90: 0.9963 - metrics/MCC: 0.9680 - val_loss: 0.0359 - val_metrics/accuracy: 0.9870 - val_metrics/top-3-accuracy: 1.0000 - val_metrics/F1-macro: 0.9869 - val_metrics/AUC: 0.9993 - val_metrics/precision: 0.9870 - val_metrics/recall: 0.9870 - val_metrics/P@R_99: 0.9840 - val_metrics/P@R_95: 0.9981 - val_metrics/P@R_90: 0.9990 - val_metrics/MCC: 0.9805\n",
      "Epoch 5/80\n",
      "1585/1585 [==============================] - 397s 251ms/step - loss: 0.0478 - metrics/accuracy: 0.9841 - metrics/top-3-accuracy: 1.0000 - metrics/F1-macro: 0.9840 - metrics/AUC: 0.9987 - metrics/precision: 0.9842 - metrics/recall: 0.9838 - metrics/P@R_99: 0.9720 - metrics/P@R_95: 0.9946 - metrics/P@R_90: 0.9978 - metrics/MCC: 0.9761 - val_loss: 0.0562 - val_metrics/accuracy: 0.9803 - val_metrics/top-3-accuracy: 1.0000 - val_metrics/F1-macro: 0.9805 - val_metrics/AUC: 0.9995 - val_metrics/precision: 0.9808 - val_metrics/recall: 0.9803 - val_metrics/P@R_99: 0.9609 - val_metrics/P@R_95: 0.9916 - val_metrics/P@R_90: 0.9975 - val_metrics/MCC: 0.9708\n",
      "Epoch 6/80\n",
      "1585/1585 [==============================] - 413s 261ms/step - loss: 0.0366 - metrics/accuracy: 0.9874 - metrics/top-3-accuracy: 1.0000 - metrics/F1-macro: 0.9874 - metrics/AUC: 0.9992 - metrics/precision: 0.9875 - metrics/recall: 0.9873 - metrics/P@R_99: 0.9843 - metrics/P@R_95: 0.9972 - metrics/P@R_90: 0.9986 - metrics/MCC: 0.9811 - val_loss: 0.0421 - val_metrics/accuracy: 0.9817 - val_metrics/top-3-accuracy: 1.0000 - val_metrics/F1-macro: 0.9818 - val_metrics/AUC: 0.9996 - val_metrics/precision: 0.9817 - val_metrics/recall: 0.9817 - val_metrics/P@R_99: 0.9711 - val_metrics/P@R_95: 0.9972 - val_metrics/P@R_90: 0.9990 - val_metrics/MCC: 0.9729\n",
      "Epoch 7/80\n",
      "1585/1585 [==============================] - 457s 288ms/step - loss: 0.0351 - metrics/accuracy: 0.9869 - metrics/top-3-accuracy: 1.0000 - metrics/F1-macro: 0.9869 - metrics/AUC: 0.9993 - metrics/precision: 0.9870 - metrics/recall: 0.9867 - metrics/P@R_99: 0.9835 - metrics/P@R_95: 0.9978 - metrics/P@R_90: 0.9993 - metrics/MCC: 0.9804 - val_loss: 0.0278 - val_metrics/accuracy: 0.9888 - val_metrics/top-3-accuracy: 1.0000 - val_metrics/F1-macro: 0.9889 - val_metrics/AUC: 0.9999 - val_metrics/precision: 0.9888 - val_metrics/recall: 0.9888 - val_metrics/P@R_99: 0.9884 - val_metrics/P@R_95: 0.9981 - val_metrics/P@R_90: 0.9995 - val_metrics/MCC: 0.9834\n",
      "Epoch 8/80\n",
      "1585/1585 [==============================] - 484s 305ms/step - loss: 0.0291 - metrics/accuracy: 0.9909 - metrics/top-3-accuracy: 1.0000 - metrics/F1-macro: 0.9909 - metrics/AUC: 0.9992 - metrics/precision: 0.9911 - metrics/recall: 0.9909 - metrics/P@R_99: 0.9917 - metrics/P@R_95: 0.9976 - metrics/P@R_90: 0.9987 - metrics/MCC: 0.9864 - val_loss: 0.0160 - val_metrics/accuracy: 0.9937 - val_metrics/top-3-accuracy: 1.0000 - val_metrics/F1-macro: 0.9938 - val_metrics/AUC: 1.0000 - val_metrics/precision: 0.9937 - val_metrics/recall: 0.9937 - val_metrics/P@R_99: 0.9960 - val_metrics/P@R_95: 1.0000 - val_metrics/P@R_90: 1.0000 - val_metrics/MCC: 0.9906\n",
      "Epoch 9/80\n",
      "1585/1585 [==============================] - 400s 252ms/step - loss: 0.0303 - metrics/accuracy: 0.9895 - metrics/top-3-accuracy: 1.0000 - metrics/F1-macro: 0.9895 - metrics/AUC: 0.9993 - metrics/precision: 0.9897 - metrics/recall: 0.9895 - metrics/P@R_99: 0.9894 - metrics/P@R_95: 0.9982 - metrics/P@R_90: 0.9990 - metrics/MCC: 0.9843 - val_loss: 0.0606 - val_metrics/accuracy: 0.9767 - val_metrics/top-3-accuracy: 1.0000 - val_metrics/F1-macro: 0.9769 - val_metrics/AUC: 0.9998 - val_metrics/precision: 0.9767 - val_metrics/recall: 0.9767 - val_metrics/P@R_99: 0.9572 - val_metrics/P@R_95: 0.9916 - val_metrics/P@R_90: 0.9980 - val_metrics/MCC: 0.9657\n",
      "Epoch 10/80\n",
      " 770/1585 [=============>................] - ETA: 6:29:18 - loss: 0.0232 - metrics/accuracy: 0.9925 - metrics/top-3-accuracy: 1.0000 - metrics/F1-macro: 0.9925 - metrics/AUC: 0.9995 - metrics/precision: 0.9925 - metrics/recall: 0.9925 - metrics/P@R_99: 0.9943 - metrics/P@R_95: 0.9985 - metrics/P@R_90: 0.9993 - metrics/MCC: 0.9888"
     ]
    },
    {
     "ename": "KeyboardInterrupt",
     "evalue": "",
     "output_type": "error",
     "traceback": [
      "\u001b[1;31m---------------------------------------------------------------------------\u001b[0m",
      "\u001b[1;31mKeyboardInterrupt\u001b[0m                         Traceback (most recent call last)",
      "\u001b[1;32mc:\\Users\\diosdadj\\OneDrive - HP Inc\\Master\\Lung Cancer Project\\lung_tissues_classification\\Jorgenet_private.ipynb Cell 9\u001b[0m line \u001b[0;36m<cell line: 1>\u001b[1;34m()\u001b[0m\n\u001b[1;32m----> <a href='vscode-notebook-cell:/c%3A/Users/diosdadj/OneDrive%20-%20HP%20Inc/Master/Lung%20Cancer%20Project/lung_tissues_classification/Jorgenet_private.ipynb#X42sZmlsZQ%3D%3D?line=0'>1</a>\u001b[0m history \u001b[39m=\u001b[39m model1\u001b[39m.\u001b[39;49mfit(train_ds, epochs\u001b[39m=\u001b[39;49mnum_epochs, verbose\u001b[39m=\u001b[39;49m\u001b[39m1\u001b[39;49m, callbacks\u001b[39m=\u001b[39;49mcallbacks, validation_data\u001b[39m=\u001b[39;49mval_ds)\n",
      "File \u001b[1;32mc:\\Users\\diosdadj\\Anaconda3\\envs\\ml\\lib\\site-packages\\keras\\engine\\training.py:1184\u001b[0m, in \u001b[0;36mModel.fit\u001b[1;34m(self, x, y, batch_size, epochs, verbose, callbacks, validation_split, validation_data, shuffle, class_weight, sample_weight, initial_epoch, steps_per_epoch, validation_steps, validation_batch_size, validation_freq, max_queue_size, workers, use_multiprocessing)\u001b[0m\n\u001b[0;32m   1177\u001b[0m \u001b[39mwith\u001b[39;00m tf\u001b[39m.\u001b[39mprofiler\u001b[39m.\u001b[39mexperimental\u001b[39m.\u001b[39mTrace(\n\u001b[0;32m   1178\u001b[0m     \u001b[39m'\u001b[39m\u001b[39mtrain\u001b[39m\u001b[39m'\u001b[39m,\n\u001b[0;32m   1179\u001b[0m     epoch_num\u001b[39m=\u001b[39mepoch,\n\u001b[0;32m   1180\u001b[0m     step_num\u001b[39m=\u001b[39mstep,\n\u001b[0;32m   1181\u001b[0m     batch_size\u001b[39m=\u001b[39mbatch_size,\n\u001b[0;32m   1182\u001b[0m     _r\u001b[39m=\u001b[39m\u001b[39m1\u001b[39m):\n\u001b[0;32m   1183\u001b[0m   callbacks\u001b[39m.\u001b[39mon_train_batch_begin(step)\n\u001b[1;32m-> 1184\u001b[0m   tmp_logs \u001b[39m=\u001b[39m \u001b[39mself\u001b[39;49m\u001b[39m.\u001b[39;49mtrain_function(iterator)\n\u001b[0;32m   1185\u001b[0m   \u001b[39mif\u001b[39;00m data_handler\u001b[39m.\u001b[39mshould_sync:\n\u001b[0;32m   1186\u001b[0m     context\u001b[39m.\u001b[39masync_wait()\n",
      "File \u001b[1;32mc:\\Users\\diosdadj\\Anaconda3\\envs\\ml\\lib\\site-packages\\tensorflow\\python\\eager\\def_function.py:885\u001b[0m, in \u001b[0;36mFunction.__call__\u001b[1;34m(self, *args, **kwds)\u001b[0m\n\u001b[0;32m    882\u001b[0m compiler \u001b[39m=\u001b[39m \u001b[39m\"\u001b[39m\u001b[39mxla\u001b[39m\u001b[39m\"\u001b[39m \u001b[39mif\u001b[39;00m \u001b[39mself\u001b[39m\u001b[39m.\u001b[39m_jit_compile \u001b[39melse\u001b[39;00m \u001b[39m\"\u001b[39m\u001b[39mnonXla\u001b[39m\u001b[39m\"\u001b[39m\n\u001b[0;32m    884\u001b[0m \u001b[39mwith\u001b[39;00m OptionalXlaContext(\u001b[39mself\u001b[39m\u001b[39m.\u001b[39m_jit_compile):\n\u001b[1;32m--> 885\u001b[0m   result \u001b[39m=\u001b[39m \u001b[39mself\u001b[39m\u001b[39m.\u001b[39m_call(\u001b[39m*\u001b[39margs, \u001b[39m*\u001b[39m\u001b[39m*\u001b[39mkwds)\n\u001b[0;32m    887\u001b[0m new_tracing_count \u001b[39m=\u001b[39m \u001b[39mself\u001b[39m\u001b[39m.\u001b[39mexperimental_get_tracing_count()\n\u001b[0;32m    888\u001b[0m without_tracing \u001b[39m=\u001b[39m (tracing_count \u001b[39m==\u001b[39m new_tracing_count)\n",
      "File \u001b[1;32mc:\\Users\\diosdadj\\Anaconda3\\envs\\ml\\lib\\site-packages\\tensorflow\\python\\eager\\def_function.py:917\u001b[0m, in \u001b[0;36mFunction._call\u001b[1;34m(self, *args, **kwds)\u001b[0m\n\u001b[0;32m    914\u001b[0m   \u001b[39mself\u001b[39m\u001b[39m.\u001b[39m_lock\u001b[39m.\u001b[39mrelease()\n\u001b[0;32m    915\u001b[0m   \u001b[39m# In this case we have created variables on the first call, so we run the\u001b[39;00m\n\u001b[0;32m    916\u001b[0m   \u001b[39m# defunned version which is guaranteed to never create variables.\u001b[39;00m\n\u001b[1;32m--> 917\u001b[0m   \u001b[39mreturn\u001b[39;00m \u001b[39mself\u001b[39m\u001b[39m.\u001b[39m_stateless_fn(\u001b[39m*\u001b[39margs, \u001b[39m*\u001b[39m\u001b[39m*\u001b[39mkwds)  \u001b[39m# pylint: disable=not-callable\u001b[39;00m\n\u001b[0;32m    918\u001b[0m \u001b[39melif\u001b[39;00m \u001b[39mself\u001b[39m\u001b[39m.\u001b[39m_stateful_fn \u001b[39mis\u001b[39;00m \u001b[39mnot\u001b[39;00m \u001b[39mNone\u001b[39;00m:\n\u001b[0;32m    919\u001b[0m   \u001b[39m# Release the lock early so that multiple threads can perform the call\u001b[39;00m\n\u001b[0;32m    920\u001b[0m   \u001b[39m# in parallel.\u001b[39;00m\n\u001b[0;32m    921\u001b[0m   \u001b[39mself\u001b[39m\u001b[39m.\u001b[39m_lock\u001b[39m.\u001b[39mrelease()\n",
      "File \u001b[1;32mc:\\Users\\diosdadj\\Anaconda3\\envs\\ml\\lib\\site-packages\\tensorflow\\python\\eager\\function.py:3039\u001b[0m, in \u001b[0;36mFunction.__call__\u001b[1;34m(self, *args, **kwargs)\u001b[0m\n\u001b[0;32m   3036\u001b[0m \u001b[39mwith\u001b[39;00m \u001b[39mself\u001b[39m\u001b[39m.\u001b[39m_lock:\n\u001b[0;32m   3037\u001b[0m   (graph_function,\n\u001b[0;32m   3038\u001b[0m    filtered_flat_args) \u001b[39m=\u001b[39m \u001b[39mself\u001b[39m\u001b[39m.\u001b[39m_maybe_define_function(args, kwargs)\n\u001b[1;32m-> 3039\u001b[0m \u001b[39mreturn\u001b[39;00m graph_function\u001b[39m.\u001b[39;49m_call_flat(\n\u001b[0;32m   3040\u001b[0m     filtered_flat_args, captured_inputs\u001b[39m=\u001b[39;49mgraph_function\u001b[39m.\u001b[39;49mcaptured_inputs)\n",
      "File \u001b[1;32mc:\\Users\\diosdadj\\Anaconda3\\envs\\ml\\lib\\site-packages\\tensorflow\\python\\eager\\function.py:1963\u001b[0m, in \u001b[0;36mConcreteFunction._call_flat\u001b[1;34m(self, args, captured_inputs, cancellation_manager)\u001b[0m\n\u001b[0;32m   1959\u001b[0m possible_gradient_type \u001b[39m=\u001b[39m gradients_util\u001b[39m.\u001b[39mPossibleTapeGradientTypes(args)\n\u001b[0;32m   1960\u001b[0m \u001b[39mif\u001b[39;00m (possible_gradient_type \u001b[39m==\u001b[39m gradients_util\u001b[39m.\u001b[39mPOSSIBLE_GRADIENT_TYPES_NONE\n\u001b[0;32m   1961\u001b[0m     \u001b[39mand\u001b[39;00m executing_eagerly):\n\u001b[0;32m   1962\u001b[0m   \u001b[39m# No tape is watching; skip to running the function.\u001b[39;00m\n\u001b[1;32m-> 1963\u001b[0m   \u001b[39mreturn\u001b[39;00m \u001b[39mself\u001b[39m\u001b[39m.\u001b[39m_build_call_outputs(\u001b[39mself\u001b[39;49m\u001b[39m.\u001b[39;49m_inference_function\u001b[39m.\u001b[39;49mcall(\n\u001b[0;32m   1964\u001b[0m       ctx, args, cancellation_manager\u001b[39m=\u001b[39;49mcancellation_manager))\n\u001b[0;32m   1965\u001b[0m forward_backward \u001b[39m=\u001b[39m \u001b[39mself\u001b[39m\u001b[39m.\u001b[39m_select_forward_and_backward_functions(\n\u001b[0;32m   1966\u001b[0m     args,\n\u001b[0;32m   1967\u001b[0m     possible_gradient_type,\n\u001b[0;32m   1968\u001b[0m     executing_eagerly)\n\u001b[0;32m   1969\u001b[0m forward_function, args_with_tangents \u001b[39m=\u001b[39m forward_backward\u001b[39m.\u001b[39mforward()\n",
      "File \u001b[1;32mc:\\Users\\diosdadj\\Anaconda3\\envs\\ml\\lib\\site-packages\\tensorflow\\python\\eager\\function.py:591\u001b[0m, in \u001b[0;36m_EagerDefinedFunction.call\u001b[1;34m(self, ctx, args, cancellation_manager)\u001b[0m\n\u001b[0;32m    589\u001b[0m \u001b[39mwith\u001b[39;00m _InterpolateFunctionError(\u001b[39mself\u001b[39m):\n\u001b[0;32m    590\u001b[0m   \u001b[39mif\u001b[39;00m cancellation_manager \u001b[39mis\u001b[39;00m \u001b[39mNone\u001b[39;00m:\n\u001b[1;32m--> 591\u001b[0m     outputs \u001b[39m=\u001b[39m execute\u001b[39m.\u001b[39;49mexecute(\n\u001b[0;32m    592\u001b[0m         \u001b[39mstr\u001b[39;49m(\u001b[39mself\u001b[39;49m\u001b[39m.\u001b[39;49msignature\u001b[39m.\u001b[39;49mname),\n\u001b[0;32m    593\u001b[0m         num_outputs\u001b[39m=\u001b[39;49m\u001b[39mself\u001b[39;49m\u001b[39m.\u001b[39;49m_num_outputs,\n\u001b[0;32m    594\u001b[0m         inputs\u001b[39m=\u001b[39;49margs,\n\u001b[0;32m    595\u001b[0m         attrs\u001b[39m=\u001b[39;49mattrs,\n\u001b[0;32m    596\u001b[0m         ctx\u001b[39m=\u001b[39;49mctx)\n\u001b[0;32m    597\u001b[0m   \u001b[39melse\u001b[39;00m:\n\u001b[0;32m    598\u001b[0m     outputs \u001b[39m=\u001b[39m execute\u001b[39m.\u001b[39mexecute_with_cancellation(\n\u001b[0;32m    599\u001b[0m         \u001b[39mstr\u001b[39m(\u001b[39mself\u001b[39m\u001b[39m.\u001b[39msignature\u001b[39m.\u001b[39mname),\n\u001b[0;32m    600\u001b[0m         num_outputs\u001b[39m=\u001b[39m\u001b[39mself\u001b[39m\u001b[39m.\u001b[39m_num_outputs,\n\u001b[1;32m   (...)\u001b[0m\n\u001b[0;32m    603\u001b[0m         ctx\u001b[39m=\u001b[39mctx,\n\u001b[0;32m    604\u001b[0m         cancellation_manager\u001b[39m=\u001b[39mcancellation_manager)\n",
      "File \u001b[1;32mc:\\Users\\diosdadj\\Anaconda3\\envs\\ml\\lib\\site-packages\\tensorflow\\python\\eager\\execute.py:59\u001b[0m, in \u001b[0;36mquick_execute\u001b[1;34m(op_name, num_outputs, inputs, attrs, ctx, name)\u001b[0m\n\u001b[0;32m     57\u001b[0m \u001b[39mtry\u001b[39;00m:\n\u001b[0;32m     58\u001b[0m   ctx\u001b[39m.\u001b[39mensure_initialized()\n\u001b[1;32m---> 59\u001b[0m   tensors \u001b[39m=\u001b[39m pywrap_tfe\u001b[39m.\u001b[39;49mTFE_Py_Execute(ctx\u001b[39m.\u001b[39;49m_handle, device_name, op_name,\n\u001b[0;32m     60\u001b[0m                                       inputs, attrs, num_outputs)\n\u001b[0;32m     61\u001b[0m \u001b[39mexcept\u001b[39;00m core\u001b[39m.\u001b[39m_NotOkStatusException \u001b[39mas\u001b[39;00m e:\n\u001b[0;32m     62\u001b[0m   \u001b[39mif\u001b[39;00m name \u001b[39mis\u001b[39;00m \u001b[39mnot\u001b[39;00m \u001b[39mNone\u001b[39;00m:\n",
      "\u001b[1;31mKeyboardInterrupt\u001b[0m: "
     ]
    }
   ],
   "source": [
    "history = model1.fit(train_ds, epochs=num_epochs, verbose=1, callbacks=callbacks, validation_data=val_ds)"
   ]
  },
  {
   "cell_type": "code",
   "execution_count": null,
   "metadata": {},
   "outputs": [],
   "source": []
  }
 ],
 "metadata": {
  "kernelspec": {
   "display_name": "ml",
   "language": "python",
   "name": "python3"
  },
  "language_info": {
   "codemirror_mode": {
    "name": "ipython",
    "version": 3
   },
   "file_extension": ".py",
   "mimetype": "text/x-python",
   "name": "python",
   "nbconvert_exporter": "python",
   "pygments_lexer": "ipython3",
   "version": "3.9.12"
  },
  "orig_nbformat": 4,
  "vscode": {
   "interpreter": {
    "hash": "fea903cc172cce62c6301ba3c7eecfb26209215bbdb6c0bb5db0de1694474dd0"
   }
  }
 },
 "nbformat": 4,
 "nbformat_minor": 2
}
