{
 "cells": [
  {
   "cell_type": "code",
   "execution_count": 1,
   "metadata": {},
   "outputs": [],
   "source": [
    "import os\n",
    "import tensorflow as tf\n",
    "from keras import models\n",
    "from keras import layers\n",
    "from keras import Sequential\n",
    "from datetime import datetime\n",
    "from PIL import Image\n",
    "import numpy as np\n",
    "import keras.backend as K\n",
    "import matplotlib.pyplot as plt\n",
    "import mlflow\n",
    "from tensorflow.keras.layers.experimental import preprocessing\n",
    "from tensorflow.keras.applications import EfficientNetB4\n",
    "from tensorflow.keras.utils import plot_model\n",
    "from matplotlib import pyplot as plt\n",
    "from keras.models import Model\n",
    "from sklearn.metrics import confusion_matrix, ConfusionMatrixDisplay, precision_score, recall_score, accuracy_score\n"
   ]
  },
  {
   "cell_type": "code",
   "execution_count": 2,
   "metadata": {},
   "outputs": [],
   "source": [
    "dataset_name = \"dataset_2_categories\"\n",
    "batch_size = 16"
   ]
  },
  {
   "cell_type": "code",
   "execution_count": 3,
   "metadata": {},
   "outputs": [
    {
     "name": "stdout",
     "output_type": "stream",
     "text": [
      "INFO:tensorflow:Mixed precision compatibility check (mixed_float16): OK\n",
      "Your GPU will likely run quickly with dtype policy mixed_float16 as it has compute capability of at least 7.0. Your GPU: Quadro T1000, compute capability 7.5\n"
     ]
    }
   ],
   "source": [
    "tf.keras.mixed_precision.set_global_policy('mixed_float16')"
   ]
  },
  {
   "cell_type": "code",
   "execution_count": 30,
   "metadata": {},
   "outputs": [
    {
     "name": "stdout",
     "output_type": "stream",
     "text": [
      "Found 1671 files belonging to 7 classes.\n",
      "Using 1337 files for training.\n",
      "Found 1671 files belonging to 7 classes.\n",
      "Using 334 files for validation.\n"
     ]
    }
   ],
   "source": [
    "# Load the dataset\n",
    "\n",
    "image_size = (380, 380)\n",
    "\n",
    "train_ds = tf.keras.preprocessing.image_dataset_from_directory(\n",
    "    dataset_name,\n",
    "    validation_split=0.2,\n",
    "    subset=\"training\",\n",
    "    label_mode = 'int',\n",
    "    labels = 'inferred',\n",
    "    seed=1336,\n",
    "    image_size=image_size,\n",
    "    interpolation = 'bilinear',\n",
    "    batch_size=batch_size,\n",
    "    shuffle = True,\n",
    ")\n",
    "\n",
    "\n",
    "val_ds = tf.keras.preprocessing.image_dataset_from_directory(\n",
    "    dataset_name,\n",
    "    validation_split=0.2,\n",
    "    subset=\"validation\",\n",
    "    label_mode = 'int',\n",
    "    labels = 'inferred',\n",
    "    seed=1336,\n",
    "    image_size=image_size,\n",
    "    interpolation = 'bilinear',\n",
    "    batch_size=batch_size,\n",
    "    shuffle = True,\n",
    ")\n"
   ]
  },
  {
   "cell_type": "code",
   "execution_count": 31,
   "metadata": {},
   "outputs": [
    {
     "name": "stdout",
     "output_type": "stream",
     "text": [
      "['aca_bd', 'aca_md', 'aca_pd', 'nor', 'scc_bd', 'scc_md', 'scc_pd']\n"
     ]
    }
   ],
   "source": [
    "class_names = train_ds.class_names\n",
    "print(class_names)"
   ]
  },
  {
   "cell_type": "code",
   "execution_count": 32,
   "metadata": {},
   "outputs": [],
   "source": [
    "# Obtain the number of samples\n",
    "num_train_samples = 0\n",
    "for images, labels in train_ds:\n",
    "    num_train_samples += images.shape[0]\n",
    "\n",
    "num_val_samples = 0\n",
    "for images, labels in val_ds:\n",
    "    num_val_samples += images.shape[0]\n",
    "\n",
    "\n"
   ]
  },
  {
   "cell_type": "code",
   "execution_count": 33,
   "metadata": {},
   "outputs": [
    {
     "name": "stdout",
     "output_type": "stream",
     "text": [
      "(16, 380, 380, 3)\n",
      "(16,)\n"
     ]
    }
   ],
   "source": [
    "# Print the dimensions of the training dataset\n",
    "for images, labels in train_ds:\n",
    "    print(images.shape)\n",
    "    print(labels.shape)\n",
    "    break"
   ]
  },
  {
   "cell_type": "code",
   "execution_count": 34,
   "metadata": {},
   "outputs": [
    {
     "name": "stdout",
     "output_type": "stream",
     "text": [
      "Number of training samples: 1337\n",
      "Number of validation samples: 334\n"
     ]
    }
   ],
   "source": [
    "print(\"Number of training samples:\", num_train_samples)\n",
    "print(\"Number of validation samples:\", num_val_samples)\n"
   ]
  },
  {
   "cell_type": "code",
   "execution_count": 35,
   "metadata": {},
   "outputs": [],
   "source": [
    "# imput = (255,255,3)"
   ]
  },
  {
   "attachments": {},
   "cell_type": "markdown",
   "metadata": {},
   "source": [
    "Each EfficientNet variant has a specific input size requirement. Here are the input sizes for some popular EfficientNet models:\n",
    "\n",
    "EfficientNetB0: (224, 224, 3)\n",
    "EfficientNetB1: (240, 240, 3)\n",
    "EfficientNetB2: (260, 260, 3)\n",
    "EfficientNetB3: (300, 300, 3)\n",
    "EfficientNetB4: (380, 380, 3)\n",
    "EfficientNetB5: (456, 456, 3)\n",
    "EfficientNetB6: (528, 528, 3)\n",
    "EfficientNetB7: (600, 600, 3)\n",
    "These sizes represent the input dimensions (height, width, number of channels) that the models expect. Therefore, when using any EfficientNet variant, you need to resize your images to match the corresponding input size before feeding them into the model."
   ]
  },
  {
   "cell_type": "code",
   "execution_count": 36,
   "metadata": {},
   "outputs": [
    {
     "name": "stdout",
     "output_type": "stream",
     "text": [
      "Model: \"model_1\"\n",
      "_________________________________________________________________\n",
      "Layer (type)                 Output Shape              Param #   \n",
      "=================================================================\n",
      "input_4 (InputLayer)         [(None, 380, 380, 3)]     0         \n",
      "_________________________________________________________________\n",
      "sequential_1 (Sequential)    (None, 380, 380, 3)       0         \n",
      "_________________________________________________________________\n",
      "efficientnetb4 (Functional)  (None, 1792)              17673823  \n",
      "_________________________________________________________________\n",
      "dense_2 (Dense)              (None, 512)               918016    \n",
      "_________________________________________________________________\n",
      "dense_3 (Dense)              (None, 3)                 1539      \n",
      "=================================================================\n",
      "Total params: 18,593,378\n",
      "Trainable params: 3,234,819\n",
      "Non-trainable params: 15,358,559\n",
      "_________________________________________________________________\n"
     ]
    }
   ],
   "source": [
    "base_model = EfficientNetB4(include_top = False ,weights='imagenet', pooling='avg')\n",
    "\n",
    "#todo introduce a layer of data augmentation \n",
    "\n",
    "# Introduce a layer of data augmentation\n",
    "data_augmentation = Sequential([\n",
    "   preprocessing.RandomRotation(0.2),\n",
    "    preprocessing.RandomFlip(\"horizontal\"),\n",
    "    preprocessing.RandomZoom(0.2),\n",
    "    preprocessing.RandomContrast(0.2),\n",
    "    preprocessing.RandomTranslation(0.2, 0.2),    \n",
    "])\n",
    "\n",
    "\n",
    "\n",
    "# Freeze all layers in the base model\n",
    "for layer in base_model.layers:\n",
    "    layer.trainable = False\n",
    "\n",
    "# Unfreeze the last 10 layers in the base model for fine-tuning\n",
    "\n",
    "for layer in base_model.layers[-10:]:\n",
    "    layer.trainable = True\n",
    "\n",
    "#Capa de entradas. No se si eficientnet ya espera 225x225 o es 224 x 224. En realidad la efficient net ya tiene un parametro de input shape...\n",
    "# Capa de entradas\n",
    "\n",
    "entradas = layers.Input((380, 380, 3))\n",
    "\n",
    "# Apply data augmentation to the input images\n",
    "x = data_augmentation(entradas)\n",
    "\n",
    "\n",
    "# Pass the augmented images through the base model\n",
    "x = base_model(x)\n",
    "\n",
    "\n",
    "# Add a dense layer\n",
    "x = layers.Dense(512, activation='relu')(x)\n",
    "# Add another dense layer\n",
    "salidas = layers.Dense(3, activation='softmax')(x)\n",
    "\n",
    "modelo = Model(inputs = entradas, outputs = salidas)\n",
    "\n",
    "modelo.compile(optimizer = 'adam', loss = 'sparse_categorical_crossentropy', metrics = ['accuracy'])\n",
    "modelo.summary()\n"
   ]
  },
  {
   "cell_type": "code",
   "execution_count": 37,
   "metadata": {},
   "outputs": [
    {
     "name": "stdout",
     "output_type": "stream",
     "text": [
      "Number of parameters: 18593378\n"
     ]
    }
   ],
   "source": [
    "num_params = modelo.count_params()\n",
    "print(\"Number of parameters:\", num_params)\n",
    "\n"
   ]
  },
  {
   "cell_type": "code",
   "execution_count": 38,
   "metadata": {},
   "outputs": [],
   "source": [
    "folder_date = 'old_models/' +  datetime.now().strftime(\"%Y_%m_%d-%I_%M_%S_%p\")\n",
    "os.mkdir(folder_date)\n",
    "filepath_model = folder_date + '/my_best_model.epoch{epoch:02d}-loss{val_loss:.2f}.hdf5'\n"
   ]
  },
  {
   "attachments": {},
   "cell_type": "markdown",
   "metadata": {},
   "source": [
    "# Callbacks"
   ]
  },
  {
   "cell_type": "code",
   "execution_count": 39,
   "metadata": {},
   "outputs": [],
   "source": [
    "model_checkpoint_callback = tf.keras.callbacks.ModelCheckpoint(\n",
    "filepath=filepath_model,\n",
    "save_weights_only=False,\n",
    "monitor='val_accuracy',\n",
    "mode='max',\n",
    "save_freq=\"epoch\",\n",
    "save_best_only=True)"
   ]
  },
  {
   "cell_type": "code",
   "execution_count": 40,
   "metadata": {},
   "outputs": [],
   "source": [
    "early_stopping = tf.keras.callbacks.EarlyStopping(monitor='val_loss', patience=4, mode='auto', verbose = 1, )"
   ]
  },
  {
   "attachments": {},
   "cell_type": "markdown",
   "metadata": {},
   "source": [
    "## Para hacer un training con weights"
   ]
  },
  {
   "cell_type": "code",
   "execution_count": 41,
   "metadata": {},
   "outputs": [],
   "source": [
    "\n",
    "# # Calculate class weights\n",
    "# # class_weights = tf.class_weight.compute_class_weight('balanced', tf.unique(train_ds.labels)[0], train_ds.labels)\n",
    "\n",
    "# # Convert class weights to dictionary\n",
    "# # class_weights_dict = {i: weight for i, weight in enumerate(class_weights)}\n",
    "\n",
    "# # history = modelo.fit(\n",
    "# #     train_ds, epochs=epochs, validation_data=val_ds, callbacks=[model_checkpoint_callback], class_weight=class_weights_dict\n",
    "# # )"
   ]
  },
  {
   "cell_type": "code",
   "execution_count": 42,
   "metadata": {},
   "outputs": [],
   "source": [
    "mlflow.end_run()\n"
   ]
  },
  {
   "cell_type": "code",
   "execution_count": 43,
   "metadata": {},
   "outputs": [
    {
     "name": "stderr",
     "output_type": "stream",
     "text": [
      "2023/07/14 10:31:28 INFO mlflow.tracking.fluent: Experiment with name 'scientific_data' does not exist. Creating a new experiment.\n"
     ]
    },
    {
     "name": "stdout",
     "output_type": "stream",
     "text": [
      "Epoch 1/10\n",
      "84/84 [==============================] - 122s 1s/step - loss: nan - accuracy: 0.0830 - val_loss: nan - val_accuracy: 0.0808\n"
     ]
    },
    {
     "name": "stderr",
     "output_type": "stream",
     "text": [
      "c:\\Users\\diosdadj\\Anaconda3\\envs\\ml\\lib\\site-packages\\keras\\utils\\generic_utils.py:494: CustomMaskWarning: Custom mask layers require a config and must override get_config. When loading, the custom mask layer must be passed to the custom_objects argument.\n",
      "  warnings.warn('Custom mask layers require a config and must override '\n"
     ]
    },
    {
     "name": "stdout",
     "output_type": "stream",
     "text": [
      "Epoch 2/10\n",
      "84/84 [==============================] - 99s 1s/step - loss: nan - accuracy: 0.0643 - val_loss: nan - val_accuracy: 0.1018\n",
      "Epoch 3/10\n",
      "84/84 [==============================] - 100s 1s/step - loss: nan - accuracy: 0.0733 - val_loss: nan - val_accuracy: 0.1048\n",
      "Epoch 4/10\n",
      "84/84 [==============================] - 91s 1s/step - loss: nan - accuracy: 0.0681 - val_loss: nan - val_accuracy: 0.1078\n",
      "Epoch 5/10\n",
      "84/84 [==============================] - 97s 1s/step - loss: nan - accuracy: 0.0703 - val_loss: nan - val_accuracy: 0.1048\n",
      "Epoch 6/10\n",
      "84/84 [==============================] - 97s 1s/step - loss: nan - accuracy: 0.0688 - val_loss: nan - val_accuracy: 0.1078\n",
      "Epoch 7/10\n",
      "84/84 [==============================] - 93s 1s/step - loss: nan - accuracy: 0.0688 - val_loss: nan - val_accuracy: 0.1018\n",
      "Epoch 8/10\n",
      "84/84 [==============================] - 91s 1s/step - loss: nan - accuracy: 0.0651 - val_loss: nan - val_accuracy: 0.1048\n",
      "Epoch 9/10\n",
      "84/84 [==============================] - 90s 1s/step - loss: nan - accuracy: 0.0621 - val_loss: nan - val_accuracy: 0.1048\n",
      "Epoch 10/10\n",
      "84/84 [==============================] - 93s 1s/step - loss: nan - accuracy: 0.0703 - val_loss: nan - val_accuracy: 0.1078\n",
      "21/21 [==============================] - 16s 771ms/step - loss: nan - accuracy: 0.1078\n"
     ]
    }
   ],
   "source": [
    "# Start an MLflow run\n",
    "mlflow.start_run()\n",
    "\n",
    "mlflow.set_experiment('scientific_data')\n",
    "\n",
    "# Log the name of the dataset\n",
    "mlflow.log_param(\"dataset_name\", dataset_name)\n",
    "\n",
    "# Log the number of samples in the dataset\n",
    "#   mlflow.log_param(\"num_samples_train\", num_train_samples)\n",
    "#   mlflow.log_param(\"num_samples_train\", num_val_samples)\n",
    "\n",
    "tf.keras.backend.clear_session()\n",
    "\n",
    "\n",
    "epochs = 10\n",
    "history = modelo.fit(\n",
    "    train_ds, epochs=epochs, validation_data=val_ds, callbacks=[model_checkpoint_callback]\n",
    ")\n",
    " \n",
    "# Evaluate the model\n",
    "loss, accuracy = modelo.evaluate(val_ds)\n",
    "\n",
    "#Logging\n",
    "\n",
    "\n",
    "mlflow.log_param(\"epochs\", epochs)\n",
    "mlflow.log_param(\"batch_size\", batch_size)\n",
    "\n",
    "mlflow.log_param(\"parameters\", num_params)\n",
    "\n",
    "mlflow.log_metric(\"val_loss\", loss)\n",
    "mlflow.log_metric(\"val_accuracy\", accuracy)\n",
    "\n",
    "\n"
   ]
  },
  {
   "cell_type": "code",
   "execution_count": 44,
   "metadata": {},
   "outputs": [],
   "source": [
    "#Guardo el modelo en la última epoch. Esto \n",
    "modelo.save(folder_date + '/modelo_entrenado.h5')\n"
   ]
  },
  {
   "cell_type": "code",
   "execution_count": 45,
   "metadata": {},
   "outputs": [
    {
     "name": "stdout",
     "output_type": "stream",
     "text": [
      "dict_keys(['loss', 'accuracy', 'val_loss', 'val_accuracy'])\n"
     ]
    }
   ],
   "source": [
    "history\n",
    "print(history.history.keys())"
   ]
  },
  {
   "cell_type": "code",
   "execution_count": null,
   "metadata": {},
   "outputs": [
    {
     "data": {
      "text/plain": [
       "'old_models/2023_07_09-07_29_59_PM/accuracy.png'"
      ]
     },
     "execution_count": 30,
     "metadata": {},
     "output_type": "execute_result"
    }
   ],
   "source": [
    "folder_date + \"/accuracy.png\""
   ]
  },
  {
   "cell_type": "code",
   "execution_count": 49,
   "metadata": {},
   "outputs": [
    {
     "name": "stdout",
     "output_type": "stream",
     "text": [
      "dict_keys(['loss', 'accuracy', 'val_loss', 'val_accuracy'])\n"
     ]
    },
    {
     "data": {
      "image/png": "[encoded data removed]",
      "text/plain": [
       "<Figure size 432x288 with 1 Axes>"
      ]
     },
     "metadata": {
      "needs_background": "light"
     },
     "output_type": "display_data"
    },
    {
     "name": "stderr",
     "output_type": "stream",
     "text": [
      "posx and posy should be finite values\n",
      "posx and posy should be finite values\n",
      "posx and posy should be finite values\n",
      "posx and posy should be finite values\n",
      "posx and posy should be finite values\n",
      "posx and posy should be finite values\n",
      "posx and posy should be finite values\n",
      "posx and posy should be finite values\n"
     ]
    },
    {
     "data": {
      "image/png": "[encoded data removed]",
      "text/plain": [
       "<Figure size 432x288 with 1 Axes>"
      ]
     },
     "metadata": {
      "needs_background": "light"
     },
     "output_type": "display_data"
    }
   ],
   "source": [
    "print(history.history.keys())\n",
    "\n",
    "#  \"Accuracy\"\n",
    "plt.plot(history.history['accuracy'])\n",
    "plt.plot(history.history['val_accuracy'])\n",
    "plt.title('model accuracy')\n",
    "plt.ylabel('accuracy')\n",
    "plt.xlabel('epoch')\n",
    "plt.legend(['train', 'validation'], loc='upper left')\n",
    "\n",
    "plt.text(len(history.history['accuracy'])-1, history.history['accuracy'][-1], \n",
    "         f\"Acc: {history.history['accuracy'][-1]:.4f}\", ha='center', va='bottom')\n",
    "plt.text(len(history.history['val_accuracy'])-1, history.history['val_accuracy'][-1], \n",
    "         f\"Val Acc: {history.history['val_accuracy'][-1]:.4f}\", ha='center', va='top')\n",
    "\n",
    "\n",
    "plt.savefig(folder_date + \"/accuracy.png\")\n",
    "plt.show()\n",
    "\n",
    "# \"Loss\"\n",
    "plt.plot(history.history['loss'])\n",
    "plt.plot(history.history['val_loss'])\n",
    "plt.title('model loss')\n",
    "plt.ylabel('loss')\n",
    "plt.xlabel('epoch')\n",
    "plt.legend(['train', 'validation'], loc='upper left')\n",
    "\n",
    "plt.text(len(history.history['loss'])-1, history.history['loss'][-1], \n",
    "         f\"Loss: {history.history['loss'][-1]:.4f}\", ha='center', va='bottom')\n",
    "plt.text(len(history.history['val_loss'])-1, history.history['val_loss'][-1], \n",
    "         f\"Val Loss: {history.history['val_loss'][-1]:.4f}\", ha='center', va='top')\n",
    "\n",
    "\n",
    "plt.savefig(folder_date + \"/loss.png\")\n",
    "plt.show()\n",
    "\n",
    "\n",
    "\n"
   ]
  },
  {
   "attachments": {},
   "cell_type": "markdown",
   "metadata": {},
   "source": [
    "Preguntas, cómo puedo gestionar datos que vienen de dos distribuciones distintas?\n",
    "\n"
   ]
  },
  {
   "attachments": {},
   "cell_type": "markdown",
   "metadata": {},
   "source": [
    "# This is a section to evaluate the model on te test data"
   ]
  },
  {
   "cell_type": "code",
   "execution_count": 50,
   "metadata": {},
   "outputs": [
    {
     "name": "stdout",
     "output_type": "stream",
     "text": [
      "[0, 2, 0, 0, 2, 0, 0, 0, 1, 1, 0, 0, 2, 2, 0, 2, 0, 0, 1, 0, 0, 1, 1, 0, 2, 0, 1, 0, 2, 2, 1, 2, 1, 2, 2, 0, 0, 0, 0, 1, 0, 0, 0, 0, 0, 0, 0, 0, 0, 2, 0, 0, 0, 0, 0, 0, 2, 2, 2, 2, 0, 0, 0, 0, 0, 2, 0, 0, 2, 0, 2, 2, 2, 0, 2, 0, 0, 0, 2, 0, 1, 1, 2, 1, 2, 0, 0, 0, 0, 0, 0, 0, 1, 0, 0, 2, 2, 0, 2, 0, 2, 2, 2, 1, 2, 0, 2, 2, 2, 0, 0, 2, 0, 0, 0, 1, 0, 0, 2, 0, 0, 2, 0, 0, 0, 0, 0, 0, 0, 0, 0, 0, 2, 0, 0, 0, 0, 0, 0, 0, 0, 1, 0, 2, 0, 0, 0, 0, 0, 2, 2, 0, 1, 0, 2, 2, 0, 0, 0, 0, 1, 2, 2, 2, 0, 2, 2, 2, 0, 0, 0, 0, 0, 2, 2, 2, 0, 0, 2, 0, 0, 2, 2, 1, 1, 2, 2, 2, 1, 1, 1, 0, 0, 1, 1, 2, 1, 2, 1, 2, 1, 2, 2, 0, 0, 1, 2, 1, 0, 1, 2, 2, 2, 0, 2, 2, 2, 2, 1, 0, 2, 2, 1, 2, 0, 1, 0, 2, 1, 0, 0, 0, 2, 2, 0, 0, 2, 1, 2, 1, 1, 1, 2, 2, 1, 0, 1, 2, 2, 2, 2, 2, 2, 0, 0, 1, 1, 1, 0, 0, 0, 1, 0, 0, 1, 0, 2, 0, 2, 0, 2, 2, 2, 0, 2, 0, 2, 2, 2, 0, 0, 2, 2, 2, 2, 2, 1, 2, 1, 1, 2, 1]\n",
      "[0, 0, 0, 0, 0, 0, 0, 0, 0, 0, 0, 0, 0, 0, 0, 0, 0, 0, 0, 0, 0, 0, 0, 0, 0, 0, 0, 0, 0, 0, 0, 0, 0, 0, 0, 0, 0, 0, 0, 0, 0, 0, 0, 0, 0, 0, 0, 0, 0, 0, 0, 0, 0, 0, 0, 0, 1, 1, 1, 1, 1, 1, 1, 1, 1, 1, 1, 1, 1, 1, 1, 1, 1, 1, 1, 1, 1, 1, 1, 1, 1, 1, 1, 1, 2, 2, 2, 2, 2, 2, 2, 2, 2, 2, 2, 2, 2, 2, 2, 2, 2, 2, 2, 2, 3, 3, 3, 3, 3, 3, 3, 3, 3, 3, 3, 3, 3, 3, 3, 3, 3, 3, 3, 3, 3, 3, 3, 3, 3, 3, 3, 3, 3, 3, 3, 3, 3, 3, 3, 3, 3, 3, 3, 3, 3, 3, 3, 3, 3, 3, 3, 3, 3, 3, 3, 3, 3, 3, 3, 3, 3, 3, 3, 3, 3, 3, 3, 3, 3, 3, 3, 3, 3, 3, 3, 3, 3, 3, 3, 3, 4, 4, 4, 4, 4, 4, 4, 4, 4, 4, 4, 4, 4, 4, 4, 4, 4, 4, 4, 4, 4, 4, 4, 4, 4, 4, 4, 4, 4, 4, 4, 4, 4, 4, 4, 4, 5, 5, 5, 5, 5, 5, 5, 5, 5, 5, 5, 5, 5, 5, 5, 5, 5, 5, 5, 5, 5, 5, 5, 5, 5, 5, 5, 5, 5, 5, 5, 5, 5, 5, 5, 5, 6, 6, 6, 6, 6, 6, 6, 6, 6, 6, 6, 6, 6, 6, 6, 6, 6, 6, 6, 6, 6, 6, 6, 6, 6, 6, 6, 6, 6, 6, 6, 6, 6, 6, 6, 6, 6, 6, 6, 6]\n"
     ]
    },
    {
     "data": {
      "image/png": "[encoded data removed]",
      "text/plain": [
       "<Figure size 432x288 with 2 Axes>"
      ]
     },
     "metadata": {
      "needs_background": "light"
     },
     "output_type": "display_data"
    },
    {
     "name": "stdout",
     "output_type": "stream",
     "text": [
      "Precision: 0.05900360409889892\n",
      "Recall: 0.1541095890410959\n",
      "Accuracy: 0.1541095890410959\n"
     ]
    },
    {
     "name": "stderr",
     "output_type": "stream",
     "text": [
      "c:\\Users\\diosdadj\\Anaconda3\\envs\\ml\\lib\\site-packages\\sklearn\\metrics\\_classification.py:1334: UndefinedMetricWarning: Precision is ill-defined and being set to 0.0 in labels with no predicted samples. Use `zero_division` parameter to control this behavior.\n",
      "  _warn_prf(average, modifier, msg_start, len(result))\n"
     ]
    }
   ],
   "source": [
    "# Load the test images from the folder 'test_images'\n",
    "predicted_labels= []\n",
    "true_labels = []\n",
    "\n",
    "label_mapping = {\n",
    "    'aca_bd': 0,\n",
    "    'aca_md': 1,\n",
    "    'aca_pd': 2,\n",
    "    'nor' : 3,\n",
    "    'scc_bd' : 4,\n",
    "    'scc_md' : 5, \n",
    "    'scc_pd' : 6\n",
    "}\n",
    "\n",
    "\n",
    "directory = \"categories_test_set\"\n",
    "for filename in os.listdir(directory):\n",
    "\n",
    "    # Load the image and add it to the list of test images\n",
    "    f = os.path.join(directory, filename)\n",
    "    imagen = tf.keras.preprocessing.image.load_img(f, target_size=(380,380))\n",
    "    x = tf.keras.preprocessing.image.img_to_array(imagen)    \n",
    "    x = np.expand_dims(x, axis=0)\n",
    "\n",
    "    prediction = modelo.predict(x)\n",
    "    predicted_class = np.argmax(prediction)\n",
    "\n",
    "    #True labels are calculated based on name. It is a very weak way of doing it. Look for a better one or rename the files\n",
    "\n",
    "    if 'aca_bd' in filename:\n",
    "        true_labels.append(0)\n",
    "    elif 'aca_md' in filename:\n",
    "        true_labels.append(1)\n",
    "    elif 'aca_pd' in filename:\n",
    "        true_labels.append(2)\n",
    "    elif 'nor' in filename:\n",
    "        true_labels.append(3)\n",
    "    elif 'scc_bd' in filename:\n",
    "        true_labels.append(4)    \n",
    "    elif 'scc_md' in filename:\n",
    "        true_labels.append(5)\n",
    "    elif 'scc_pd' in filename:\n",
    "        true_labels.append(6)\n",
    "    \n",
    "    predicted_labels.append(predicted_class)\n",
    "\n",
    "print(predicted_labels)\n",
    "print(true_labels)\n",
    "\n",
    "\n",
    "cm = confusion_matrix(true_labels, predicted_labels)\n",
    "labels = [label for label, _ in sorted(label_mapping.items(), key=lambda x: x[1])]\n",
    "disp = ConfusionMatrixDisplay(confusion_matrix=cm, display_labels=labels)\n",
    "disp.plot()\n",
    "\n",
    "plt.title(directory,  fontdict={'fontsize': 16})  # Set the new title for the plot\n",
    "plt.show()\n",
    "\n",
    "\n",
    "# Calculate precision, recall, and accuracy\n",
    "precision = precision_score(true_labels, predicted_labels, average='weighted')\n",
    "recall = recall_score(true_labels, predicted_labels, average='weighted')\n",
    "accuracy = accuracy_score(true_labels, predicted_labels)\n",
    "\n",
    "# Print the results\n",
    "print(\"Precision:\", precision)\n",
    "print(\"Recall:\", recall)\n",
    "print(\"Accuracy:\", accuracy)\n",
    "\n",
    "mlflow.log_metric(\"Precision\", precision)\n",
    "mlflow.log_metric(\"Recall\", recall)\n",
    "mlflow.log_metric(\"Accuracy\", accuracy)\n",
    "\n",
    "mlflow.end_run()\n",
    "\n"
   ]
  },
  {
   "cell_type": "code",
   "execution_count": null,
   "metadata": {},
   "outputs": [],
   "source": []
  }
 ],
 "metadata": {
  "kernelspec": {
   "display_name": "ml",
   "language": "python",
   "name": "python3"
  },
  "language_info": {
   "codemirror_mode": {
    "name": "ipython",
    "version": 3
   },
   "file_extension": ".py",
   "mimetype": "text/x-python",
   "name": "python",
   "nbconvert_exporter": "python",
   "pygments_lexer": "ipython3",
   "version": "3.9.12"
  },
  "orig_nbformat": 4,
  "vscode": {
   "interpreter": {
    "hash": "fea903cc172cce62c6301ba3c7eecfb26209215bbdb6c0bb5db0de1694474dd0"
   }
  }
 },
 "nbformat": 4,
 "nbformat_minor": 2
}
