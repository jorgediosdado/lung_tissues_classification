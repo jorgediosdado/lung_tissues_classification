{
 "cells": [
  {
   "cell_type": "code",
   "execution_count": 1,
   "metadata": {},
   "outputs": [],
   "source": [
    "import os"
   ]
  },
  {
   "cell_type": "code",
   "execution_count": 48,
   "metadata": {},
   "outputs": [],
   "source": [
    "#FUnction to lowercase the files\n",
    "\n",
    "# def rename_files(folder_path):\n",
    "#     for root, _, files in os.walk(folder_path):\n",
    "#         for filename in files:\n",
    "#             # Get the full path of the file\n",
    "#             file_path = os.path.join(root, filename)\n",
    "\n",
    "#             # Check if the path represents a file (not a directory)\n",
    "#             if os.path.isfile(file_path):\n",
    "#                 # Convert the filename to lowercase\n",
    "#                 new_filename = filename.lower()\n",
    "\n",
    "#                 # Construct the new path with the renamed file\n",
    "#                 new_file_path = os.path.join(root, new_filename)\n",
    "\n",
    "#                 # Rename the file\n",
    "#                 os.rename(file_path, new_file_path)\n",
    "\n",
    "# # Specify the path to the main folder containing the subfolders and files\n",
    "# folder_path = 'folder'\n",
    "\n",
    "# # Call the function to rename the files\n",
    "# rename_files(folder_path)"
   ]
  },
  {
   "cell_type": "code",
   "execution_count": 53,
   "metadata": {},
   "outputs": [
    {
     "name": "stdout",
     "output_type": "stream",
     "text": [
      "Subfolder: aca\n",
      "Images with 'bd': 172\n",
      "Images with 'md': 80\n",
      "Images with 'pd': 92\n",
      "Images with 'h': 0\n",
      "Total Files in aca: 344\n",
      "\n",
      "Subfolder: scc\n",
      "Images with 'bd': 136\n",
      "Images with 'md': 152\n",
      "Images with 'pd': 112\n",
      "Images with 'h': 0\n",
      "Total Files in scc: 400\n",
      "\n"
     ]
    }
   ],
   "source": [
    "main_folder = 'soloultimatanda'\n",
    "strings_to_search = ['bd', 'md', 'pd', 'h']\n",
    "\n",
    "# Iterate over the subfolders\n",
    "for subfolder in os.listdir(main_folder):\n",
    "    subfolder_path = os.path.join(main_folder, subfolder)\n",
    "    \n",
    "    # Initialize counts for each string and total file count for the subfolder\n",
    "    string_counts = {string: 0 for string in strings_to_search}\n",
    "    subfolder_file_count = 0\n",
    "    \n",
    "    # Iterate over the files in the subfolder\n",
    "    for file in os.listdir(subfolder_path):\n",
    "        if any(string in file for string in strings_to_search):\n",
    "            # Check if the file contains any of the search strings\n",
    "            for string in strings_to_search:\n",
    "                if string in file:\n",
    "                    string_counts[string] += 1\n",
    "\n",
    "        # Increment the subfolder file count\n",
    "        subfolder_file_count += 1\n",
    "    \n",
    "    # Print the results for the current subfolder\n",
    "    print(f\"Subfolder: {subfolder}\")\n",
    "    for string in strings_to_search:\n",
    "        print(f\"Images with '{string}': {string_counts[string]}\")\n",
    "    print(f\"Total Files in {subfolder}: {subfolder_file_count}\")\n",
    "    print()"
   ]
  },
  {
   "cell_type": "code",
   "execution_count": 49,
   "metadata": {},
   "outputs": [
    {
     "name": "stdout",
     "output_type": "stream",
     "text": [
      "Subfolder: aca\n",
      "Images with '20x': 196\n",
      "Images with '40x': 148\n",
      "Total Files in aca: 344\n",
      "\n",
      "Subfolder: scc\n",
      "Images with '20x': 200\n",
      "Images with '40x': 200\n",
      "Total Files in scc: 400\n",
      "\n"
     ]
    }
   ],
   "source": [
    "main_folder = 'soloultimatanda'\n",
    "strings_to_search = ['20x', '40x']\n",
    "\n",
    "# Iterate over the subfolders\n",
    "for subfolder in os.listdir(main_folder):\n",
    "    subfolder_path = os.path.join(main_folder, subfolder)\n",
    "    \n",
    "    # Initialize counts for each string and total file count for the subfolder\n",
    "    string_counts = {string: 0 for string in strings_to_search}\n",
    "    subfolder_file_count = 0\n",
    "    \n",
    "    # Iterate over the files in the subfolder\n",
    "    for file in os.listdir(subfolder_path):\n",
    "        if any(string in file for string in strings_to_search):\n",
    "            # Check if the file contains any of the search strings\n",
    "            for string in strings_to_search:\n",
    "                if string in file:\n",
    "                    string_counts[string] += 1\n",
    "\n",
    "        # Increment the subfolder file count\n",
    "        subfolder_file_count += 1\n",
    "    \n",
    "    # Print the results for the current subfolder\n",
    "    print(f\"Subfolder: {subfolder}\")\n",
    "    for string in strings_to_search:\n",
    "        print(f\"Images with '{string}': {string_counts[string]}\")\n",
    "    print(f\"Total Files in {subfolder}: {subfolder_file_count}\")\n",
    "    print()"
   ]
  },
  {
   "cell_type": "code",
   "execution_count": 54,
   "metadata": {},
   "outputs": [
    {
     "name": "stdout",
     "output_type": "stream",
     "text": [
      "Main folder: private_combined_test_set\n",
      "Images with 'bd': 92\n",
      "Images with 'md': 64\n",
      "Images with 'pd': 60\n",
      "Images with 'h': 20\n",
      "total number of files =  304\n"
     ]
    }
   ],
   "source": [
    "main_folder = 'private_combined_test_set'\n",
    "strings_to_search = ['bd', 'md', 'pd', 'h']\n",
    "string_counts = {string: 0 for string in strings_to_search}\n",
    "\n",
    "\n",
    "total_files = 0\n",
    "\n",
    "\n",
    "for file in os.listdir(main_folder):\n",
    "\n",
    "    total_files+=1\n",
    "\n",
    "    if any(string in file for string in strings_to_search):\n",
    "        for string in strings_to_search:\n",
    "            if string in file:\n",
    "                string_counts[string] += 1\n",
    "\n",
    "print(\"Main folder:\", main_folder)\n",
    "for string in strings_to_search:\n",
    "    print(f\"Images with '{string}': {string_counts[string]}\")\n",
    "\n",
    "print(\"total number of files = \",total_files)\n",
    "\n"
   ]
  },
  {
   "cell_type": "code",
   "execution_count": 55,
   "metadata": {},
   "outputs": [
    {
     "name": "stdout",
     "output_type": "stream",
     "text": [
      "Main folder: private_combined_test_set\n",
      "Images with '20x': 260\n",
      "Images with '40x': 44\n",
      "total number of files =  304\n"
     ]
    }
   ],
   "source": [
    "main_folder = 'private_combined_test_set'\n",
    "strings_to_search = ['20x', '40x']\n",
    "string_counts = {string: 0 for string in strings_to_search}\n",
    "\n",
    "\n",
    "total_files = 0\n",
    "\n",
    "\n",
    "for file in os.listdir(main_folder):\n",
    "\n",
    "    total_files+=1\n",
    "\n",
    "    if any(string in file for string in strings_to_search):\n",
    "        for string in strings_to_search:\n",
    "            if string in file:\n",
    "                string_counts[string] += 1\n",
    "\n",
    "print(\"Main folder:\", main_folder)\n",
    "for string in strings_to_search:\n",
    "    print(f\"Images with '{string}': {string_counts[string]}\")\n",
    "\n",
    "print(\"total number of files = \",total_files)\n",
    "\n"
   ]
  },
  {
   "cell_type": "code",
   "execution_count": 47,
   "metadata": {},
   "outputs": [
    {
     "name": "stdout",
     "output_type": "stream",
     "text": [
      "Subfolder: aca\n",
      "Images with 'bd': 172 from those, 96 are '20x' and 76 are '40x'\n",
      "Images with 'md': 80 from those, 56 are '20x' and 24 are '40x'\n",
      "Images with 'pd': 92 from those, 44 are '20x' and 48 are '40x'\n",
      "Images with 'h': 0 from those, 0 are '20x' and 0 are '40x'\n",
      "Total Files in aca: 344\n",
      "\n",
      "Subfolder: scc\n",
      "Images with 'bd': 136 from those, 44 are '20x' and 92 are '40x'\n",
      "Images with 'md': 152 from those, 96 are '20x' and 56 are '40x'\n",
      "Images with 'pd': 112 from those, 60 are '20x' and 52 are '40x'\n",
      "Images with 'h': 0 from those, 0 are '20x' and 0 are '40x'\n",
      "Total Files in scc: 400\n",
      "\n"
     ]
    }
   ],
   "source": [
    "main_folder = 'soloultimatanda'\n",
    "strings_to_search = ['bd', 'md', 'pd', 'h']\n",
    "substring_to_search = ['20x', '40x']\n",
    "\n",
    "for subfolder in os.listdir(main_folder):\n",
    "    subfolder_path = os.path.join(main_folder, subfolder)\n",
    "\n",
    "    string_counts = {string: 0 for string in strings_to_search}\n",
    "    substring_counts = {string: {substring: 0 for substring in substring_to_search} for string in strings_to_search}\n",
    "    subfolder_file_count = 0\n",
    "\n",
    "    for file in os.listdir(subfolder_path):\n",
    "        for string in strings_to_search:\n",
    "            if string in file:\n",
    "                subfolder_file_count += 1\n",
    "                string_counts[string] += 1\n",
    "                for substring in substring_to_search:\n",
    "                    if substring in file:\n",
    "                        substring_counts[string][substring] += 1\n",
    "                        break  # Assuming only one substring match is possible per file\n",
    "\n",
    "    print(f\"Subfolder: {subfolder}\")\n",
    "    for string in strings_to_search:\n",
    "        print(f\"Images with '{string}': {string_counts[string]} from those, {substring_counts[string]['20x']} are '20x' and {substring_counts[string]['40x']} are '40x'\")\n",
    "    print(f\"Total Files in {subfolder}: {subfolder_file_count}\")\n",
    "    print()"
   ]
  },
  {
   "cell_type": "code",
   "execution_count": 20,
   "metadata": {},
   "outputs": [],
   "source": [
    "# import hashlib\n",
    "\n",
    "# def find_duplicate_files(folder_path):\n",
    "#     # Dictionary to store file hashes and their paths\n",
    "#     file_hashes = {}\n",
    "\n",
    "#     for root, dirs, files in os.walk(folder_path):\n",
    "#         for filename in files:\n",
    "#             file_path = os.path.join(root, filename)\n",
    "#             with open(file_path, 'rb') as file:\n",
    "#                 # Calculate the hash of the file's contents\n",
    "#                 file_hash = hashlib.md5(file.read()).hexdigest()\n",
    "\n",
    "#             # Check if the hash already exists in the dictionary\n",
    "#             if file_hash in file_hashes:\n",
    "#                 # Duplicate file found\n",
    "#                 print(\"Duplicate files:\")\n",
    "#                 print(file_path)\n",
    "#                 print(file_hashes[file_hash])\n",
    "#                 print()\n",
    "#             else:\n",
    "#                 # Add the hash and file path to the dictionary\n",
    "#                 file_hashes[file_hash] = file_path\n",
    "\n",
    "# folder_path = input(\"private_combined\")\n",
    "# find_duplicate_files(folder_path)\n",
    "\n",
    "\n"
   ]
  }
 ],
 "metadata": {
  "kernelspec": {
   "display_name": "base",
   "language": "python",
   "name": "python3"
  },
  "language_info": {
   "codemirror_mode": {
    "name": "ipython",
    "version": 3
   },
   "file_extension": ".py",
   "mimetype": "text/x-python",
   "name": "python",
   "nbconvert_exporter": "python",
   "pygments_lexer": "ipython3",
   "version": "3.9.12"
  },
  "orig_nbformat": 4
 },
 "nbformat": 4,
 "nbformat_minor": 2
}
