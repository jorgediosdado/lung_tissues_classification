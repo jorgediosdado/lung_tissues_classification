{
 "cells": [
  {
   "cell_type": "code",
   "execution_count": 6,
   "metadata": {},
   "outputs": [],
   "source": [
    "import os\n",
    "import tensorflow as tf\n",
    "from keras import models\n",
    "from keras import layers\n",
    "from keras import Sequential\n",
    "from datetime import datetime\n",
    "from PIL import Image\n",
    "import numpy as np\n",
    "import keras.backend as K\n",
    "import matplotlib.pyplot as plt\n",
    "import mlflow\n",
    "from tensorflow.keras.layers.experimental import preprocessing\n",
    "from tensorflow.keras.applications import EfficientNetB4\n",
    "from tensorflow.keras.utils import plot_model\n",
    "from matplotlib import pyplot as plt\n",
    "from keras.models import Model\n",
    "from sklearn.metrics import confusion_matrix, ConfusionMatrixDisplay, precision_score, recall_score, accuracy_score\n"
   ]
  },
  {
   "cell_type": "code",
   "execution_count": 7,
   "metadata": {},
   "outputs": [],
   "source": [
    "dataset_name = \"crop_dataset_2\"\n",
    "batch_size = 16"
   ]
  },
  {
   "cell_type": "code",
   "execution_count": 8,
   "metadata": {},
   "outputs": [],
   "source": [
    "# tf.keras.mixed_precision.set_global_policy('mixed_float16')"
   ]
  },
  {
   "cell_type": "code",
   "execution_count": 10,
   "metadata": {},
   "outputs": [
    {
     "name": "stdout",
     "output_type": "stream",
     "text": [
      "Found 1864 files belonging to 7 classes.\n",
      "Using 1492 files for training.\n",
      "Found 1864 files belonging to 7 classes.\n",
      "Using 372 files for validation.\n"
     ]
    }
   ],
   "source": [
    "# Load the dataset\n",
    "\n",
    "image_size = (380, 380)\n",
    "\n",
    "train_ds = tf.keras.preprocessing.image_dataset_from_directory(\n",
    "    dataset_name,\n",
    "    validation_split=0.2,\n",
    "    subset=\"training\",\n",
    "    label_mode = 'int',\n",
    "    labels = 'inferred',\n",
    "    seed=1336,\n",
    "    image_size=image_size,\n",
    "    interpolation = 'bilinear',\n",
    "    batch_size=batch_size,\n",
    "    shuffle = True,\n",
    ")\n",
    "\n",
    "\n",
    "val_ds = tf.keras.preprocessing.image_dataset_from_directory(\n",
    "    dataset_name,\n",
    "    validation_split=0.2,\n",
    "    subset=\"validation\",\n",
    "    label_mode = 'int',\n",
    "    labels = 'inferred',\n",
    "    seed=1336,\n",
    "    image_size=image_size,\n",
    "    interpolation = 'bilinear',\n",
    "    batch_size=batch_size,\n",
    "    shuffle = True,\n",
    ")\n"
   ]
  },
  {
   "cell_type": "code",
   "execution_count": 11,
   "metadata": {},
   "outputs": [
    {
     "name": "stdout",
     "output_type": "stream",
     "text": [
      "['aca_bd', 'aca_md', 'aca_pd', 'nor', 'scc_bd', 'scc_md', 'scc_pd']\n"
     ]
    }
   ],
   "source": [
    "class_names = train_ds.class_names\n",
    "print(class_names)"
   ]
  },
  {
   "cell_type": "code",
   "execution_count": 12,
   "metadata": {},
   "outputs": [],
   "source": [
    "# Obtain the number of samples\n",
    "num_train_samples = 0\n",
    "for images, labels in train_ds:\n",
    "    num_train_samples += images.shape[0]\n",
    "\n",
    "num_val_samples = 0\n",
    "for images, labels in val_ds:\n",
    "    num_val_samples += images.shape[0]\n",
    "\n",
    "\n"
   ]
  },
  {
   "cell_type": "code",
   "execution_count": 13,
   "metadata": {},
   "outputs": [
    {
     "name": "stdout",
     "output_type": "stream",
     "text": [
      "(16, 380, 380, 3)\n",
      "(16,)\n"
     ]
    }
   ],
   "source": [
    "# Print the dimensions of the training dataset\n",
    "for images, labels in train_ds:\n",
    "    print(images.shape)\n",
    "    print(labels.shape)\n",
    "    break"
   ]
  },
  {
   "cell_type": "code",
   "execution_count": 14,
   "metadata": {},
   "outputs": [
    {
     "name": "stdout",
     "output_type": "stream",
     "text": [
      "Number of training samples: 1492\n",
      "Number of validation samples: 372\n"
     ]
    }
   ],
   "source": [
    "print(\"Number of training samples:\", num_train_samples)\n",
    "print(\"Number of validation samples:\", num_val_samples)\n"
   ]
  },
  {
   "cell_type": "code",
   "execution_count": 15,
   "metadata": {},
   "outputs": [],
   "source": [
    "# imput = (255,255,3)"
   ]
  },
  {
   "attachments": {},
   "cell_type": "markdown",
   "metadata": {},
   "source": [
    "Each EfficientNet variant has a specific input size requirement. Here are the input sizes for some popular EfficientNet models:\n",
    "\n",
    "EfficientNetB0: (224, 224, 3)\n",
    "EfficientNetB1: (240, 240, 3)\n",
    "EfficientNetB2: (260, 260, 3)\n",
    "EfficientNetB3: (300, 300, 3)\n",
    "EfficientNetB4: (380, 380, 3)\n",
    "EfficientNetB5: (456, 456, 3)\n",
    "EfficientNetB6: (528, 528, 3)\n",
    "EfficientNetB7: (600, 600, 3)\n",
    "These sizes represent the input dimensions (height, width, number of channels) that the models expect. Therefore, when using any EfficientNet variant, you need to resize your images to match the corresponding input size before feeding them into the model."
   ]
  },
  {
   "cell_type": "code",
   "execution_count": 17,
   "metadata": {},
   "outputs": [
    {
     "name": "stdout",
     "output_type": "stream",
     "text": [
      "Model: \"model_1\"\n",
      "_________________________________________________________________\n",
      "Layer (type)                 Output Shape              Param #   \n",
      "=================================================================\n",
      "input_4 (InputLayer)         [(None, 380, 380, 3)]     0         \n",
      "_________________________________________________________________\n",
      "sequential_1 (Sequential)    (None, 380, 380, 3)       0         \n",
      "_________________________________________________________________\n",
      "efficientnetb4 (Functional)  (None, 1792)              17673823  \n",
      "_________________________________________________________________\n",
      "dense_2 (Dense)              (None, 512)               918016    \n",
      "_________________________________________________________________\n",
      "dense_3 (Dense)              (None, 7)                 3591      \n",
      "=================================================================\n",
      "Total params: 18,595,430\n",
      "Trainable params: 3,236,871\n",
      "Non-trainable params: 15,358,559\n",
      "_________________________________________________________________\n"
     ]
    }
   ],
   "source": [
    "base_model = EfficientNetB4(include_top = False ,weights='imagenet', pooling='avg')\n",
    "\n",
    "\n",
    "# Introduce a layer of data augmentation\n",
    "data_augmentation = Sequential([\n",
    "   preprocessing.RandomRotation(0.2),\n",
    "    preprocessing.RandomFlip(\"horizontal\"),\n",
    "    preprocessing.RandomZoom(0.2),\n",
    "    preprocessing.RandomContrast(0.2),\n",
    "    preprocessing.RandomTranslation(0.2, 0.2),    \n",
    "])\n",
    "\n",
    "\n",
    "\n",
    "# Freeze all layers in the base model\n",
    "for layer in base_model.layers:\n",
    "    layer.trainable = False\n",
    "\n",
    "# Unfreeze the last 10 layers in the base model for fine-tuning\n",
    "\n",
    "for layer in base_model.layers[-10:]:\n",
    "    layer.trainable = True\n",
    "\n",
    "#Capa de entradas. No se si eficientnet ya espera 225x225 o es 224 x 224. En realidad la efficient net ya tiene un parametro de input shape...\n",
    "# Capa de entradas\n",
    "\n",
    "entradas = layers.Input((380, 380, 3))\n",
    "\n",
    "# Apply data augmentation to the input images\n",
    "x = data_augmentation(entradas)\n",
    "\n",
    "\n",
    "# Pass the augmented images through the base model\n",
    "x = base_model(x)\n",
    "\n",
    "\n",
    "# Add a dense layer\n",
    "x = layers.Dense(512, activation='relu')(x)\n",
    "# Add another dense layer\n",
    "salidas = layers.Dense(7, activation='softmax')(x)\n",
    "\n",
    "modelo = Model(inputs = entradas, outputs = salidas)\n",
    "\n",
    "modelo.compile(optimizer = 'adam', loss = 'sparse_categorical_crossentropy', metrics = ['accuracy'])\n",
    "modelo.summary()\n"
   ]
  },
  {
   "cell_type": "code",
   "execution_count": 18,
   "metadata": {},
   "outputs": [
    {
     "name": "stdout",
     "output_type": "stream",
     "text": [
      "Number of parameters: 18595430\n"
     ]
    }
   ],
   "source": [
    "num_params = modelo.count_params()\n",
    "print(\"Number of parameters:\", num_params)\n",
    "\n"
   ]
  },
  {
   "cell_type": "code",
   "execution_count": 19,
   "metadata": {},
   "outputs": [],
   "source": [
    "folder_date = 'old_models/' +  datetime.now().strftime(\"%Y_%m_%d-%I_%M_%S_%p\")\n",
    "os.mkdir(folder_date)\n",
    "filepath_model = folder_date + '/my_best_model.epoch{epoch:02d}-loss{val_loss:.2f}.hdf5'\n"
   ]
  },
  {
   "attachments": {},
   "cell_type": "markdown",
   "metadata": {},
   "source": [
    "# Callbacks"
   ]
  },
  {
   "cell_type": "code",
   "execution_count": 20,
   "metadata": {},
   "outputs": [],
   "source": [
    "model_checkpoint_callback = tf.keras.callbacks.ModelCheckpoint(\n",
    "filepath=filepath_model,\n",
    "save_weights_only=False,\n",
    "monitor='val_accuracy',\n",
    "mode='max',\n",
    "save_freq=\"epoch\",\n",
    "save_best_only=True)"
   ]
  },
  {
   "cell_type": "code",
   "execution_count": 21,
   "metadata": {},
   "outputs": [],
   "source": [
    "early_stopping = tf.keras.callbacks.EarlyStopping(monitor='val_loss', patience=4, mode='auto', verbose = 1, )"
   ]
  },
  {
   "attachments": {},
   "cell_type": "markdown",
   "metadata": {},
   "source": [
    "## Para hacer un training con weights"
   ]
  },
  {
   "cell_type": "code",
   "execution_count": 22,
   "metadata": {},
   "outputs": [],
   "source": [
    "\n",
    "# # Calculate class weights\n",
    "# # class_weights = tf.class_weight.compute_class_weight('balanced', tf.unique(train_ds.labels)[0], train_ds.labels)\n",
    "\n",
    "# # Convert class weights to dictionary\n",
    "# # class_weights_dict = {i: weight for i, weight in enumerate(class_weights)}\n",
    "\n",
    "# # history = modelo.fit(\n",
    "# #     train_ds, epochs=epochs, validation_data=val_ds, callbacks=[model_checkpoint_callback], class_weight=class_weights_dict\n",
    "# # )"
   ]
  },
  {
   "cell_type": "code",
   "execution_count": 30,
   "metadata": {},
   "outputs": [],
   "source": [
    "mlflow.end_run()\n"
   ]
  },
  {
   "cell_type": "code",
   "execution_count": 31,
   "metadata": {},
   "outputs": [
    {
     "name": "stdout",
     "output_type": "stream",
     "text": [
      "Epoch 1/60\n",
      "94/94 [==============================] - 66s 678ms/step - loss: 0.6249 - accuracy: 0.7634 - val_loss: 0.6559 - val_accuracy: 0.7715\n",
      "Epoch 2/60\n",
      "94/94 [==============================] - 63s 670ms/step - loss: 0.5952 - accuracy: 0.7902 - val_loss: 0.7041 - val_accuracy: 0.7661\n",
      "Epoch 3/60\n",
      "94/94 [==============================] - 63s 668ms/step - loss: 0.5698 - accuracy: 0.7882 - val_loss: 0.8961 - val_accuracy: 0.7285\n",
      "Epoch 4/60\n",
      "94/94 [==============================] - 63s 668ms/step - loss: 0.5806 - accuracy: 0.7922 - val_loss: 0.6962 - val_accuracy: 0.7608\n",
      "Epoch 5/60\n",
      "94/94 [==============================] - 62s 657ms/step - loss: 0.5600 - accuracy: 0.7969 - val_loss: 0.8330 - val_accuracy: 0.7419\n",
      "Epoch 6/60\n",
      "94/94 [==============================] - 62s 658ms/step - loss: 0.5493 - accuracy: 0.7976 - val_loss: 0.7306 - val_accuracy: 0.7554\n",
      "Epoch 7/60\n",
      "94/94 [==============================] - 63s 666ms/step - loss: 0.5154 - accuracy: 0.8164 - val_loss: 0.6534 - val_accuracy: 0.7581\n",
      "Epoch 8/60\n",
      "94/94 [==============================] - 62s 657ms/step - loss: 0.5297 - accuracy: 0.8103 - val_loss: 0.6752 - val_accuracy: 0.7634\n",
      "Epoch 9/60\n",
      "94/94 [==============================] - 62s 661ms/step - loss: 0.4992 - accuracy: 0.8123 - val_loss: 0.6360 - val_accuracy: 0.7823\n",
      "Epoch 10/60\n",
      "94/94 [==============================] - 62s 660ms/step - loss: 0.4381 - accuracy: 0.8452 - val_loss: 0.6743 - val_accuracy: 0.7930\n",
      "Epoch 11/60\n",
      "94/94 [==============================] - 65s 691ms/step - loss: 0.4533 - accuracy: 0.8338 - val_loss: 0.7728 - val_accuracy: 0.7500\n",
      "Epoch 12/60\n",
      "94/94 [==============================] - 63s 668ms/step - loss: 0.4732 - accuracy: 0.8284 - val_loss: 0.6276 - val_accuracy: 0.7661\n",
      "Epoch 13/60\n",
      "94/94 [==============================] - 63s 664ms/step - loss: 0.4596 - accuracy: 0.8291 - val_loss: 0.6024 - val_accuracy: 0.8038\n",
      "Epoch 14/60\n",
      "94/94 [==============================] - 62s 659ms/step - loss: 0.4380 - accuracy: 0.8385 - val_loss: 0.6900 - val_accuracy: 0.7634\n",
      "Epoch 15/60\n",
      "94/94 [==============================] - 62s 652ms/step - loss: 0.4189 - accuracy: 0.8472 - val_loss: 0.6462 - val_accuracy: 0.7742\n",
      "Epoch 16/60\n",
      "94/94 [==============================] - 62s 653ms/step - loss: 0.4138 - accuracy: 0.8586 - val_loss: 0.6433 - val_accuracy: 0.7823\n",
      "Epoch 17/60\n",
      "94/94 [==============================] - 61s 648ms/step - loss: 0.4067 - accuracy: 0.8559 - val_loss: 0.7451 - val_accuracy: 0.7634\n",
      "Epoch 18/60\n",
      "94/94 [==============================] - 61s 644ms/step - loss: 0.4422 - accuracy: 0.8512 - val_loss: 0.7023 - val_accuracy: 0.7715\n",
      "Epoch 19/60\n",
      "94/94 [==============================] - 61s 645ms/step - loss: 0.4172 - accuracy: 0.8566 - val_loss: 0.6532 - val_accuracy: 0.7984\n",
      "Epoch 20/60\n",
      "94/94 [==============================] - 61s 646ms/step - loss: 0.3682 - accuracy: 0.8720 - val_loss: 0.6614 - val_accuracy: 0.7823\n",
      "Epoch 21/60\n",
      "94/94 [==============================] - 61s 644ms/step - loss: 0.3779 - accuracy: 0.8680 - val_loss: 0.7520 - val_accuracy: 0.7634\n",
      "Epoch 22/60\n",
      "94/94 [==============================] - 61s 649ms/step - loss: 0.3476 - accuracy: 0.8727 - val_loss: 0.6291 - val_accuracy: 0.7876\n",
      "Epoch 23/60\n",
      "94/94 [==============================] - 61s 650ms/step - loss: 0.3522 - accuracy: 0.8700 - val_loss: 0.7355 - val_accuracy: 0.7581\n",
      "Epoch 24/60\n",
      "94/94 [==============================] - 61s 648ms/step - loss: 0.3302 - accuracy: 0.8894 - val_loss: 0.7392 - val_accuracy: 0.7715\n",
      "Epoch 25/60\n",
      "94/94 [==============================] - 60s 641ms/step - loss: 0.3194 - accuracy: 0.8820 - val_loss: 0.8058 - val_accuracy: 0.7661\n",
      "Epoch 26/60\n",
      "94/94 [==============================] - 61s 647ms/step - loss: 0.3333 - accuracy: 0.8800 - val_loss: 0.7976 - val_accuracy: 0.7769\n",
      "Epoch 27/60\n",
      "94/94 [==============================] - 61s 647ms/step - loss: 0.3667 - accuracy: 0.8713 - val_loss: 0.6883 - val_accuracy: 0.7984\n",
      "Epoch 28/60\n",
      "94/94 [==============================] - 61s 649ms/step - loss: 0.2997 - accuracy: 0.8847 - val_loss: 0.6521 - val_accuracy: 0.7957\n",
      "Epoch 29/60\n",
      "94/94 [==============================] - 61s 646ms/step - loss: 0.3141 - accuracy: 0.8861 - val_loss: 0.6513 - val_accuracy: 0.8065\n",
      "Epoch 30/60\n",
      "94/94 [==============================] - 62s 655ms/step - loss: 0.3355 - accuracy: 0.8753 - val_loss: 0.5591 - val_accuracy: 0.8306\n",
      "Epoch 31/60\n",
      "94/94 [==============================] - 62s 652ms/step - loss: 0.3330 - accuracy: 0.8820 - val_loss: 0.5951 - val_accuracy: 0.8280\n",
      "Epoch 32/60\n",
      "94/94 [==============================] - 61s 651ms/step - loss: 0.3106 - accuracy: 0.8894 - val_loss: 0.7798 - val_accuracy: 0.8011\n",
      "Epoch 33/60\n",
      "94/94 [==============================] - 61s 646ms/step - loss: 0.2914 - accuracy: 0.9062 - val_loss: 0.6811 - val_accuracy: 0.8065\n",
      "Epoch 34/60\n",
      "94/94 [==============================] - 61s 646ms/step - loss: 0.2877 - accuracy: 0.8914 - val_loss: 0.6671 - val_accuracy: 0.7984\n",
      "Epoch 35/60\n",
      "94/94 [==============================] - 61s 649ms/step - loss: 0.2964 - accuracy: 0.8921 - val_loss: 0.6408 - val_accuracy: 0.7903\n",
      "Epoch 36/60\n",
      "94/94 [==============================] - 61s 648ms/step - loss: 0.2840 - accuracy: 0.8988 - val_loss: 0.6298 - val_accuracy: 0.8011\n",
      "Epoch 37/60\n",
      "94/94 [==============================] - 62s 661ms/step - loss: 0.2553 - accuracy: 0.9068 - val_loss: 0.5590 - val_accuracy: 0.8226\n",
      "Epoch 38/60\n",
      "94/94 [==============================] - 62s 651ms/step - loss: 0.3110 - accuracy: 0.8981 - val_loss: 0.6053 - val_accuracy: 0.8253\n",
      "Epoch 39/60\n",
      "94/94 [==============================] - 62s 651ms/step - loss: 0.2500 - accuracy: 0.9021 - val_loss: 0.6300 - val_accuracy: 0.8172\n",
      "Epoch 40/60\n",
      "94/94 [==============================] - 61s 650ms/step - loss: 0.2986 - accuracy: 0.9001 - val_loss: 0.6652 - val_accuracy: 0.8118\n",
      "Epoch 41/60\n",
      "94/94 [==============================] - 61s 650ms/step - loss: 0.2688 - accuracy: 0.9035 - val_loss: 0.7451 - val_accuracy: 0.7849\n",
      "Epoch 42/60\n",
      "94/94 [==============================] - 61s 644ms/step - loss: 0.2483 - accuracy: 0.9176 - val_loss: 0.6766 - val_accuracy: 0.8360\n",
      "Epoch 43/60\n",
      "94/94 [==============================] - 62s 652ms/step - loss: 0.2296 - accuracy: 0.9115 - val_loss: 0.7686 - val_accuracy: 0.8011\n",
      "Epoch 44/60\n",
      "94/94 [==============================] - 62s 653ms/step - loss: 0.2857 - accuracy: 0.9015 - val_loss: 0.6020 - val_accuracy: 0.8333\n",
      "Epoch 45/60\n",
      "94/94 [==============================] - 61s 647ms/step - loss: 0.2580 - accuracy: 0.9068 - val_loss: 0.5359 - val_accuracy: 0.8333\n",
      "Epoch 46/60\n",
      "94/94 [==============================] - 61s 647ms/step - loss: 0.2698 - accuracy: 0.9109 - val_loss: 0.5683 - val_accuracy: 0.8226\n",
      "Epoch 47/60\n",
      "94/94 [==============================] - 61s 648ms/step - loss: 0.2574 - accuracy: 0.9095 - val_loss: 0.7532 - val_accuracy: 0.7984\n",
      "Epoch 48/60\n",
      "94/94 [==============================] - 61s 648ms/step - loss: 0.2313 - accuracy: 0.9216 - val_loss: 0.5928 - val_accuracy: 0.8280\n",
      "Epoch 49/60\n",
      "94/94 [==============================] - 61s 649ms/step - loss: 0.2306 - accuracy: 0.9229 - val_loss: 0.6574 - val_accuracy: 0.8118\n",
      "Epoch 50/60\n",
      "94/94 [==============================] - 63s 671ms/step - loss: 0.2508 - accuracy: 0.9169 - val_loss: 0.6421 - val_accuracy: 0.8280\n",
      "Epoch 51/60\n",
      "94/94 [==============================] - 61s 647ms/step - loss: 0.2222 - accuracy: 0.9155 - val_loss: 0.6646 - val_accuracy: 0.8199\n",
      "Epoch 52/60\n",
      "94/94 [==============================] - 61s 648ms/step - loss: 0.2410 - accuracy: 0.9182 - val_loss: 0.7535 - val_accuracy: 0.8172\n",
      "Epoch 53/60\n",
      "94/94 [==============================] - 64s 676ms/step - loss: 0.2641 - accuracy: 0.9122 - val_loss: 0.6893 - val_accuracy: 0.8145\n",
      "Epoch 54/60\n",
      "94/94 [==============================] - 63s 671ms/step - loss: 0.2100 - accuracy: 0.9269 - val_loss: 0.6965 - val_accuracy: 0.8306\n",
      "Epoch 55/60\n",
      "94/94 [==============================] - 63s 664ms/step - loss: 0.2477 - accuracy: 0.9115 - val_loss: 0.6338 - val_accuracy: 0.8253\n",
      "Epoch 56/60\n",
      "94/94 [==============================] - 62s 660ms/step - loss: 0.1866 - accuracy: 0.9269 - val_loss: 0.6003 - val_accuracy: 0.8441\n",
      "Epoch 57/60\n",
      "94/94 [==============================] - 61s 644ms/step - loss: 0.2154 - accuracy: 0.9223 - val_loss: 0.6652 - val_accuracy: 0.8172\n",
      "Epoch 58/60\n",
      "94/94 [==============================] - 56s 594ms/step - loss: 0.2286 - accuracy: 0.9182 - val_loss: 0.8877 - val_accuracy: 0.7984\n",
      "Epoch 59/60\n",
      "94/94 [==============================] - 56s 594ms/step - loss: 0.2513 - accuracy: 0.9155 - val_loss: 0.6426 - val_accuracy: 0.8226\n",
      "Epoch 60/60\n",
      "94/94 [==============================] - 56s 593ms/step - loss: 0.1946 - accuracy: 0.9377 - val_loss: 0.6927 - val_accuracy: 0.8226\n",
      "24/24 [==============================] - 11s 426ms/step - loss: 0.6927 - accuracy: 0.8226\n"
     ]
    }
   ],
   "source": [
    "# Start an MLflow run\n",
    "mlflow.start_run()\n",
    "\n",
    "mlflow.set_experiment('scientific_data')\n",
    "\n",
    "# Log the name of the dataset\n",
    "mlflow.log_param(\"dataset_name\", dataset_name)\n",
    "\n",
    "# Log the number of samples in the dataset\n",
    "#   mlflow.log_param(\"num_samples_train\", num_train_samples)\n",
    "#   mlflow.log_param(\"num_samples_train\", num_val_samples)\n",
    "\n",
    "tf.keras.backend.clear_session()\n",
    "\n",
    "\n",
    "epochs = 60\n",
    "history = modelo.fit(\n",
    "    train_ds, epochs=epochs, validation_data=val_ds, callbacks=[model_checkpoint_callback]\n",
    ")\n",
    " \n",
    "# Evaluate the model\n",
    "loss, accuracy = modelo.evaluate(val_ds)\n",
    "\n",
    "#Logging\n",
    "\n",
    "\n",
    "mlflow.log_param(\"epochs\", epochs)\n",
    "mlflow.log_param(\"batch_size\", batch_size)\n",
    "\n",
    "mlflow.log_param(\"parameters\", num_params)\n",
    "\n",
    "mlflow.log_metric(\"val_loss\", loss)\n",
    "mlflow.log_metric(\"val_accuracy\", accuracy)\n",
    "\n",
    "\n"
   ]
  },
  {
   "cell_type": "code",
   "execution_count": 25,
   "metadata": {},
   "outputs": [],
   "source": [
    "#Guardo el modelo en la última epoch. Esto \n",
    "modelo.save(folder_date + '/modelo_entrenado.h5')\n"
   ]
  },
  {
   "cell_type": "code",
   "execution_count": 26,
   "metadata": {},
   "outputs": [
    {
     "name": "stdout",
     "output_type": "stream",
     "text": [
      "dict_keys(['loss', 'accuracy', 'val_loss', 'val_accuracy'])\n"
     ]
    }
   ],
   "source": [
    "history\n",
    "print(history.history.keys())"
   ]
  },
  {
   "cell_type": "code",
   "execution_count": 27,
   "metadata": {},
   "outputs": [
    {
     "data": {
      "text/plain": [
       "'old_models/2023_08_09-12_24_05_PM/accuracy.png'"
      ]
     },
     "execution_count": 27,
     "metadata": {},
     "output_type": "execute_result"
    }
   ],
   "source": [
    "folder_date + \"/accuracy.png\""
   ]
  },
  {
   "cell_type": "code",
   "execution_count": 28,
   "metadata": {},
   "outputs": [
    {
     "name": "stdout",
     "output_type": "stream",
     "text": [
      "dict_keys(['loss', 'accuracy', 'val_loss', 'val_accuracy'])\n"
     ]
    },
    {
     "data": {
      "image/png": "[encoded data removed]",
      "text/plain": [
       "<Figure size 432x288 with 1 Axes>"
      ]
     },
     "metadata": {
      "needs_background": "light"
     },
     "output_type": "display_data"
    },
    {
     "data": {
      "image/png": "[encoded data removed]",
      "text/plain": [
       "<Figure size 432x288 with 1 Axes>"
      ]
     },
     "metadata": {
      "needs_background": "light"
     },
     "output_type": "display_data"
    }
   ],
   "source": [
    "print(history.history.keys())\n",
    "\n",
    "#  \"Accuracy\"\n",
    "plt.plot(history.history['accuracy'])\n",
    "plt.plot(history.history['val_accuracy'])\n",
    "plt.title('model accuracy')\n",
    "plt.ylabel('accuracy')\n",
    "plt.xlabel('epoch')\n",
    "plt.legend(['train', 'validation'], loc='upper left')\n",
    "\n",
    "plt.text(len(history.history['accuracy'])-1, history.history['accuracy'][-1], \n",
    "         f\"Acc: {history.history['accuracy'][-1]:.4f}\", ha='center', va='bottom')\n",
    "plt.text(len(history.history['val_accuracy'])-1, history.history['val_accuracy'][-1], \n",
    "         f\"Val Acc: {history.history['val_accuracy'][-1]:.4f}\", ha='center', va='top')\n",
    "\n",
    "\n",
    "plt.savefig(folder_date + \"/accuracy.png\")\n",
    "plt.show()\n",
    "\n",
    "# \"Loss\"\n",
    "plt.plot(history.history['loss'])\n",
    "plt.plot(history.history['val_loss'])\n",
    "plt.title('model loss')\n",
    "plt.ylabel('loss')\n",
    "plt.xlabel('epoch')\n",
    "plt.legend(['train', 'validation'], loc='upper left')\n",
    "\n",
    "plt.text(len(history.history['loss'])-1, history.history['loss'][-1], \n",
    "         f\"Loss: {history.history['loss'][-1]:.4f}\", ha='center', va='bottom')\n",
    "plt.text(len(history.history['val_loss'])-1, history.history['val_loss'][-1], \n",
    "         f\"Val Loss: {history.history['val_loss'][-1]:.4f}\", ha='center', va='top')\n",
    "\n",
    "\n",
    "plt.savefig(folder_date + \"/loss.png\")\n",
    "plt.show()\n",
    "\n",
    "\n",
    "\n"
   ]
  },
  {
   "attachments": {},
   "cell_type": "markdown",
   "metadata": {},
   "source": [
    "Preguntas, cómo puedo gestionar datos que vienen de dos distribuciones distintas?\n",
    "\n"
   ]
  },
  {
   "attachments": {},
   "cell_type": "markdown",
   "metadata": {},
   "source": [
    "# This is a section to evaluate the model on te test data"
   ]
  },
  {
   "cell_type": "code",
   "execution_count": 33,
   "metadata": {},
   "outputs": [
    {
     "name": "stdout",
     "output_type": "stream",
     "text": [
      "[0, 0, 0, 0, 0, 0, 0, 0, 0, 0, 0, 0, 3, 0, 0, 0, 0, 0, 0, 0, 1, 1, 1, 3, 1, 1, 1, 1, 1, 0, 0, 5, 3, 3, 2, 3, 2, 2, 2, 2, 3, 4, 4, 4, 2, 2, 3, 2, 3, 3, 3, 3, 3, 3, 3, 3, 0, 2, 3, 6, 3, 3, 3, 3, 4, 5, 4, 4, 4, 4, 4, 1, 4, 4, 5, 4, 1, 4, 4, 4, 0, 5, 6, 0, 5, 5, 5, 5, 5, 5, 5, 5, 5, 5, 5, 5, 6, 6, 6, 6, 5, 6, 6, 5, 6, 2, 6, 2, 6, 6, 6, 6]\n",
      "[0, 0, 0, 0, 0, 0, 0, 0, 0, 0, 0, 0, 0, 0, 0, 0, 1, 1, 1, 1, 1, 1, 1, 1, 1, 1, 1, 1, 1, 1, 1, 1, 2, 2, 2, 2, 2, 2, 2, 2, 2, 2, 2, 2, 2, 2, 2, 2, 3, 3, 3, 3, 3, 3, 3, 3, 3, 3, 3, 3, 3, 3, 3, 3, 4, 4, 4, 4, 4, 4, 4, 4, 4, 4, 4, 4, 4, 4, 4, 4, 5, 5, 5, 5, 5, 5, 5, 5, 5, 5, 5, 5, 5, 5, 5, 5, 6, 6, 6, 6, 6, 6, 6, 6, 6, 6, 6, 6, 6, 6, 6, 6]\n"
     ]
    },
    {
     "data": {
      "image/png": "[encoded data removed]",
      "text/plain": [
       "<Figure size 432x288 with 2 Axes>"
      ]
     },
     "metadata": {
      "needs_background": "light"
     },
     "output_type": "display_data"
    },
    {
     "name": "stdout",
     "output_type": "stream",
     "text": [
      "Precision: 0.7402339723768295\n",
      "Recall: 0.7232142857142857\n",
      "Accuracy: 0.7232142857142857\n"
     ]
    }
   ],
   "source": [
    "# Load the test images from the folder 'test_images'\n",
    "predicted_labels= []\n",
    "true_labels = []\n",
    "directory = \"crop_dataset_test\"\n",
    "\n",
    "\n",
    "label_mapping = {\n",
    "    'aca_bd': 0,\n",
    "    'aca_md': 1,\n",
    "    'aca_pd': 2,\n",
    "    'nor' : 3,\n",
    "    'scc_bd' : 4,\n",
    "    'scc_md' : 5, \n",
    "    'scc_pd' : 6\n",
    "}\n",
    "\n",
    "\n",
    "for filename in os.listdir(directory):\n",
    "\n",
    "    # Load the image and add it to the list of test images\n",
    "    f = os.path.join(directory, filename)\n",
    "    imagen = tf.keras.preprocessing.image.load_img(f, target_size=(380,380))\n",
    "    x = tf.keras.preprocessing.image.img_to_array(imagen)    \n",
    "    x = np.expand_dims(x, axis=0)\n",
    "\n",
    "    prediction = modelo.predict(x)\n",
    "    predicted_class = np.argmax(prediction)\n",
    "\n",
    "    #True labels are calculated based on name. It is a very weak way of doing it. Look for a better one or rename the files\n",
    "\n",
    "    if 'aca_bd' in filename:\n",
    "        true_labels.append(0)\n",
    "    elif 'aca_md' in filename:\n",
    "        true_labels.append(1)\n",
    "    elif 'aca_pd' in filename:\n",
    "        true_labels.append(2)\n",
    "    elif 'nor' in filename:\n",
    "        true_labels.append(3)\n",
    "    elif 'scc_bd' in filename:\n",
    "        true_labels.append(4)    \n",
    "    elif 'scc_md' in filename:\n",
    "        true_labels.append(5)\n",
    "    elif 'scc_pd' in filename:\n",
    "        true_labels.append(6)\n",
    "    \n",
    "    predicted_labels.append(predicted_class)\n",
    "\n",
    "print(predicted_labels)\n",
    "print(true_labels)\n",
    "\n",
    "\n",
    "cm = confusion_matrix(true_labels, predicted_labels)\n",
    "labels = [label for label, _ in sorted(label_mapping.items(), key=lambda x: x[1])]\n",
    "disp = ConfusionMatrixDisplay(confusion_matrix=cm, display_labels=labels)\n",
    "disp.plot()\n",
    "\n",
    "plt.title(directory,  fontdict={'fontsize': 16})  # Set the new title for the plot\n",
    "plt.show()\n",
    "\n",
    "\n",
    "# Calculate precision, recall, and accuracy\n",
    "precision = precision_score(true_labels, predicted_labels, average='weighted')\n",
    "recall = recall_score(true_labels, predicted_labels, average='weighted')\n",
    "accuracy = accuracy_score(true_labels, predicted_labels)\n",
    "\n",
    "# Print the results\n",
    "print(\"Precision:\", precision)\n",
    "print(\"Recall:\", recall)\n",
    "print(\"Accuracy:\", accuracy)\n",
    "\n",
    "mlflow.log_metric(\"Precision\", precision)\n",
    "mlflow.log_metric(\"Recall\", recall)\n",
    "mlflow.log_metric(\"Accuracy\", accuracy)\n",
    "\n",
    "mlflow.end_run()\n",
    "\n"
   ]
  },
  {
   "cell_type": "code",
   "execution_count": null,
   "metadata": {},
   "outputs": [],
   "source": []
  }
 ],
 "metadata": {
  "kernelspec": {
   "display_name": "ml",
   "language": "python",
   "name": "python3"
  },
  "language_info": {
   "codemirror_mode": {
    "name": "ipython",
    "version": 3
   },
   "file_extension": ".py",
   "mimetype": "text/x-python",
   "name": "python",
   "nbconvert_exporter": "python",
   "pygments_lexer": "ipython3",
   "version": "3.9.12"
  },
  "orig_nbformat": 4,
  "vscode": {
   "interpreter": {
    "hash": "fea903cc172cce62c6301ba3c7eecfb26209215bbdb6c0bb5db0de1694474dd0"
   }
  }
 },
 "nbformat": 4,
 "nbformat_minor": 2
}
