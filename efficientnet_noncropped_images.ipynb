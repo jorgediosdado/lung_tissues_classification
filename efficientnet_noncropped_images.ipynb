{
 "cells": [
  {
   "cell_type": "markdown",
   "metadata": {},
   "source": [
    "## This is a notebook that integrates the training of two architectrures of NN over the histoloung (INSERT OTHER NAME) 600 dataset.\n",
    "## It has two differentiated cells for each network architecture. \n",
    "## On top, it will implement a search of the best architecture with tunersearch. "
   ]
  },
  {
   "cell_type": "code",
   "execution_count": 1,
   "metadata": {},
   "outputs": [],
   "source": [
    "# import tensorflow as tf\n",
    "# import numpy as np\n",
    "# import matplotlib.pyplot as plt\n",
    "\n",
    "# from keras import layers\n",
    "# from keras import models\n",
    "# from keras.models import Model\n",
    "# from tensorflow.keras.preprocessing.image import ImageDataGenerator\n",
    "# from tensorflow.keras.applications import EfficientNetB4\n",
    "# from sklearn.model_selection import train_test_split\n",
    "\n",
    "# from PIL import Image\n",
    "\n",
    "\n",
    "# from tensorflow.keras.models import Sequential\n",
    "# from tensorflow.keras.layers import Conv2D, MaxPooling2D, Flatten, Dense\n",
    "# from tensorflow.keras.utils import Sequence\n",
    "# import os\n",
    "# from datetime import datetime\n",
    "\n",
    "# from tensorflow.keras.layers.experimental import preprocessing\n",
    "# import mlflow\n",
    "\n",
    "# from sklearn.metrics import confusion_matrix, ConfusionMatrixDisplay, precision_score, recall_score, accuracy_score"
   ]
  },
  {
   "cell_type": "code",
   "execution_count": 2,
   "metadata": {},
   "outputs": [],
   "source": [
    "import os\n",
    "import numpy as np\n",
    "import matplotlib.pyplot as plt\n",
    "from PIL import Image\n",
    "from datetime import datetime\n",
    "\n",
    "import tensorflow as tf\n",
    "from tensorflow.keras.preprocessing.image import ImageDataGenerator\n",
    "from tensorflow.keras.applications import EfficientNetB4\n",
    "from tensorflow.keras.models import Sequential, Model\n",
    "from tensorflow.keras.layers import Conv2D, MaxPooling2D, Flatten, Dense\n",
    "from tensorflow.keras.utils import Sequence\n",
    "from tensorflow.keras.layers.experimental import preprocessing\n",
    "import mlflow\n",
    "\n",
    "from keras import layers\n",
    "from keras import models\n",
    "from keras.models import Model\n",
    "\n",
    "from sklearn.model_selection import train_test_split\n",
    "from sklearn.metrics import confusion_matrix, ConfusionMatrixDisplay, precision_score, recall_score, accuracy_score\n"
   ]
  },
  {
   "cell_type": "code",
   "execution_count": 3,
   "metadata": {},
   "outputs": [],
   "source": [
    "# Choose the Type of architecture to train\n",
    "\n",
    "Architecture = 'EfficientNetB4'\n",
    "# Architecture = 'CNN'"
   ]
  },
  {
   "cell_type": "code",
   "execution_count": 4,
   "metadata": {},
   "outputs": [
    {
     "name": "stdout",
     "output_type": "stream",
     "text": [
      "Total images: 494\n",
      "Total labels: 494\n"
     ]
    }
   ],
   "source": [
    "# Define the root directory where your data is stored\n",
    "root_directory = \"dataset_2_final\"\n",
    "\n",
    "# Get the list of subdirectories (categories)\n",
    "subdirectories = [subdir for subdir in os.listdir(root_directory) if os.path.isdir(os.path.join(root_directory, subdir))]\n",
    "\n",
    "# Create lists to store image paths and corresponding labels\n",
    "image_paths = []\n",
    "labels = []\n",
    "\n",
    "# Iterate through each subdirectory (category)\n",
    "for label, subdirectory in enumerate(subdirectories):\n",
    "    # Construct the full path to the subdirectory\n",
    "    subdirectory_path = os.path.join(root_directory, subdirectory)\n",
    "\n",
    "    # Get a list of image files in the subdirectory\n",
    "    image_files = [os.path.join(subdirectory_path, filename) for filename in os.listdir(subdirectory_path) if filename.endswith('.jpg')]  # Adjust the file extension as needed\n",
    "    \n",
    "    # Append image paths and labels\n",
    "    image_paths.extend(image_files)\n",
    "    labels.extend([label] * len(image_files))\n",
    "\n",
    "\n",
    "# Print the number of images and labels\n",
    "print(\"Total images:\", len(image_paths))\n",
    "print(\"Total labels:\", len(labels))"
   ]
  },
  {
   "cell_type": "code",
   "execution_count": 5,
   "metadata": {},
   "outputs": [],
   "source": [
    "# Define the load_image function as a standalone function. It gets used in the data generator and in the inference section\n",
    "\n",
    "def load_image(image_path, image_size):\n",
    "    # Load the original image using Pillow\n",
    "    original_image = Image.open(image_path)\n",
    "    original_image_array = np.array(original_image)\n",
    "\n",
    "    # Split the original image into 4 pieces\n",
    "    h, w, c = original_image_array.shape\n",
    "    h_half, w_half = h // 2, w // 2\n",
    "\n",
    "    image_pieces = [\n",
    "        original_image_array[:h_half, :w_half],\n",
    "        original_image_array[:h_half, w_half:],\n",
    "        original_image_array[h_half:, :w_half],\n",
    "        original_image_array[h_half:, w_half:]\n",
    "    ]\n",
    "\n",
    "    # Resize the image pieces and provide the shape of the output\n",
    "    resized_images = [tf.image.resize(piece, image_size) for piece in image_pieces]\n",
    "\n",
    "    return resized_images"
   ]
  },
  {
   "cell_type": "markdown",
   "metadata": {},
   "source": [
    "Here we create a custom data generator that inherits from the Sequence class /\n",
    "\n",
    "Main function is to load images in batches and split them in four pieces such that each data is augmented 4 times/\n",
    "\n",
    "TODO add some randomnes at the time of loading the images. Don't know if it neccessary really.... Ask Pere \n",
    "\n"
   ]
  },
  {
   "cell_type": "code",
   "execution_count": 6,
   "metadata": {},
   "outputs": [],
   "source": [
    "\n",
    "class CustomDataGenerator(Sequence):\n",
    "    def __init__(self, image_paths, labels, batch_size, image_size):\n",
    "        self.image_paths = image_paths\n",
    "        self.labels = labels\n",
    "        self.batch_size = batch_size\n",
    "        self.image_size = image_size\n",
    "        self.num_samples = 4 * len(image_paths)\n",
    "        self.indices = np.arange(self.num_samples)\n",
    "\n",
    "    def __len__(self):        \n",
    "\n",
    "        # I calculate the number of batches\n",
    "        return int(np.ceil(self.num_samples / self.batch_size))\n",
    "    \n",
    "    \n",
    "    # def load_image(self, image_path):\n",
    "    #     #Load the original image using Pillow\n",
    "    #     original_image = Image.open(image_path)\n",
    "    #     original_image_array = np.array(original_image)\n",
    "\n",
    "    #     # Split the original image into 4 pieces\n",
    "    #     h, w, c = original_image_array.shape\n",
    "    #     h_half, w_half = h // 2, w // 2\n",
    "       \n",
    "    #     image_pieces = [\n",
    "    #         original_image_array[:h_half, :w_half],\n",
    "    #         original_image_array[:h_half, w_half:],\n",
    "    #         original_image_array[h_half:, :w_half],\n",
    "    #         original_image_array[h_half:, w_half:]\n",
    "    #     ]\n",
    "        \n",
    "    #     # Resize the image pieces and provide the shape of the output\n",
    "    #     resized_images = [tf.image.resize(piece, self.image_size) for piece in image_pieces]\n",
    "\n",
    "    #     #Shape of resized image list\n",
    "    #     #print(np.array(resized_images).shape)\n",
    "    #     return resized_images        \n",
    "\n",
    "\n",
    "    def __getitem__(self, index):\n",
    "\n",
    "        #This function is called when you call the generator. It generates a batch of indices by slicing\n",
    "        batch_indices = self.indices[index * self.batch_size : (index + 1) * self.batch_size]\n",
    "\n",
    "        batch_images = []\n",
    "        batch_labels = []\n",
    "\n",
    "        # Iterate over indices in the current batch\n",
    "        for batch_index in batch_indices:\n",
    "\n",
    "            # Calculate the index of the original image and the piece index within it\n",
    "            image_index = batch_index // 4   # Divide by 4 to get original image index\n",
    "            piece_index = batch_index % 4    # Modulus 4 to get piece index\n",
    "\n",
    "            # Get the image path and original label for the current image\n",
    "            image_path = self.image_paths[image_index]\n",
    "            original_label = self.labels[image_index]\n",
    "            # Call the load_image function here\n",
    "            image_pieces = load_image(image_path, self.image_size)\n",
    "\n",
    "            # Load and split the image into pieces\n",
    "            piece = image_pieces[piece_index]\n",
    "            batch_images.append(piece)\n",
    "            batch_labels.append(original_label)\n",
    "\n",
    "\n",
    "        batch_images = np.array(batch_images)\n",
    "        batch_labels = np.array(batch_labels)\n",
    "\n",
    "        return batch_images, batch_labels\n",
    "\n",
    "\n",
    "        \n",
    "        \n"
   ]
  },
  {
   "cell_type": "markdown",
   "metadata": {},
   "source": [
    "Some settings relative to the different architectures of NN trained. If we are going to compare performances of both networks, they should be same, right? Ask Pere\n",
    "\n",
    "For reference: \n",
    "\n",
    "- Private images are 1600x1200 (800 x 600 when splitted)\n",
    "- Public images are 768 x 768\n",
    "\n",
    "Also: \n",
    "\n",
    "- Effientnet 4 accepts 380 x 380\n",
    "- Custom CNN accepts 255 as much (resource error otherwise) "
   ]
  },
  {
   "cell_type": "code",
   "execution_count": 24,
   "metadata": {},
   "outputs": [],
   "source": [
    "batch_size = 16\n",
    "\n",
    "if Architecture == 'EfficientNetB4':\n",
    "    image_size = (380, 380)  # Adjust the image size based on your model's input requirements\n",
    "\n",
    "elif Architecture == 'CNN':\n",
    "    #This image size is close to the largest I can use with this architecture. \n",
    "    image_size = (255, 255)\n",
    "\n",
    "\n",
    "#Make training and validation sets. The test set, I will handle independently in another file\n",
    "train_paths, val_paths, train_labels, val_labels = train_test_split(image_paths, labels, test_size=0.2, random_state=42)\n",
    "\n",
    "\n",
    "# Create data generators for training, validation, and test sets\n",
    "train_generator = CustomDataGenerator(train_paths, train_labels, batch_size, image_size)\n",
    "val_generator = CustomDataGenerator(val_paths, val_labels, batch_size, image_size)\n",
    "\n"
   ]
  },
  {
   "cell_type": "code",
   "execution_count": 25,
   "metadata": {},
   "outputs": [
    {
     "name": "stdout",
     "output_type": "stream",
     "text": [
      "Training Set Size: 395 samples\n",
      "Validation Set Size: 99 samples\n"
     ]
    }
   ],
   "source": [
    "\n",
    "# Calculate the sizes of the datasets\n",
    "train_size = len(train_paths)\n",
    "val_size = len(val_paths)\n",
    "# test_size = len(test_paths)\n",
    "\n",
    "# Print the sizes\n",
    "print(f\"Training Set Size: {train_size} samples\")\n",
    "print(f\"Validation Set Size: {val_size} samples\")\n",
    "# print(f\"Test Set Size: {test_size} samples\")\n"
   ]
  },
  {
   "cell_type": "code",
   "execution_count": 26,
   "metadata": {},
   "outputs": [
    {
     "name": "stdout",
     "output_type": "stream",
     "text": [
      "Model: \"model\"\n",
      "_________________________________________________________________\n",
      "Layer (type)                 Output Shape              Param #   \n",
      "=================================================================\n",
      "input_2 (InputLayer)         [(None, 380, 380, 3)]     0         \n",
      "_________________________________________________________________\n",
      "sequential (Sequential)      (None, None, None, 3)     0         \n",
      "_________________________________________________________________\n",
      "efficientnetb4 (Functional)  (None, 1792)              17673823  \n",
      "_________________________________________________________________\n",
      "dense (Dense)                (None, 256)               459008    \n",
      "_________________________________________________________________\n",
      "dense_1 (Dense)              (None, 7)                 1799      \n",
      "=================================================================\n",
      "Total params: 18,134,630\n",
      "Trainable params: 1,267,207\n",
      "Non-trainable params: 16,867,423\n",
      "_________________________________________________________________\n"
     ]
    }
   ],
   "source": [
    "if Architecture == 'EfficientNetB4':\n",
    "\n",
    "    base_model = EfficientNetB4(include_top = False ,weights='imagenet', pooling='avg')\n",
    "\n",
    "    # Introduce a layer of data augmentation\n",
    "    data_augmentation = Sequential([\n",
    "        preprocessing.RandomRotation(0.2),\n",
    "        preprocessing.RandomFlip(\"horizontal\"),\n",
    "        preprocessing.RandomZoom(0.2),\n",
    "        preprocessing.RandomContrast(0.2),\n",
    "        preprocessing.RandomTranslation(0.2, 0.2),\n",
    "        preprocessing.RandomHeight(0.2),\n",
    "        preprocessing.RandomWidth(0.2),\n",
    "    ])\n",
    "\n",
    "    # Freeze all layers in the base model\n",
    "    for layer in base_model.layers:\n",
    "        layer.trainable = False\n",
    "    # Unfreeze the last 10 layers in the base model for fine-tuning\n",
    "    for layer in base_model.layers[-5:]:\n",
    "        layer.trainable = True\n",
    "\n",
    "    \n",
    "    #capa de entradas. \n",
    "    entradas = layers.Input((380, 380, 3))\n",
    "\n",
    "    # Capa de augmentation\n",
    "    x = data_augmentation(entradas)\n",
    "    # Pass the augmented images through the base model\n",
    "    x = base_model(x)\n",
    "    # Add a dense layer\n",
    "    x = layers.Dense(256, activation='relu')(x)\n",
    "    # Add another dense layer\n",
    "    salidas = layers.Dense(7, activation='softmax')(x)\n",
    "\n",
    "\n",
    "    model = Model(inputs = entradas, outputs = salidas)\n",
    "    model.compile(optimizer = 'adam', loss = 'sparse_categorical_crossentropy', metrics = ['accuracy'])\n",
    "    model.summary()\n",
    "\n",
    "    \n",
    "elif Architecture == 'CNN':\n",
    "\n",
    "    input_shape = (255, 255, 3)\n",
    "\n",
    "    \n",
    "    model=models.Sequential()\n",
    "\n",
    "    model.add(layers.Rescaling(scale = 1./255, offset=0.0, input_shape=input_shape))\n",
    "    model.add(layers.Input(input_shape))\n",
    "\n",
    "    model.add(layers.RandomFlip(\"horizontal_and_vertical\"))\n",
    "    model.add(layers.RandomRotation(0.2))\n",
    "    model.add(layers.RandomZoom(0.2))\n",
    "    model.add(layers.RandomContrast(0.2))\n",
    "    model.add(layers.RandomTranslation(0.2, 0.2))\n",
    "    # model.add(layers.RandomHeight(0.2))\n",
    "    # model.add(layers.RandomWidth(0.2))\n",
    "\n",
    "\n",
    "    model.add(layers.Conv2D(filters=32, kernel_size=(2,2), activation='relu',))\n",
    "    model.add(layers.MaxPooling2D(pool_size=(2, 2)))\n",
    "    model.add(layers.Conv2D(filters=64, kernel_size=(2,2), activation='relu',))\n",
    "    model.add(layers.MaxPooling2D(pool_size=(2, 2)))\n",
    "    model.add(layers.Conv2D(filters=128, kernel_size=(2,2), activation='relu',))\n",
    "    model.add(layers.MaxPooling2D(pool_size=(2, 2)))\n",
    "    model.add(layers.Conv2D(filters=256, kernel_size=(2,2), activation='relu',))\n",
    "    model.add(layers.MaxPooling2D(pool_size=(2, 2)))\n",
    "    model.add(layers.Conv2D(filters=512, kernel_size=(2,2), activation='relu',))\n",
    "    model.add(layers.MaxPooling2D(pool_size=(2, 2)))\n",
    "\n",
    "    # Add flatten layer\n",
    "    model.add(layers.Flatten())\n",
    "\n",
    "    # Add dense/dropout layers + activation functions\n",
    "\n",
    "    model.add(layers.Dense(512, activation = 'relu'))\n",
    "    model.add(layers.Dropout(0.3))\n",
    "    model.add(layers.Dense(256, activation = 'relu'))\n",
    "    model.add(layers.Dropout(0.3))\n",
    "\n",
    "    model.add(layers.Dense(7, activation = 'softmax'))\n",
    "\n",
    "    adamop = tf.keras.optimizers.Adam(learning_rate=0.001, beta_1=0.9, beta_2=0.999, epsilon=1e-08)\n",
    "\n",
    "    model.compile(optimizer = adamop, loss = 'sparse_categorical_crossentropy', metrics = ['accuracy'])\n",
    "    model.summary()\n",
    "\n"
   ]
  },
  {
   "cell_type": "code",
   "execution_count": 27,
   "metadata": {},
   "outputs": [],
   "source": [
    "tf.keras.backend.clear_session()"
   ]
  },
  {
   "cell_type": "code",
   "execution_count": 28,
   "metadata": {},
   "outputs": [],
   "source": [
    "early_stopping = tf.keras.callbacks.EarlyStopping(monitor='val_accuracy', patience=20, mode='auto', verbose = 1)"
   ]
  },
  {
   "cell_type": "code",
   "execution_count": 29,
   "metadata": {},
   "outputs": [],
   "source": [
    "mlflow.end_run()"
   ]
  },
  {
   "cell_type": "code",
   "execution_count": 30,
   "metadata": {},
   "outputs": [
    {
     "name": "stdout",
     "output_type": "stream",
     "text": [
      "Epoch 1/5\n",
      "99/99 [==============================] - 411s 4s/step - loss: 1.6763 - accuracy: 0.3614 - val_loss: 1.4682 - val_accuracy: 0.4470\n",
      "Epoch 2/5\n",
      "99/99 [==============================] - 370s 4s/step - loss: 1.4171 - accuracy: 0.4778 - val_loss: 1.3416 - val_accuracy: 0.5429\n",
      "Epoch 3/5\n",
      "99/99 [==============================] - 422s 4s/step - loss: 1.2802 - accuracy: 0.5272 - val_loss: 1.2748 - val_accuracy: 0.5455\n",
      "Epoch 4/5\n",
      "99/99 [==============================] - 463s 5s/step - loss: 1.1461 - accuracy: 0.5677 - val_loss: 1.4908 - val_accuracy: 0.6010\n",
      "Epoch 5/5\n",
      "99/99 [==============================] - 434s 4s/step - loss: 1.0958 - accuracy: 0.5911 - val_loss: 1.3879 - val_accuracy: 0.5505\n"
     ]
    }
   ],
   "source": [
    "# Start an MLflow run\n",
    "mlflow.start_run()\n",
    "mlflow.set_experiment('scientific_data')\n",
    "# Log the name of the dataset\n",
    "epochs = 5\n",
    "# Train the model using the custom data generators and the debugging callback\n",
    "history = model.fit(train_generator, epochs=epochs, validation_data=val_generator, shuffle=True, callbacks=[early_stopping])"
   ]
  },
  {
   "cell_type": "code",
   "execution_count": 34,
   "metadata": {},
   "outputs": [],
   "source": [
    "\n",
    "#Logging\n",
    "mlflow.log_param(\"epochs\", epochs)\n",
    "mlflow.log_param(\"batch_size\", batch_size)\n",
    "#mlflow.log_param(\"parameters\", num_params)\n",
    "#mlflow.log_metric(\"val_loss\", loss)\n",
    "#mlflow.log_metric(\"val_accuracy\", accuracy)\n",
    "mlflow.end_run()\n"
   ]
  },
  {
   "cell_type": "code",
   "execution_count": 35,
   "metadata": {},
   "outputs": [
    {
     "name": "stdout",
     "output_type": "stream",
     "text": [
      "dict_keys(['loss', 'accuracy', 'val_loss', 'val_accuracy'])\n"
     ]
    }
   ],
   "source": [
    "history\n",
    "print(history.history.keys())"
   ]
  },
  {
   "cell_type": "code",
   "execution_count": 36,
   "metadata": {},
   "outputs": [],
   "source": [
    "folder_date = 'old_models/' +  datetime.now().strftime(\"%Y_%m_%d-%I_%M_%S_%p\")\n",
    "os.mkdir(folder_date)\n",
    "filepath_model = folder_date + '/my_best_model.epoch{epoch:02d}-loss{val_loss:.2f}.hdf5'"
   ]
  },
  {
   "cell_type": "code",
   "execution_count": 37,
   "metadata": {},
   "outputs": [
    {
     "name": "stderr",
     "output_type": "stream",
     "text": [
      "c:\\Users\\diosdadj\\Anaconda3\\envs\\ml\\lib\\site-packages\\keras\\utils\\generic_utils.py:494: CustomMaskWarning: Custom mask layers require a config and must override get_config. When loading, the custom mask layer must be passed to the custom_objects argument.\n",
      "  warnings.warn('Custom mask layers require a config and must override '\n"
     ]
    }
   ],
   "source": [
    "#Guardo el modelo en la última epoch\n",
    "model.save(folder_date + '/modelo_entrenado.h5')"
   ]
  },
  {
   "cell_type": "code",
   "execution_count": 38,
   "metadata": {},
   "outputs": [
    {
     "name": "stdout",
     "output_type": "stream",
     "text": [
      "dict_keys(['loss', 'accuracy', 'val_loss', 'val_accuracy'])\n"
     ]
    },
    {
     "data": {
      "image/png": "[encoded data removed]",
      "text/plain": [
       "<Figure size 432x288 with 1 Axes>"
      ]
     },
     "metadata": {
      "needs_background": "light"
     },
     "output_type": "display_data"
    },
    {
     "data": {
      "image/png": "[encoded data removed]",
      "text/plain": [
       "<Figure size 432x288 with 1 Axes>"
      ]
     },
     "metadata": {
      "needs_background": "light"
     },
     "output_type": "display_data"
    }
   ],
   "source": [
    "print(history.history.keys())\n",
    "\n",
    "#  \"Accuracy\"\n",
    "plt.plot(history.history['accuracy'])\n",
    "plt.plot(history.history['val_accuracy'])\n",
    "plt.title('model accuracy')\n",
    "plt.ylabel('accuracy')\n",
    "plt.xlabel('epoch')\n",
    "plt.legend(['train', 'validation'], loc='upper left')\n",
    "plt.text(len(history.history['accuracy'])-1, history.history['accuracy'][-1], \n",
    "         f\"Acc: {history.history['accuracy'][-1]:.4f}\", ha='center', va='bottom')\n",
    "plt.text(len(history.history['val_accuracy'])-1, history.history['val_accuracy'][-1], \n",
    "         f\"Val Acc: {history.history['val_accuracy'][-1]:.4f}\", ha='center', va='top')\n",
    "\n",
    "\n",
    "plt.savefig(folder_date + \"/accuracy.png\")\n",
    "plt.show()\n",
    "\n",
    "# \"Loss\"\n",
    "plt.plot(history.history['loss'])\n",
    "plt.plot(history.history['val_loss'])\n",
    "plt.title('model loss')\n",
    "plt.ylabel('loss')\n",
    "plt.xlabel('epoch')\n",
    "plt.legend(['train', 'validation'], loc='upper left')\n",
    "\n",
    "plt.text(len(history.history['loss'])-1, history.history['loss'][-1], \n",
    "         f\"Loss: {history.history['loss'][-1]:.4f}\", ha='center', va='bottom')\n",
    "plt.text(len(history.history['val_loss'])-1, history.history['val_loss'][-1], \n",
    "         f\"Val Loss: {history.history['val_loss'][-1]:.4f}\", ha='center', va='top')\n",
    "\n",
    "\n",
    "plt.savefig(folder_date + \"/loss.png\")\n",
    "plt.show()\n"
   ]
  },
  {
   "cell_type": "markdown",
   "metadata": {},
   "source": [
    "For dubug purposes only. I load a model that is trained already"
   ]
  },
  {
   "cell_type": "code",
   "execution_count": 39,
   "metadata": {},
   "outputs": [],
   "source": [
    "# model = tf.keras.models.load_model('old_models/2023_09_24-04_59_50_PM/modelo_entrenado.h5')"
   ]
  },
  {
   "cell_type": "code",
   "execution_count": 40,
   "metadata": {},
   "outputs": [
    {
     "data": {
      "image/png": "[encoded data removed]",
      "text/plain": [
       "<Figure size 432x288 with 2 Axes>"
      ]
     },
     "metadata": {
      "needs_background": "light"
     },
     "output_type": "display_data"
    },
    {
     "name": "stdout",
     "output_type": "stream",
     "text": [
      "Precision: 0.4233690722665878\n",
      "Recall: 0.3107142857142857\n",
      "Accuracy: 0.3107142857142857\n"
     ]
    }
   ],
   "source": [
    "# Load the test images from the folder 'test_images'\n",
    "predicted_labels= []\n",
    "true_labels = []\n",
    "\n",
    "\n",
    "#This is only for testing the code. Images are the same!\n",
    "\n",
    "directory = \"validation_final_septiembre\"\n",
    "\n",
    "\n",
    "label_mapping = {\n",
    "    'aca_bd': 0,\n",
    "    'aca_md': 1,\n",
    "    'aca_pd': 2,\n",
    "    'nor' : 3,\n",
    "    'scc_bd' : 4,\n",
    "    'scc_md' : 5, \n",
    "    'scc_pd' : 6\n",
    "}\n",
    "\n",
    "for filename in os.listdir(directory):\n",
    "\n",
    "    # Load the image and add it to the list of test images\n",
    "    f = os.path.join(directory, filename)\n",
    "\n",
    "    #I use load image to load all the images and treat each piece as a separate image.\n",
    "    imagenes = load_image(f, image_size)\n",
    "\n",
    "\n",
    "    for imagen in imagenes:\n",
    "        \n",
    "        #imagen = np.array(imagen)/255\n",
    "\n",
    "        x = np.expand_dims(imagen, axis=0)\n",
    "        prediction = model.predict(x)\n",
    "        predicted_class = np.argmax(prediction)\n",
    "\n",
    "        if 'aca_bd' in filename:\n",
    "            true_labels.append(0)\n",
    "        elif 'aca_md' in filename:\n",
    "            true_labels.append(1)\n",
    "        elif 'aca_pd' in filename:\n",
    "            true_labels.append(2)\n",
    "        elif 'nor' in filename:\n",
    "            true_labels.append(3)\n",
    "        elif 'scc_bd' in filename:\n",
    "            true_labels.append(4)    \n",
    "        elif 'scc_md' in filename:\n",
    "            true_labels.append(5)\n",
    "        elif 'scc_pd' in filename:\n",
    "            true_labels.append(6)       \n",
    "\n",
    "        predicted_labels.append(predicted_class)\n",
    "        \n",
    "        # print(predicted_labels)\n",
    "        # print(true_labels)\n",
    "\n",
    "cm = confusion_matrix(true_labels, predicted_labels)\n",
    "labels = [label for label, _ in sorted(label_mapping.items(), key=lambda x: x[1])]\n",
    "disp = ConfusionMatrixDisplay(confusion_matrix=cm, display_labels=labels)\n",
    "disp.plot()\n",
    "\n",
    "plt.title(directory,  fontdict={'fontsize': 16})  # Set the new title for the plot\n",
    "plt.show()\n",
    "\n",
    "\n",
    "# Calculate precision, recall, and accuracy\n",
    "precision = precision_score(true_labels, predicted_labels, average='weighted')\n",
    "recall = recall_score(true_labels, predicted_labels, average='weighted')\n",
    "accuracy = accuracy_score(true_labels, predicted_labels)\n",
    "\n",
    "# Print the results\n",
    "print(\"Precision:\", precision)\n",
    "print(\"Recall:\", recall)\n",
    "print(\"Accuracy:\", accuracy)"
   ]
  },
  {
   "cell_type": "code",
   "execution_count": null,
   "metadata": {},
   "outputs": [],
   "source": []
  }
 ],
 "metadata": {
  "kernelspec": {
   "display_name": "ml",
   "language": "python",
   "name": "python3"
  },
  "language_info": {
   "codemirror_mode": {
    "name": "ipython",
    "version": 3
   },
   "file_extension": ".py",
   "mimetype": "text/x-python",
   "name": "python",
   "nbconvert_exporter": "python",
   "pygments_lexer": "ipython3",
   "version": "3.9.12"
  },
  "orig_nbformat": 4
 },
 "nbformat": 4,
 "nbformat_minor": 2
}
