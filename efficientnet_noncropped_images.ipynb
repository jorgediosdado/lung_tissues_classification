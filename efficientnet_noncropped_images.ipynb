{
 "cells": [
  {
   "cell_type": "code",
   "execution_count": 1,
   "metadata": {},
   "outputs": [],
   "source": [
    "from sklearn.model_selection import train_test_split\n",
    "from sklearn.metrics import confusion_matrix, ConfusionMatrixDisplay, precision_score, recall_score, accuracy_score\n",
    "from PIL import Image\n",
    "\n",
    "\n",
    "import tensorflow as tf\n",
    "import numpy as np\n",
    "import matplotlib.pyplot as plt\n",
    "from tensorflow.keras.models import Sequential\n",
    "from tensorflow.keras.layers import Conv2D, MaxPooling2D, Flatten, Dense\n",
    "from tensorflow.keras.utils import Sequence\n",
    "import os\n",
    "from datetime import datetime\n",
    "from tensorflow.keras.preprocessing.image import ImageDataGenerator\n",
    "from tensorflow.keras.applications import EfficientNetB4\n",
    "from keras import layers\n",
    "from keras import models\n",
    "from keras.models import Model\n",
    "from tensorflow.keras.layers.experimental import preprocessing"
   ]
  },
  {
   "cell_type": "code",
   "execution_count": 2,
   "metadata": {},
   "outputs": [
    {
     "name": "stdout",
     "output_type": "stream",
     "text": [
      "Total images: 494\n",
      "Total labels: 494\n"
     ]
    }
   ],
   "source": [
    "# Define the root directory where your data is stored\n",
    "root_directory = \"dataset_2_final\"\n",
    "\n",
    "# Get the list of subdirectories (categories)\n",
    "subdirectories = [subdir for subdir in os.listdir(root_directory) if os.path.isdir(os.path.join(root_directory, subdir))]\n",
    "\n",
    "# Create lists to store image paths and corresponding labels\n",
    "image_paths = []\n",
    "labels = []\n",
    "\n",
    "# Iterate through each subdirectory (category)\n",
    "for label, subdirectory in enumerate(subdirectories):\n",
    "    # Construct the full path to the subdirectory\n",
    "    subdirectory_path = os.path.join(root_directory, subdirectory)\n",
    "\n",
    "    # Get a list of image files in the subdirectory\n",
    "    image_files = [os.path.join(subdirectory_path, filename) for filename in os.listdir(subdirectory_path) if filename.endswith('.jpg')]  # Adjust the file extension as needed\n",
    "    \n",
    "    # Append image paths and labels\n",
    "    image_paths.extend(image_files)\n",
    "    labels.extend([label] * len(image_files))\n",
    "\n",
    "\n",
    "\n",
    "# Print the number of images and labels\n",
    "print(\"Total images:\", len(image_paths))\n",
    "print(\"Total labels:\", len(labels))"
   ]
  },
  {
   "cell_type": "code",
   "execution_count": 3,
   "metadata": {},
   "outputs": [],
   "source": [
    "# Here we create a custom data generator that inherits from the Sequence class\n",
    "class CustomDataGenerator(Sequence):\n",
    "    def __init__(self, image_paths, labels, batch_size, image_size):\n",
    "        self.image_paths = image_paths\n",
    "        self.labels = labels\n",
    "        self.batch_size = batch_size\n",
    "        self.image_size = image_size\n",
    "        self.num_samples = 4 * len(image_paths)\n",
    "        self.indices = np.arange(self.num_samples)\n",
    "\n",
    "\n",
    "    def __len__(self):        \n",
    "\n",
    "        # I calculate the number of batches\n",
    "        return int(np.ceil(self.num_samples / self.batch_size))\n",
    "\n",
    "\n",
    "    def __getitem__(self, index):\n",
    "\n",
    "        #This function is called when you call the generator\n",
    "        batch_indices = self.indices[index * self.batch_size : (index + 1) * self.batch_size]\n",
    "\n",
    "        batch_images = []\n",
    "        batch_labels = []\n",
    "\n",
    "        # Iterate over indices in the current batch\n",
    "        for batch_index in batch_indices:\n",
    "\n",
    "            # Calculate the index of the original image and the piece index within it\n",
    "            image_index = batch_index // 4   # Divide by 4 to get original image index\n",
    "            piece_index = batch_index % 4    # Modulus 4 to get piece index\n",
    "\n",
    "            # Get the image path and original label for the current image\n",
    "            image_path = self.image_paths[image_index]\n",
    "            original_label = self.labels[image_index]\n",
    "            image_pieces = self.load_image(image_path)\n",
    "\n",
    "            # Load and split the image into pieces\n",
    "            piece = image_pieces[piece_index]\n",
    "            batch_images.append(piece)\n",
    "            batch_labels.append(original_label)\n",
    "\n",
    "\n",
    "        batch_images = np.array(batch_images)\n",
    "        batch_labels = np.array(batch_labels)\n",
    "\n",
    "        return batch_images, batch_labels\n",
    "\n",
    "    def load_image(self, image_path):    \n",
    "\n",
    "        # Load the original image using Pillow\n",
    "        original_image = Image.open(image_path)\n",
    "        original_image_array = np.array(original_image)\n",
    "\n",
    "        # Split the original image into 4 pieces\n",
    "        h, w, c = original_image_array.shape\n",
    "        h_half, w_half = h // 2, w // 2\n",
    "       \n",
    "        image_pieces = [\n",
    "            original_image_array[:h_half, :w_half],\n",
    "            original_image_array[:h_half, w_half:],\n",
    "            original_image_array[h_half:, :w_half],\n",
    "            original_image_array[h_half:, w_half:]\n",
    "        ]\n",
    "        \n",
    "        # Resize the image pieces and provide the shape of the output\n",
    "        resized_images = [tf.image.resize(piece, self.image_size) for piece in image_pieces]\n",
    "\n",
    "        #Shape of resized image list\n",
    "        #print(np.array(resized_images).shape)    \n",
    "        \n",
    "        return resized_images\n"
   ]
  },
  {
   "cell_type": "code",
   "execution_count": 4,
   "metadata": {},
   "outputs": [],
   "source": [
    "\n",
    "batch_size = 16\n",
    "image_size = (380, 380)  # Adjust the image size based on your model's input requirements\n",
    "\n",
    "#Make training and validation sets. The test set, I will handle independently in another file\n",
    "\n",
    "train_paths, val_paths, train_labels, val_labels = train_test_split(image_paths, labels, test_size=0.2, random_state=42)\n",
    "\n",
    "# Create data generators for training, validation, and test sets\n",
    "train_generator = CustomDataGenerator(train_paths, train_labels, batch_size, image_size)\n",
    "val_generator = CustomDataGenerator(val_paths, val_labels, batch_size, image_size)\n"
   ]
  },
  {
   "cell_type": "code",
   "execution_count": 5,
   "metadata": {},
   "outputs": [
    {
     "name": "stdout",
     "output_type": "stream",
     "text": [
      "Training Set Size: 395 samples\n",
      "Validation Set Size: 99 samples\n"
     ]
    }
   ],
   "source": [
    "\n",
    "# Calculate the sizes of the datasets\n",
    "train_size = len(train_paths)\n",
    "val_size = len(val_paths)\n",
    "\n",
    "# Print the sizes\n",
    "print(f\"Training Set Size: {train_size} samples\")\n",
    "print(f\"Validation Set Size: {val_size} samples\")\n",
    "\n",
    "\n"
   ]
  },
  {
   "cell_type": "code",
   "execution_count": 6,
   "metadata": {},
   "outputs": [
    {
     "name": "stdout",
     "output_type": "stream",
     "text": [
      "Model: \"sequential\"\n",
      "_________________________________________________________________\n",
      "Layer (type)                 Output Shape              Param #   \n",
      "=================================================================\n",
      "rescaling (Rescaling)        (None, 255, 255, 3)       0         \n",
      "_________________________________________________________________\n",
      "random_flip (RandomFlip)     (None, 255, 255, 3)       0         \n",
      "_________________________________________________________________\n",
      "random_rotation (RandomRotat (None, 255, 255, 3)       0         \n",
      "_________________________________________________________________\n",
      "random_zoom (RandomZoom)     (None, 255, 255, 3)       0         \n",
      "_________________________________________________________________\n",
      "random_contrast (RandomContr (None, 255, 255, 3)       0         \n",
      "_________________________________________________________________\n",
      "random_translation (RandomTr (None, 255, 255, 3)       0         \n",
      "_________________________________________________________________\n",
      "conv2d (Conv2D)              (None, 254, 254, 32)      416       \n",
      "_________________________________________________________________\n",
      "max_pooling2d (MaxPooling2D) (None, 127, 127, 32)      0         \n",
      "_________________________________________________________________\n",
      "conv2d_1 (Conv2D)            (None, 126, 126, 64)      8256      \n",
      "_________________________________________________________________\n",
      "max_pooling2d_1 (MaxPooling2 (None, 63, 63, 64)        0         \n",
      "_________________________________________________________________\n",
      "conv2d_2 (Conv2D)            (None, 62, 62, 128)       32896     \n",
      "_________________________________________________________________\n",
      "max_pooling2d_2 (MaxPooling2 (None, 31, 31, 128)       0         \n",
      "_________________________________________________________________\n",
      "conv2d_3 (Conv2D)            (None, 30, 30, 256)       131328    \n",
      "_________________________________________________________________\n",
      "max_pooling2d_3 (MaxPooling2 (None, 15, 15, 256)       0         \n",
      "_________________________________________________________________\n",
      "conv2d_4 (Conv2D)            (None, 14, 14, 512)       524800    \n",
      "_________________________________________________________________\n",
      "max_pooling2d_4 (MaxPooling2 (None, 7, 7, 512)         0         \n",
      "_________________________________________________________________\n",
      "flatten (Flatten)            (None, 25088)             0         \n",
      "_________________________________________________________________\n",
      "dense (Dense)                (None, 512)               12845568  \n",
      "_________________________________________________________________\n",
      "dropout (Dropout)            (None, 512)               0         \n",
      "_________________________________________________________________\n",
      "dense_1 (Dense)              (None, 256)               131328    \n",
      "_________________________________________________________________\n",
      "dropout_1 (Dropout)          (None, 256)               0         \n",
      "_________________________________________________________________\n",
      "dense_2 (Dense)              (None, 7)                 1799      \n",
      "=================================================================\n",
      "Total params: 13,676,391\n",
      "Trainable params: 13,676,391\n",
      "Non-trainable params: 0\n",
      "_________________________________________________________________\n"
     ]
    }
   ],
   "source": [
    "model=models.Sequential()\n",
    "\n",
    "\n",
    "input_shape = (255, 255, 3)\n",
    "\n",
    "model.add(layers.Rescaling(scale = 1./255, offset=0.0, input_shape=input_shape))\n",
    "\n",
    "model.add(layers.RandomFlip(\"horizontal_and_vertical\"))\n",
    "model.add(layers.RandomRotation(0.2))\n",
    "model.add(layers.RandomZoom(0.2))\n",
    "model.add(layers.RandomContrast(0.2))\n",
    "model.add(layers.RandomTranslation(0.2, 0.2)) \n",
    "\n",
    "\n",
    "model.add(layers.Conv2D(filters=32, kernel_size=(2,2), activation='relu',))\n",
    "model.add(layers.MaxPooling2D(pool_size=(2, 2)))\n",
    "model.add(layers.Conv2D(filters=64, kernel_size=(2,2), activation='relu',))\n",
    "model.add(layers.MaxPooling2D(pool_size=(2, 2)))\n",
    "model.add(layers.Conv2D(filters=128, kernel_size=(2,2), activation='relu',))\n",
    "model.add(layers.MaxPooling2D(pool_size=(2, 2)))\n",
    "model.add(layers.Conv2D(filters=256, kernel_size=(2,2), activation='relu',))\n",
    "model.add(layers.MaxPooling2D(pool_size=(2, 2)))\n",
    "model.add(layers.Conv2D(filters=512, kernel_size=(2,2), activation='relu',))\n",
    "model.add(layers.MaxPooling2D(pool_size=(2, 2)))\n",
    "\n",
    "\n",
    "# Add flatten layer\n",
    "model.add(layers.Flatten())\n",
    "\n",
    "# Add dense/dropout layers + activation functions\n",
    "\n",
    "model.add(layers.Dense(512, activation = 'relu'))\n",
    "model.add(layers.Dropout(0.3))\n",
    "model.add(layers.Dense(256, activation = 'relu'))\n",
    "model.add(layers.Dropout(0.3))\n",
    "model.add(layers.Dense(7, activation = 'softmax'))\n",
    "\n",
    "\n",
    "#optimizer = tf.keras.optimizers.Adam(learning_rate=0.001, clipvalue=0.5)\n",
    "adam = tf.keras.optimizers.Adam(learning_rate=0.001, beta_1=0.9, beta_2=0.999, epsilon=1e-08)\n",
    "\n",
    "model.compile(optimizer = adam, loss = 'sparse_categorical_crossentropy', metrics = ['accuracy'])\n",
    "model.summary()\n",
    "\n",
    "# plot_model(model, to_file='model.png', show_shapes=True,  rankdir='LR')"
   ]
  },
  {
   "cell_type": "code",
   "execution_count": 7,
   "metadata": {},
   "outputs": [],
   "source": [
    "# base_model = EfficientNetB4(include_top = False ,weights='imagenet', pooling='avg')\n",
    "\n",
    "# # Introduce a layer of data augmentation\n",
    "# data_augmentation = Sequential([\n",
    "#     preprocessing.RandomRotation(0.2),\n",
    "#     preprocessing.RandomFlip(\"horizontal\"),\n",
    "#     preprocessing.RandomZoom(0.2),\n",
    "#     preprocessing.RandomContrast(0.2),\n",
    "#     preprocessing.RandomTranslation(0.2, 0.2),\n",
    "#     preprocessing.RandomHeight(0.2),\n",
    "#     preprocessing.RandomWidth(0.2),\n",
    "# ])\n",
    "\n",
    "# # Freeze all layers in the base model\n",
    "# for layer in base_model.layers:\n",
    "#     layer.trainable = False\n",
    "# # Unfreeze the last 10 layers in the base model for fine-tuning\n",
    "# for layer in base_model.layers[-5:]:\n",
    "#     layer.trainable = True\n",
    "\n",
    "\n",
    "# #capa de entradas. I think I dont need it\n",
    "# entradas = layers.Input((380, 380, 3))\n",
    "\n",
    "# # Capa de augmentation\n",
    "# x = data_augmentation(entradas)\n",
    "# # Pass the augmented images through the base model\n",
    "# x = base_model(x)\n",
    "# # Add a dense layer\n",
    "# x = layers.Dense(256, activation='relu')(x)\n",
    "# # Add another dense layer\n",
    "# salidas = layers.Dense(7, activation='softmax')(x)\n",
    "\n",
    "\n",
    "# model = Model(inputs = entradas, outputs = salidas)\n",
    "# model.compile(optimizer = 'adam', loss = 'sparse_categorical_crossentropy', metrics = ['accuracy'])\n",
    "# model.summary()\n"
   ]
  },
  {
   "cell_type": "code",
   "execution_count": 8,
   "metadata": {},
   "outputs": [],
   "source": [
    "tf.keras.backend.clear_session()"
   ]
  },
  {
   "cell_type": "code",
   "execution_count": null,
   "metadata": {},
   "outputs": [
    {
     "name": "stdout",
     "output_type": "stream",
     "text": [
      "Epoch 1/25\n",
      "99/99 [==============================] - 297s 3s/step - loss: 1.9702 - accuracy: 0.2519 - val_loss: 1.9495 - val_accuracy: 0.2121\n",
      "Epoch 2/25\n",
      "99/99 [==============================] - 285s 3s/step - loss: 1.9168 - accuracy: 0.2608 - val_loss: 1.9416 - val_accuracy: 0.2121\n",
      "Epoch 3/25\n",
      "99/99 [==============================] - 234s 2s/step - loss: 1.9227 - accuracy: 0.2608 - val_loss: 1.9447 - val_accuracy: 0.2121\n",
      "Epoch 4/25\n",
      "99/99 [==============================] - 220s 2s/step - loss: 1.9091 - accuracy: 0.2608 - val_loss: 1.9375 - val_accuracy: 0.2121\n",
      "Epoch 5/25\n",
      "99/99 [==============================] - 215s 2s/step - loss: 1.9044 - accuracy: 0.2608 - val_loss: 1.9450 - val_accuracy: 0.2121\n",
      "Epoch 6/25\n",
      "47/99 [=============>................] - ETA: 1:40 - loss: 1.9039 - accuracy: 0.2447"
     ]
    },
    {
     "ename": "",
     "evalue": "",
     "output_type": "error",
     "traceback": [
      "\u001b[1;31mCannot execute code, session has been disposed. Please try restarting the Kernel."
     ]
    },
    {
     "ename": "",
     "evalue": "",
     "output_type": "error",
     "traceback": [
      "\u001b[1;31mThe Kernel crashed while executing code in the the current cell or a previous cell. Please review the code in the cell(s) to identify a possible cause of the failure. Click <a href='https://aka.ms/vscodeJupyterKernelCrash'>here</a> for more info. View Jupyter <a href='command:jupyter.viewOutput'>log</a> for further details."
     ]
    }
   ],
   "source": [
    "# Train the model using the custom data generators and the debugging callback\n",
    "history = model.fit(train_generator, epochs=25, validation_data=val_generator, shuffle=True, callbacks=[])"
   ]
  },
  {
   "cell_type": "code",
   "execution_count": 9,
   "metadata": {},
   "outputs": [
    {
     "ename": "NameError",
     "evalue": "name 'history' is not defined",
     "output_type": "error",
     "traceback": [
      "\u001b[1;31m---------------------------------------------------------------------------\u001b[0m",
      "\u001b[1;31mNameError\u001b[0m                                 Traceback (most recent call last)",
      "\u001b[1;32mc:\\Users\\diosdadj\\OneDrive - HP Inc\\Master\\Lung Cancer Project\\lung_tissues_classification\\efficientnet_noncropped_images.ipynb Cell 10\u001b[0m in \u001b[0;36m<cell line: 1>\u001b[1;34m()\u001b[0m\n\u001b[1;32m----> <a href='vscode-notebook-cell:/c%3A/Users/diosdadj/OneDrive%20-%20HP%20Inc/Master/Lung%20Cancer%20Project/lung_tissues_classification/efficientnet_noncropped_images.ipynb#X21sZmlsZQ%3D%3D?line=0'>1</a>\u001b[0m history\n\u001b[0;32m      <a href='vscode-notebook-cell:/c%3A/Users/diosdadj/OneDrive%20-%20HP%20Inc/Master/Lung%20Cancer%20Project/lung_tissues_classification/efficientnet_noncropped_images.ipynb#X21sZmlsZQ%3D%3D?line=1'>2</a>\u001b[0m \u001b[39mprint\u001b[39m(history\u001b[39m.\u001b[39mhistory\u001b[39m.\u001b[39mkeys())\n",
      "\u001b[1;31mNameError\u001b[0m: name 'history' is not defined"
     ]
    }
   ],
   "source": [
    "history\n",
    "print(history.history.keys())"
   ]
  },
  {
   "cell_type": "code",
   "execution_count": 10,
   "metadata": {},
   "outputs": [],
   "source": [
    "folder_date = 'old_models/' +  datetime.now().strftime(\"%Y_%m_%d-%I_%M_%S_%p\")\n",
    "os.mkdir(folder_date)\n",
    "filepath_model = folder_date + '/my_best_model.epoch{epoch:02d}-loss{val_loss:.2f}.hdf5'"
   ]
  },
  {
   "cell_type": "code",
   "execution_count": 11,
   "metadata": {},
   "outputs": [],
   "source": [
    "#Guardo el modelo en la última epoch\n",
    "model.save(folder_date + '/modelo_entrenado.h5')"
   ]
  },
  {
   "cell_type": "code",
   "execution_count": null,
   "metadata": {},
   "outputs": [
    {
     "name": "stdout",
     "output_type": "stream",
     "text": [
      "dict_keys(['loss', 'accuracy', 'val_loss', 'val_accuracy'])\n"
     ]
    },
    {
     "data": {
      "image/png": "[encoded data removed]",
      "text/plain": [
       "<Figure size 432x288 with 1 Axes>"
      ]
     },
     "metadata": {
      "needs_background": "light"
     },
     "output_type": "display_data"
    },
    {
     "data": {
      "image/png": "[encoded data removed]",
      "text/plain": [
       "<Figure size 432x288 with 1 Axes>"
      ]
     },
     "metadata": {
      "needs_background": "light"
     },
     "output_type": "display_data"
    }
   ],
   "source": [
    "print(history.history.keys())\n",
    "\n",
    "#  \"Accuracy\"\n",
    "plt.plot(history.history['accuracy'])\n",
    "plt.plot(history.history['val_accuracy'])\n",
    "plt.title('model accuracy')\n",
    "plt.ylabel('accuracy')\n",
    "plt.xlabel('epoch')\n",
    "plt.legend(['train', 'validation'], loc='upper left')\n",
    "\n",
    "plt.text(len(history.history['accuracy'])-1, history.history['accuracy'][-1], \n",
    "         f\"Acc: {history.history['accuracy'][-1]:.4f}\", ha='center', va='bottom')\n",
    "plt.text(len(history.history['val_accuracy'])-1, history.history['val_accuracy'][-1], \n",
    "         f\"Val Acc: {history.history['val_accuracy'][-1]:.4f}\", ha='center', va='top')\n",
    "\n",
    "\n",
    "plt.savefig(folder_date + \"/accuracy.png\")\n",
    "plt.show()\n",
    "\n",
    "# \"Loss\"\n",
    "plt.plot(history.history['loss'])\n",
    "plt.plot(history.history['val_loss'])\n",
    "plt.title('model loss')\n",
    "plt.ylabel('loss')\n",
    "plt.xlabel('epoch')\n",
    "plt.legend(['train', 'validation'], loc='upper left')\n",
    "\n",
    "plt.text(len(history.history['loss'])-1, history.history['loss'][-1], \n",
    "         f\"Loss: {history.history['loss'][-1]:.4f}\", ha='center', va='bottom')\n",
    "plt.text(len(history.history['val_loss'])-1, history.history['val_loss'][-1], \n",
    "         f\"Val Loss: {history.history['val_loss'][-1]:.4f}\", ha='center', va='top')\n",
    "\n",
    "\n",
    "plt.savefig(folder_date + \"/loss.png\")\n",
    "plt.show()\n"
   ]
  },
  {
   "cell_type": "code",
   "execution_count": null,
   "metadata": {},
   "outputs": [
    {
     "name": "stdout",
     "output_type": "stream",
     "text": [
      "[0, 0, 0, 0, 0, 0, 0, 0, 0, 0, 0, 0, 0, 0, 0, 0, 3, 0, 0, 0, 0, 0, 0, 0, 0, 1, 0, 1, 1, 3, 1, 1, 1, 1, 1, 1, 1, 1, 0, 1, 6, 1, 6, 6, 1, 4, 6, 1, 2, 1, 2, 2, 4, 2, 2, 2, 2, 2, 2, 2, 3, 0, 3, 3, 3, 3, 0, 0, 3, 3, 2, 0, 6, 6, 6, 3, 3, 3, 3, 3, 6, 6, 6, 4, 6, 4, 6, 6, 4, 4, 6, 6, 6, 6, 4, 6, 4, 6, 6, 6, 0, 0, 6, 0, 0, 6, 5, 6, 6, 6, 2, 5, 5, 6, 5, 6, 5, 5, 5, 6, 6, 6, 6, 6, 6, 6, 6, 6, 6, 6, 6, 6, 4, 6, 6, 6, 1, 6, 6, 6]\n",
      "[0, 0, 0, 0, 0, 0, 0, 0, 0, 0, 0, 0, 0, 0, 0, 0, 0, 0, 0, 0, 1, 1, 1, 1, 1, 1, 1, 1, 1, 1, 1, 1, 1, 1, 1, 1, 1, 1, 1, 1, 2, 2, 2, 2, 2, 2, 2, 2, 2, 2, 2, 2, 2, 2, 2, 2, 2, 2, 2, 2, 3, 3, 3, 3, 3, 3, 3, 3, 3, 3, 3, 3, 3, 3, 3, 3, 3, 3, 3, 3, 4, 4, 4, 4, 4, 4, 4, 4, 4, 4, 4, 4, 4, 4, 4, 4, 4, 4, 4, 4, 5, 5, 5, 5, 5, 5, 5, 5, 5, 5, 5, 5, 5, 5, 5, 5, 5, 5, 5, 5, 6, 6, 6, 6, 6, 6, 6, 6, 6, 6, 6, 6, 6, 6, 6, 6, 6, 6, 6, 6]\n"
     ]
    },
    {
     "data": {
      "image/png": "[encoded data removed]",
      "text/plain": [
       "<Figure size 432x288 with 2 Axes>"
      ]
     },
     "metadata": {
      "needs_background": "light"
     },
     "output_type": "display_data"
    },
    {
     "name": "stdout",
     "output_type": "stream",
     "text": [
      "Precision: 0.7149753518428649\n",
      "Recall: 0.6\n",
      "Accuracy: 0.6\n"
     ]
    }
   ],
   "source": [
    "# Load the test images from the folder 'test_images'\n",
    "predicted_labels= []\n",
    "true_labels = []\n",
    "directory = \"crop_dataset_test\"\n",
    "\n",
    "\n",
    "label_mapping = {\n",
    "    'aca_bd': 0,\n",
    "    'aca_md': 1,\n",
    "    'aca_pd': 2,\n",
    "    'nor' : 3,\n",
    "    'scc_bd' : 4,\n",
    "    'scc_md' : 5, \n",
    "    'scc_pd' : 6\n",
    "}\n",
    "\n",
    "\n",
    "for filename in os.listdir(directory):\n",
    "\n",
    "    # Load the image and add it to the list of test images\n",
    "    f = os.path.join(directory, filename)\n",
    "    imagen = tf.keras.preprocessing.image.load_img(f, target_size=(380,380))\n",
    "    x = tf.keras.preprocessing.image.img_to_array(imagen)    \n",
    "    x = np.expand_dims(x, axis=0)\n",
    "\n",
    "    prediction = model.predict(x)\n",
    "    predicted_class = np.argmax(prediction)\n",
    "\n",
    "    #True labels are calculated based on name. It is a very weak way of doing it. Look for a better one or rename the files\n",
    "\n",
    "    if 'aca_bd' in filename:\n",
    "        true_labels.append(0)\n",
    "    elif 'aca_md' in filename:\n",
    "        true_labels.append(1)\n",
    "    elif 'aca_pd' in filename:\n",
    "        true_labels.append(2)\n",
    "    elif 'nor' in filename:\n",
    "        true_labels.append(3)\n",
    "    elif 'scc_bd' in filename:\n",
    "        true_labels.append(4)    \n",
    "    elif 'scc_md' in filename:\n",
    "        true_labels.append(5)\n",
    "    elif 'scc_pd' in filename:\n",
    "        true_labels.append(6)\n",
    "    \n",
    "    predicted_labels.append(predicted_class)\n",
    "\n",
    "print(predicted_labels)\n",
    "print(true_labels)\n",
    "\n",
    "\n",
    "cm = confusion_matrix(true_labels, predicted_labels)\n",
    "labels = [label for label, _ in sorted(label_mapping.items(), key=lambda x: x[1])]\n",
    "disp = ConfusionMatrixDisplay(confusion_matrix=cm, display_labels=labels)\n",
    "disp.plot()\n",
    "\n",
    "plt.title(directory,  fontdict={'fontsize': 16})  # Set the new title for the plot\n",
    "plt.show()\n",
    "\n",
    "\n",
    "# Calculate precision, recall, and accuracy\n",
    "precision = precision_score(true_labels, predicted_labels, average='weighted')\n",
    "recall = recall_score(true_labels, predicted_labels, average='weighted')\n",
    "accuracy = accuracy_score(true_labels, predicted_labels)\n",
    "\n",
    "# Print the results\n",
    "print(\"Precision:\", precision)\n",
    "print(\"Recall:\", recall)\n",
    "print(\"Accuracy:\", accuracy)\n"
   ]
  },
  {
   "cell_type": "code",
   "execution_count": null,
   "metadata": {},
   "outputs": [],
   "source": []
  },
  {
   "cell_type": "code",
   "execution_count": null,
   "metadata": {},
   "outputs": [],
   "source": []
  },
  {
   "cell_type": "code",
   "execution_count": null,
   "metadata": {},
   "outputs": [],
   "source": []
  },
  {
   "cell_type": "code",
   "execution_count": null,
   "metadata": {},
   "outputs": [],
   "source": []
  }
 ],
 "metadata": {
  "kernelspec": {
   "display_name": "ml",
   "language": "python",
   "name": "python3"
  },
  "language_info": {
   "codemirror_mode": {
    "name": "ipython",
    "version": 3
   },
   "file_extension": ".py",
   "mimetype": "text/x-python",
   "name": "python",
   "nbconvert_exporter": "python",
   "pygments_lexer": "ipython3",
   "version": "3.9.12"
  },
  "orig_nbformat": 4
 },
 "nbformat": 4,
 "nbformat_minor": 2
}
